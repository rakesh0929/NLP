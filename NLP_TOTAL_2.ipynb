{
  "cells": [
    {
      "cell_type": "code",
      "execution_count": 1,
      "metadata": {
        "colab": {
          "base_uri": "https://localhost:8080/"
        },
        "id": "user name",
        "outputId": ""
      },
      "outputs": [
        {
          "output_type": "stream",
          "name": "stdout",
          "text": [
            "Warning: Looks like you're using an outdated API Version, please consider updating (server 1.5.12 / client 1.5.4)\n",
            "train.csv.zip: Skipping, found more recently modified local copy (use --force to force download)\n",
            "test.csv.zip: Skipping, found more recently modified local copy (use --force to force download)\n",
            "submit.csv: Skipping, found more recently modified local copy (use --force to force download)\n",
            "done\n",
            "done\n"
          ]
        }
      ],
      "source": [
        "# kaggle to google colab\n",
        "\n",
        "import os\n",
        "os.environ['KAGGLE_USERNAME'] = \"\" # username from the json file\n",
        "os.environ['KAGGLE_KEY'] = \"\" # key from the json file\n",
        "! kaggle competitions download -c fake-news # api copied from kaggle\n",
        "\n",
        "# Upload data\n",
        "from zipfile import ZipFile\n",
        "\n",
        "file_name = \"/content/train.csv.zip\"\n",
        "\n",
        "with ZipFile(file_name, 'r') as zip:\n",
        "  zip.extractall()\n",
        "  print('done')\n",
        "\n",
        "# Upload data\n",
        "from zipfile import ZipFile\n",
        "\n",
        "file_name = \"/content/test.csv.zip\"\n",
        "\n",
        "with ZipFile(file_name, 'r') as zip:\n",
        "  zip.extractall()\n",
        "  print('done')"
      ]
    },
    {
      "cell_type": "code",
      "execution_count": 2,
      "metadata": {
        "id": "IDfNtZ6TYl7Q"
      },
      "outputs": [],
      "source": [
        "import pandas as pd\n",
        "import numpy as np"
      ]
    },
    {
      "cell_type": "code",
      "execution_count": 3,
      "metadata": {
        "colab": {
          "base_uri": "https://localhost:8080/",
          "height": 112
        },
        "id": "YLW1ijxoYRUc",
        "outputId": "4d9df99c-c9cc-4701-af1b-6a61bfb17843"
      },
      "outputs": [
        {
          "output_type": "execute_result",
          "data": {
            "text/html": [
              "\n",
              "  <div id=\"df-6d31a4a4-6665-479e-b7f8-0051a289611e\">\n",
              "    <div class=\"colab-df-container\">\n",
              "      <div>\n",
              "<style scoped>\n",
              "    .dataframe tbody tr th:only-of-type {\n",
              "        vertical-align: middle;\n",
              "    }\n",
              "\n",
              "    .dataframe tbody tr th {\n",
              "        vertical-align: top;\n",
              "    }\n",
              "\n",
              "    .dataframe thead th {\n",
              "        text-align: right;\n",
              "    }\n",
              "</style>\n",
              "<table border=\"1\" class=\"dataframe\">\n",
              "  <thead>\n",
              "    <tr style=\"text-align: right;\">\n",
              "      <th></th>\n",
              "      <th>id</th>\n",
              "      <th>title</th>\n",
              "      <th>author</th>\n",
              "      <th>text</th>\n",
              "      <th>label</th>\n",
              "    </tr>\n",
              "  </thead>\n",
              "  <tbody>\n",
              "    <tr>\n",
              "      <th>0</th>\n",
              "      <td>0</td>\n",
              "      <td>House Dem Aide: We Didn’t Even See Comey’s Let...</td>\n",
              "      <td>Darrell Lucus</td>\n",
              "      <td>House Dem Aide: We Didn’t Even See Comey’s Let...</td>\n",
              "      <td>1</td>\n",
              "    </tr>\n",
              "    <tr>\n",
              "      <th>1</th>\n",
              "      <td>1</td>\n",
              "      <td>FLYNN: Hillary Clinton, Big Woman on Campus - ...</td>\n",
              "      <td>Daniel J. Flynn</td>\n",
              "      <td>Ever get the feeling your life circles the rou...</td>\n",
              "      <td>0</td>\n",
              "    </tr>\n",
              "  </tbody>\n",
              "</table>\n",
              "</div>\n",
              "      <button class=\"colab-df-convert\" onclick=\"convertToInteractive('df-6d31a4a4-6665-479e-b7f8-0051a289611e')\"\n",
              "              title=\"Convert this dataframe to an interactive table.\"\n",
              "              style=\"display:none;\">\n",
              "        \n",
              "  <svg xmlns=\"http://www.w3.org/2000/svg\" height=\"24px\"viewBox=\"0 0 24 24\"\n",
              "       width=\"24px\">\n",
              "    <path d=\"M0 0h24v24H0V0z\" fill=\"none\"/>\n",
              "    <path d=\"M18.56 5.44l.94 2.06.94-2.06 2.06-.94-2.06-.94-.94-2.06-.94 2.06-2.06.94zm-11 1L8.5 8.5l.94-2.06 2.06-.94-2.06-.94L8.5 2.5l-.94 2.06-2.06.94zm10 10l.94 2.06.94-2.06 2.06-.94-2.06-.94-.94-2.06-.94 2.06-2.06.94z\"/><path d=\"M17.41 7.96l-1.37-1.37c-.4-.4-.92-.59-1.43-.59-.52 0-1.04.2-1.43.59L10.3 9.45l-7.72 7.72c-.78.78-.78 2.05 0 2.83L4 21.41c.39.39.9.59 1.41.59.51 0 1.02-.2 1.41-.59l7.78-7.78 2.81-2.81c.8-.78.8-2.07 0-2.86zM5.41 20L4 18.59l7.72-7.72 1.47 1.35L5.41 20z\"/>\n",
              "  </svg>\n",
              "      </button>\n",
              "      \n",
              "  <style>\n",
              "    .colab-df-container {\n",
              "      display:flex;\n",
              "      flex-wrap:wrap;\n",
              "      gap: 12px;\n",
              "    }\n",
              "\n",
              "    .colab-df-convert {\n",
              "      background-color: #E8F0FE;\n",
              "      border: none;\n",
              "      border-radius: 50%;\n",
              "      cursor: pointer;\n",
              "      display: none;\n",
              "      fill: #1967D2;\n",
              "      height: 32px;\n",
              "      padding: 0 0 0 0;\n",
              "      width: 32px;\n",
              "    }\n",
              "\n",
              "    .colab-df-convert:hover {\n",
              "      background-color: #E2EBFA;\n",
              "      box-shadow: 0px 1px 2px rgba(60, 64, 67, 0.3), 0px 1px 3px 1px rgba(60, 64, 67, 0.15);\n",
              "      fill: #174EA6;\n",
              "    }\n",
              "\n",
              "    [theme=dark] .colab-df-convert {\n",
              "      background-color: #3B4455;\n",
              "      fill: #D2E3FC;\n",
              "    }\n",
              "\n",
              "    [theme=dark] .colab-df-convert:hover {\n",
              "      background-color: #434B5C;\n",
              "      box-shadow: 0px 1px 3px 1px rgba(0, 0, 0, 0.15);\n",
              "      filter: drop-shadow(0px 1px 2px rgba(0, 0, 0, 0.3));\n",
              "      fill: #FFFFFF;\n",
              "    }\n",
              "  </style>\n",
              "\n",
              "      <script>\n",
              "        const buttonEl =\n",
              "          document.querySelector('#df-6d31a4a4-6665-479e-b7f8-0051a289611e button.colab-df-convert');\n",
              "        buttonEl.style.display =\n",
              "          google.colab.kernel.accessAllowed ? 'block' : 'none';\n",
              "\n",
              "        async function convertToInteractive(key) {\n",
              "          const element = document.querySelector('#df-6d31a4a4-6665-479e-b7f8-0051a289611e');\n",
              "          const dataTable =\n",
              "            await google.colab.kernel.invokeFunction('convertToInteractive',\n",
              "                                                     [key], {});\n",
              "          if (!dataTable) return;\n",
              "\n",
              "          const docLinkHtml = 'Like what you see? Visit the ' +\n",
              "            '<a target=\"_blank\" href=https://colab.research.google.com/notebooks/data_table.ipynb>data table notebook</a>'\n",
              "            + ' to learn more about interactive tables.';\n",
              "          element.innerHTML = '';\n",
              "          dataTable['output_type'] = 'display_data';\n",
              "          await google.colab.output.renderOutput(dataTable, element);\n",
              "          const docLink = document.createElement('div');\n",
              "          docLink.innerHTML = docLinkHtml;\n",
              "          element.appendChild(docLink);\n",
              "        }\n",
              "      </script>\n",
              "    </div>\n",
              "  </div>\n",
              "  "
            ],
            "text/plain": [
              "   id  ... label\n",
              "0   0  ...     1\n",
              "1   1  ...     0\n",
              "\n",
              "[2 rows x 5 columns]"
            ]
          },
          "metadata": {},
          "execution_count": 3
        }
      ],
      "source": [
        "df = pd.read_csv(\"/content/train.csv\")\n",
        "df.head(2)"
      ]
    },
    {
      "cell_type": "code",
      "execution_count": 4,
      "metadata": {
        "colab": {
          "base_uri": "https://localhost:8080/"
        },
        "id": "9HV-qUfAYktn",
        "outputId": "8f3f4f92-c56c-43ee-845b-ed3f0595714b"
      },
      "outputs": [
        {
          "output_type": "execute_result",
          "data": {
            "text/plain": [
              "id           0\n",
              "title      558\n",
              "author    1957\n",
              "text        39\n",
              "label        0\n",
              "dtype: int64"
            ]
          },
          "metadata": {},
          "execution_count": 4
        }
      ],
      "source": [
        "df.isna().sum()"
      ]
    },
    {
      "cell_type": "code",
      "execution_count": 5,
      "metadata": {
        "id": "-eX6Pt8ZYsOQ"
      },
      "outputs": [],
      "source": [
        "df.dropna(inplace=True)\n",
        "df.reset_index(inplace=True)"
      ]
    },
    {
      "cell_type": "code",
      "execution_count": 6,
      "metadata": {
        "colab": {
          "base_uri": "https://localhost:8080/",
          "height": 206
        },
        "id": "ooib7cmNYyJV",
        "outputId": "908c9b9c-c53b-45b7-cf90-115060f0baa9"
      },
      "outputs": [
        {
          "output_type": "execute_result",
          "data": {
            "text/html": [
              "\n",
              "  <div id=\"df-33253095-9063-4b1a-94d8-63aa83391b9b\">\n",
              "    <div class=\"colab-df-container\">\n",
              "      <div>\n",
              "<style scoped>\n",
              "    .dataframe tbody tr th:only-of-type {\n",
              "        vertical-align: middle;\n",
              "    }\n",
              "\n",
              "    .dataframe tbody tr th {\n",
              "        vertical-align: top;\n",
              "    }\n",
              "\n",
              "    .dataframe thead th {\n",
              "        text-align: right;\n",
              "    }\n",
              "</style>\n",
              "<table border=\"1\" class=\"dataframe\">\n",
              "  <thead>\n",
              "    <tr style=\"text-align: right;\">\n",
              "      <th></th>\n",
              "      <th>index</th>\n",
              "      <th>id</th>\n",
              "      <th>title</th>\n",
              "      <th>author</th>\n",
              "      <th>text</th>\n",
              "      <th>label</th>\n",
              "    </tr>\n",
              "  </thead>\n",
              "  <tbody>\n",
              "    <tr>\n",
              "      <th>0</th>\n",
              "      <td>0</td>\n",
              "      <td>0</td>\n",
              "      <td>House Dem Aide: We Didn’t Even See Comey’s Let...</td>\n",
              "      <td>Darrell Lucus</td>\n",
              "      <td>House Dem Aide: We Didn’t Even See Comey’s Let...</td>\n",
              "      <td>1</td>\n",
              "    </tr>\n",
              "    <tr>\n",
              "      <th>1</th>\n",
              "      <td>1</td>\n",
              "      <td>1</td>\n",
              "      <td>FLYNN: Hillary Clinton, Big Woman on Campus - ...</td>\n",
              "      <td>Daniel J. Flynn</td>\n",
              "      <td>Ever get the feeling your life circles the rou...</td>\n",
              "      <td>0</td>\n",
              "    </tr>\n",
              "    <tr>\n",
              "      <th>2</th>\n",
              "      <td>2</td>\n",
              "      <td>2</td>\n",
              "      <td>Why the Truth Might Get You Fired</td>\n",
              "      <td>Consortiumnews.com</td>\n",
              "      <td>Why the Truth Might Get You Fired October 29, ...</td>\n",
              "      <td>1</td>\n",
              "    </tr>\n",
              "    <tr>\n",
              "      <th>3</th>\n",
              "      <td>3</td>\n",
              "      <td>3</td>\n",
              "      <td>15 Civilians Killed In Single US Airstrike Hav...</td>\n",
              "      <td>Jessica Purkiss</td>\n",
              "      <td>Videos 15 Civilians Killed In Single US Airstr...</td>\n",
              "      <td>1</td>\n",
              "    </tr>\n",
              "    <tr>\n",
              "      <th>4</th>\n",
              "      <td>4</td>\n",
              "      <td>4</td>\n",
              "      <td>Iranian woman jailed for fictional unpublished...</td>\n",
              "      <td>Howard Portnoy</td>\n",
              "      <td>Print \\nAn Iranian woman has been sentenced to...</td>\n",
              "      <td>1</td>\n",
              "    </tr>\n",
              "  </tbody>\n",
              "</table>\n",
              "</div>\n",
              "      <button class=\"colab-df-convert\" onclick=\"convertToInteractive('df-33253095-9063-4b1a-94d8-63aa83391b9b')\"\n",
              "              title=\"Convert this dataframe to an interactive table.\"\n",
              "              style=\"display:none;\">\n",
              "        \n",
              "  <svg xmlns=\"http://www.w3.org/2000/svg\" height=\"24px\"viewBox=\"0 0 24 24\"\n",
              "       width=\"24px\">\n",
              "    <path d=\"M0 0h24v24H0V0z\" fill=\"none\"/>\n",
              "    <path d=\"M18.56 5.44l.94 2.06.94-2.06 2.06-.94-2.06-.94-.94-2.06-.94 2.06-2.06.94zm-11 1L8.5 8.5l.94-2.06 2.06-.94-2.06-.94L8.5 2.5l-.94 2.06-2.06.94zm10 10l.94 2.06.94-2.06 2.06-.94-2.06-.94-.94-2.06-.94 2.06-2.06.94z\"/><path d=\"M17.41 7.96l-1.37-1.37c-.4-.4-.92-.59-1.43-.59-.52 0-1.04.2-1.43.59L10.3 9.45l-7.72 7.72c-.78.78-.78 2.05 0 2.83L4 21.41c.39.39.9.59 1.41.59.51 0 1.02-.2 1.41-.59l7.78-7.78 2.81-2.81c.8-.78.8-2.07 0-2.86zM5.41 20L4 18.59l7.72-7.72 1.47 1.35L5.41 20z\"/>\n",
              "  </svg>\n",
              "      </button>\n",
              "      \n",
              "  <style>\n",
              "    .colab-df-container {\n",
              "      display:flex;\n",
              "      flex-wrap:wrap;\n",
              "      gap: 12px;\n",
              "    }\n",
              "\n",
              "    .colab-df-convert {\n",
              "      background-color: #E8F0FE;\n",
              "      border: none;\n",
              "      border-radius: 50%;\n",
              "      cursor: pointer;\n",
              "      display: none;\n",
              "      fill: #1967D2;\n",
              "      height: 32px;\n",
              "      padding: 0 0 0 0;\n",
              "      width: 32px;\n",
              "    }\n",
              "\n",
              "    .colab-df-convert:hover {\n",
              "      background-color: #E2EBFA;\n",
              "      box-shadow: 0px 1px 2px rgba(60, 64, 67, 0.3), 0px 1px 3px 1px rgba(60, 64, 67, 0.15);\n",
              "      fill: #174EA6;\n",
              "    }\n",
              "\n",
              "    [theme=dark] .colab-df-convert {\n",
              "      background-color: #3B4455;\n",
              "      fill: #D2E3FC;\n",
              "    }\n",
              "\n",
              "    [theme=dark] .colab-df-convert:hover {\n",
              "      background-color: #434B5C;\n",
              "      box-shadow: 0px 1px 3px 1px rgba(0, 0, 0, 0.15);\n",
              "      filter: drop-shadow(0px 1px 2px rgba(0, 0, 0, 0.3));\n",
              "      fill: #FFFFFF;\n",
              "    }\n",
              "  </style>\n",
              "\n",
              "      <script>\n",
              "        const buttonEl =\n",
              "          document.querySelector('#df-33253095-9063-4b1a-94d8-63aa83391b9b button.colab-df-convert');\n",
              "        buttonEl.style.display =\n",
              "          google.colab.kernel.accessAllowed ? 'block' : 'none';\n",
              "\n",
              "        async function convertToInteractive(key) {\n",
              "          const element = document.querySelector('#df-33253095-9063-4b1a-94d8-63aa83391b9b');\n",
              "          const dataTable =\n",
              "            await google.colab.kernel.invokeFunction('convertToInteractive',\n",
              "                                                     [key], {});\n",
              "          if (!dataTable) return;\n",
              "\n",
              "          const docLinkHtml = 'Like what you see? Visit the ' +\n",
              "            '<a target=\"_blank\" href=https://colab.research.google.com/notebooks/data_table.ipynb>data table notebook</a>'\n",
              "            + ' to learn more about interactive tables.';\n",
              "          element.innerHTML = '';\n",
              "          dataTable['output_type'] = 'display_data';\n",
              "          await google.colab.output.renderOutput(dataTable, element);\n",
              "          const docLink = document.createElement('div');\n",
              "          docLink.innerHTML = docLinkHtml;\n",
              "          element.appendChild(docLink);\n",
              "        }\n",
              "      </script>\n",
              "    </div>\n",
              "  </div>\n",
              "  "
            ],
            "text/plain": [
              "   index  id  ...                                               text label\n",
              "0      0   0  ...  House Dem Aide: We Didn’t Even See Comey’s Let...     1\n",
              "1      1   1  ...  Ever get the feeling your life circles the rou...     0\n",
              "2      2   2  ...  Why the Truth Might Get You Fired October 29, ...     1\n",
              "3      3   3  ...  Videos 15 Civilians Killed In Single US Airstr...     1\n",
              "4      4   4  ...  Print \\nAn Iranian woman has been sentenced to...     1\n",
              "\n",
              "[5 rows x 6 columns]"
            ]
          },
          "metadata": {},
          "execution_count": 6
        }
      ],
      "source": [
        "data = df.head(1000)\n",
        "data.head()"
      ]
    },
    {
      "cell_type": "code",
      "execution_count": 7,
      "metadata": {
        "id": "dGDUCDL4Yzb1"
      },
      "outputs": [],
      "source": [
        "X = df.drop(\"label\",axis=1)\n",
        "y = df[\"label\"]"
      ]
    },
    {
      "cell_type": "code",
      "execution_count": 8,
      "metadata": {
        "colab": {
          "base_uri": "https://localhost:8080/",
          "height": 140
        },
        "id": "Wut8qzN8Y_hn",
        "outputId": "3174e922-c266-41cf-c5d8-44f8f6cf7615"
      },
      "outputs": [
        {
          "output_type": "execute_result",
          "data": {
            "application/vnd.google.colaboratory.intrinsic+json": {
              "type": "string"
            },
            "text/plain": [
              "'House Dem Aide: We Didn’t Even See Comey’s Letter Until Jason Chaffetz Tweeted It By Darrell Lucus on October 30, 2016 Subscribe Jason Chaffetz on the stump in American Fork, Utah ( image courtesy Michael Jolley, available under a Creative Commons-BY license) \\nWith apologies to Keith Olbermann, there is no doubt who the Worst Person in The World is this week–FBI Director James Comey. But according to a House Democratic aide, it looks like we also know who the second-worst person is as well. It turns out that when Comey sent his now-infamous letter announcing that the FBI was looking into emails that may be related to Hillary Clinton’s email server, the ranking Democrats on the relevant committees didn’t hear about it from Comey. They found out via a tweet from one of the Republican committee chairmen. \\nAs we now know, Comey notified the Republican chairmen and Democratic ranking members of the House Intelligence, Judiciary, and Oversight committees that his agency was reviewing emails it had recently discovered in order to see if they contained classified information. Not long after this letter went out, Oversight Committee Chairman Jason Chaffetz set the political world ablaze with this tweet. FBI Dir just informed me, \"The FBI has learned of the existence of emails that appear to be pertinent to the investigation.\" Case reopened \\n— Jason Chaffetz (@jasoninthehouse) October 28, 2016 \\nOf course, we now know that this was not the case . Comey was actually saying that it was reviewing the emails in light of “an unrelated case”–which we now know to be Anthony Weiner’s sexting with a teenager. But apparently such little things as facts didn’t matter to Chaffetz. The Utah Republican had already vowed to initiate a raft of investigations if Hillary wins–at least two years’ worth, and possibly an entire term’s worth of them. Apparently Chaffetz thought the FBI was already doing his work for him–resulting in a tweet that briefly roiled the nation before cooler heads realized it was a dud. \\nBut according to a senior House Democratic aide, misreading that letter may have been the least of Chaffetz’ sins. That aide told Shareblue that his boss and other Democrats didn’t even know about Comey’s letter at the time–and only found out when they checked Twitter. “Democratic Ranking Members on the relevant committees didn’t receive Comey’s letter until after the Republican Chairmen. In fact, the Democratic Ranking Members didn’ receive it until after the Chairman of the Oversight and Government Reform Committee, Jason Chaffetz, tweeted it out and made it public.” \\nSo let’s see if we’ve got this right. The FBI director tells Chaffetz and other GOP committee chairmen about a major development in a potentially politically explosive investigation, and neither Chaffetz nor his other colleagues had the courtesy to let their Democratic counterparts know about it. Instead, according to this aide, he made them find out about it on Twitter. \\nThere has already been talk on Daily Kos that Comey himself provided advance notice of this letter to Chaffetz and other Republicans, giving them time to turn on the spin machine. That may make for good theater, but there is nothing so far that even suggests this is the case. After all, there is nothing so far that suggests that Comey was anything other than grossly incompetent and tone-deaf. \\nWhat it does suggest, however, is that Chaffetz is acting in a way that makes Dan Burton and Darrell Issa look like models of responsibility and bipartisanship. He didn’t even have the decency to notify ranking member Elijah Cummings about something this explosive. If that doesn’t trample on basic standards of fairness, I don’t know what does. \\nGranted, it’s not likely that Chaffetz will have to answer for this. He sits in a ridiculously Republican district anchored in Provo and Orem; it has a Cook Partisan Voting Index of R+25, and gave Mitt Romney a punishing 78 percent of the vote in 2012. Moreover, the Republican House leadership has given its full support to Chaffetz’ planned fishing expedition. But that doesn’t mean we can’t turn the hot lights on him. After all, he is a textbook example of what the House has become under Republican control. And he is also the Second Worst Person in the World. About Darrell Lucus \\nDarrell is a 30-something graduate of the University of North Carolina who considers himself a journalist of the old school. An attempt to turn him into a member of the religious right in college only succeeded in turning him into the religious right\\'s worst nightmare--a charismatic Christian who is an unapologetic liberal. His desire to stand up for those who have been scared into silence only increased when he survived an abusive three-year marriage. You may know him on Daily Kos as Christian Dem in NC . Follow him on Twitter @DarrellLucus or connect with him on Facebook . Click here to buy Darrell a Mello Yello. Connect'"
            ]
          },
          "metadata": {},
          "execution_count": 8
        }
      ],
      "source": [
        "df[\"text\"][0]"
      ]
    },
    {
      "cell_type": "code",
      "execution_count": 9,
      "metadata": {
        "colab": {
          "base_uri": "https://localhost:8080/"
        },
        "id": "u5dL54f5ZHPd",
        "outputId": "8cb3fb9c-0820-4ed2-a6c8-e86a23bb45d9"
      },
      "outputs": [
        {
          "output_type": "stream",
          "name": "stdout",
          "text": [
            "[nltk_data] Downloading package wordnet to /root/nltk_data...\n",
            "[nltk_data]   Package wordnet is already up-to-date!\n",
            "[nltk_data] Downloading package stopwords to /root/nltk_data...\n",
            "[nltk_data]   Package stopwords is already up-to-date!\n",
            "[nltk_data] Downloading package punkt to /root/nltk_data...\n",
            "[nltk_data]   Package punkt is already up-to-date!\n"
          ]
        },
        {
          "output_type": "execute_result",
          "data": {
            "text/plain": [
              "True"
            ]
          },
          "metadata": {},
          "execution_count": 9
        }
      ],
      "source": [
        "import re\n",
        "import nltk\n",
        "from nltk.tokenize import sent_tokenize,word_tokenize\n",
        "from nltk.corpus import stopwords\n",
        "from nltk.stem import PorterStemmer,WordNetLemmatizer\n",
        "\n",
        "nltk.download(\"wordnet\")\n",
        "nltk.download(\"stopwords\")\n",
        "nltk.download(\"punkt\")"
      ]
    },
    {
      "cell_type": "code",
      "execution_count": 10,
      "metadata": {
        "colab": {
          "base_uri": "https://localhost:8080/"
        },
        "id": "5AZsnjq-aTNe",
        "outputId": "cce95b53-ee41-4d99-e5b6-fc6051ea7f39"
      },
      "outputs": [
        {
          "output_type": "stream",
          "name": "stdout",
          "text": [
            "['hey']\n",
            "['hi']\n",
            "['name']\n",
            "['hey', 'hi', 'name']\n"
          ]
        }
      ],
      "source": [
        "pos = PorterStemmer()\n",
        "l = []\n",
        "s = \"hey Hi @my name\"\n",
        "f = re.sub(\"[^a-zA-Z]\",\" \",s)\n",
        "d = f.lower()\n",
        "d = d.split()\n",
        "for g in d:\n",
        "  if g not in set(stopwords.words(\"english\")):\n",
        "    # print(g)\n",
        "    k = [pos.stem(g)]\n",
        "    print(k)\n",
        "    n = \" \".join(k)\n",
        "    l.append(n)\n",
        "print(l)"
      ]
    },
    {
      "cell_type": "code",
      "execution_count": 11,
      "metadata": {
        "colab": {
          "base_uri": "https://localhost:8080/"
        },
        "id": "YTTZhFkpaBZW",
        "outputId": "a3e3275e-8a90-4328-e748-3cb1394b17cf"
      },
      "outputs": [
        {
          "output_type": "execute_result",
          "data": {
            "text/plain": [
              "18285"
            ]
          },
          "metadata": {},
          "execution_count": 11
        }
      ],
      "source": [
        "len(df[\"text\"])"
      ]
    },
    {
      "cell_type": "code",
      "execution_count": 12,
      "metadata": {
        "colab": {
          "base_uri": "https://localhost:8080/"
        },
        "id": "P8PLOL8a_Oq2",
        "outputId": "46dcf257-c3dd-4d9a-91eb-dd73a7a0cf70"
      },
      "outputs": [
        {
          "output_type": "execute_result",
          "data": {
            "text/plain": [
              "1000"
            ]
          },
          "metadata": {},
          "execution_count": 12
        }
      ],
      "source": [
        "len(data[\"text\"])"
      ]
    },
    {
      "cell_type": "code",
      "execution_count": 13,
      "metadata": {
        "id": "UsuQ3MThZug-"
      },
      "outputs": [],
      "source": [
        "pos = PorterStemmer()\n",
        "corpus = []\n",
        "for i in range(len(data[\"text\"])):\n",
        "  review = re.sub(\"[^a-zA-Z]\",\" \",data[\"text\"][i])\n",
        "  review = review.lower()\n",
        "  review = review.split()\n",
        "  review = [pos.stem(word) for word in review if word not in set(stopwords.words(\"english\"))]\n",
        "  review = \" \".join(review)\n",
        "  corpus.append(review)"
      ]
    },
    {
      "cell_type": "code",
      "execution_count": 14,
      "metadata": {
        "colab": {
          "base_uri": "https://localhost:8080/",
          "height": 140
        },
        "id": "x043i0qTbBZ6",
        "outputId": "29419ed2-0295-46eb-a2e6-2092de0cf0ef"
      },
      "outputs": [
        {
          "output_type": "execute_result",
          "data": {
            "application/vnd.google.colaboratory.intrinsic+json": {
              "type": "string"
            },
            "text/plain": [
              "'hous dem aid even see comey letter jason chaffetz tweet darrel lucu octob subscrib jason chaffetz stump american fork utah imag courtesi michael jolley avail creativ common licens apolog keith olbermann doubt worst person world week fbi director jame comey accord hous democrat aid look like also know second worst person well turn comey sent infam letter announc fbi look email may relat hillari clinton email server rank democrat relev committe hear comey found via tweet one republican committe chairmen know comey notifi republican chairmen democrat rank member hous intellig judiciari oversight committe agenc review email recent discov order see contain classifi inform long letter went oversight committe chairman jason chaffetz set polit world ablaz tweet fbi dir inform fbi learn exist email appear pertin investig case reopen jason chaffetz jasoninthehous octob cours know case comey actual say review email light unrel case know anthoni weiner sext teenag appar littl thing fact matter chaffetz utah republican alreadi vow initi raft investig hillari win least two year worth possibl entir term worth appar chaffetz thought fbi alreadi work result tweet briefli roil nation cooler head realiz dud accord senior hous democrat aid misread letter may least chaffetz sin aid told shareblu boss democrat even know comey letter time found check twitter democrat rank member relev committe receiv comey letter republican chairmen fact democrat rank member receiv chairman oversight govern reform committe jason chaffetz tweet made public let see got right fbi director tell chaffetz gop committe chairmen major develop potenti polit explos investig neither chaffetz colleagu courtesi let democrat counterpart know instead accord aid made find twitter alreadi talk daili ko comey provid advanc notic letter chaffetz republican give time turn spin machin may make good theater noth far even suggest case noth far suggest comey anyth grossli incompet tone deaf suggest howev chaffetz act way make dan burton darrel issa look like model respons bipartisanship even decenc notifi rank member elijah cum someth explos trampl basic standard fair know grant like chaffetz answer sit ridicul republican district anchor provo orem cook partisan vote index r gave mitt romney punish percent vote moreov republican hous leadership given full support chaffetz plan fish expedit mean turn hot light textbook exampl hous becom republican control also second worst person world darrel lucu darrel someth graduat univers north carolina consid journalist old school attempt turn member religi right colleg succeed turn religi right worst nightmar charismat christian unapologet liber desir stand scare silenc increas surviv abus three year marriag may know daili ko christian dem nc follow twitter darrelllucu connect facebook click buy darrel mello yello connect'"
            ]
          },
          "metadata": {},
          "execution_count": 14
        }
      ],
      "source": [
        "corpus[0]"
      ]
    },
    {
      "cell_type": "code",
      "execution_count": 15,
      "metadata": {
        "colab": {
          "base_uri": "https://localhost:8080/"
        },
        "id": "N4sIPDixx0qZ",
        "outputId": "e13446a2-5226-4664-b1f7-50066d2d52af"
      },
      "outputs": [
        {
          "output_type": "execute_result",
          "data": {
            "text/plain": [
              "array([[0, 0, 0, ..., 0, 0, 0],\n",
              "       [0, 0, 0, ..., 0, 0, 0],\n",
              "       [0, 0, 0, ..., 0, 0, 0],\n",
              "       ...,\n",
              "       [0, 0, 0, ..., 0, 0, 0],\n",
              "       [0, 0, 0, ..., 0, 0, 0],\n",
              "       [0, 0, 0, ..., 0, 0, 0]])"
            ]
          },
          "metadata": {},
          "execution_count": 15
        }
      ],
      "source": [
        "from sklearn.feature_extraction.text import CountVectorizer\n",
        "count_vector = CountVectorizer(max_features=5000)\n",
        "X = count_vector.fit_transform((corpus)).toarray()\n",
        "X"
      ]
    },
    {
      "cell_type": "code",
      "execution_count": 16,
      "metadata": {
        "id": "OsjRArN4yTM9"
      },
      "outputs": [],
      "source": [
        "from sklearn.model_selection import train_test_split\n",
        "x_train,x_test,y_train,y_test = train_test_split(X,data[\"label\"],test_size=0.2,random_state=True)"
      ]
    },
    {
      "cell_type": "code",
      "execution_count": 17,
      "metadata": {
        "colab": {
          "base_uri": "https://localhost:8080/"
        },
        "id": "kmQ9RgFz3WeW",
        "outputId": "7fa77ab5-a693-4333-8109-0f562b8d444d"
      },
      "outputs": [
        {
          "output_type": "stream",
          "name": "stderr",
          "text": [
            "/usr/local/lib/python3.7/dist-packages/sklearn/utils/deprecation.py:87: FutureWarning: Function get_feature_names is deprecated; get_feature_names is deprecated in 1.0 and will be removed in 1.2. Please use get_feature_names_out instead.\n",
            "  warnings.warn(msg, category=FutureWarning)\n"
          ]
        },
        {
          "output_type": "execute_result",
          "data": {
            "text/plain": [
              "5000"
            ]
          },
          "metadata": {},
          "execution_count": 17
        }
      ],
      "source": [
        "len(count_vector.get_feature_names())"
      ]
    },
    {
      "cell_type": "code",
      "execution_count": 18,
      "metadata": {
        "colab": {
          "base_uri": "https://localhost:8080/"
        },
        "id": "BXgQa_FA-SG_",
        "outputId": "b4f156e5-cdb7-48a6-b1ba-feca0d81a0cb"
      },
      "outputs": [
        {
          "output_type": "execute_result",
          "data": {
            "text/plain": [
              "MultinomialNB(alpha=0.1)"
            ]
          },
          "metadata": {},
          "execution_count": 18
        }
      ],
      "source": [
        "from sklearn.naive_bayes import MultinomialNB\n",
        "multi = MultinomialNB(alpha=0.1)\n",
        "multi.fit(x_train,y_train)"
      ]
    },
    {
      "cell_type": "code",
      "execution_count": 19,
      "metadata": {
        "colab": {
          "base_uri": "https://localhost:8080/"
        },
        "id": "YcNPiFbdAG8I",
        "outputId": "280d4d37-af93-4560-8fc2-673719e5403e"
      },
      "outputs": [
        {
          "output_type": "execute_result",
          "data": {
            "text/plain": [
              "array([1, 0, 0, 1, 1])"
            ]
          },
          "metadata": {},
          "execution_count": 19
        }
      ],
      "source": [
        "pred = multi.predict(x_test)\n",
        "pred[:5]"
      ]
    },
    {
      "cell_type": "code",
      "execution_count": 20,
      "metadata": {
        "colab": {
          "base_uri": "https://localhost:8080/"
        },
        "id": "lqr-NxyrAVEh",
        "outputId": "e1a23baa-b564-45a9-f7da-f1bf123fb02d"
      },
      "outputs": [
        {
          "output_type": "execute_result",
          "data": {
            "text/plain": [
              "507    1\n",
              "818    0\n",
              "452    0\n",
              "368    1\n",
              "242    1\n",
              "Name: label, dtype: int64"
            ]
          },
          "metadata": {},
          "execution_count": 20
        }
      ],
      "source": [
        "y_test[:5]"
      ]
    },
    {
      "cell_type": "code",
      "execution_count": 21,
      "metadata": {
        "colab": {
          "base_uri": "https://localhost:8080/"
        },
        "id": "bFLark-_AZfY",
        "outputId": "fd263ccb-8c9c-411b-f5ea-62592daa68f6"
      },
      "outputs": [
        {
          "output_type": "execute_result",
          "data": {
            "text/plain": [
              "{'analyzer': 'word',\n",
              " 'binary': False,\n",
              " 'decode_error': 'strict',\n",
              " 'dtype': numpy.int64,\n",
              " 'encoding': 'utf-8',\n",
              " 'input': 'content',\n",
              " 'lowercase': True,\n",
              " 'max_df': 1.0,\n",
              " 'max_features': 5000,\n",
              " 'min_df': 1,\n",
              " 'ngram_range': (1, 1),\n",
              " 'preprocessor': None,\n",
              " 'stop_words': None,\n",
              " 'strip_accents': None,\n",
              " 'token_pattern': '(?u)\\\\b\\\\w\\\\w+\\\\b',\n",
              " 'tokenizer': None,\n",
              " 'vocabulary': None}"
            ]
          },
          "metadata": {},
          "execution_count": 21
        }
      ],
      "source": [
        "count_vector.get_params()"
      ]
    },
    {
      "cell_type": "code",
      "execution_count": 22,
      "metadata": {
        "colab": {
          "base_uri": "https://localhost:8080/",
          "height": 346
        },
        "id": "r6vRBKJEA11o",
        "outputId": "1001828b-cb98-43d7-df91-fe4228ac7924"
      },
      "outputs": [
        {
          "output_type": "stream",
          "name": "stdout",
          "text": [
            "accuracy:   91.500\n",
            "Confusion matrix, without normalization\n"
          ]
        },
        {
          "output_type": "display_data",
          "data": {
            "image/png": "[encoded data removed]",
            "text/plain": [
              "<Figure size 432x288 with 2 Axes>"
            ]
          },
          "metadata": {
            "needs_background": "light"
          }
        }
      ],
      "source": [
        "from sklearn import metrics\n",
        "import matplotlib.pyplot as plt\n",
        "import itertools\n",
        "\n",
        "\n",
        "def plot_confusion_matrix(cm, classes,\n",
        "                          normalize=False,\n",
        "                          title='Confusion matrix',\n",
        "                          cmap=plt.cm.Blues):\n",
        "    \"\"\"\n",
        "    See full source and example: \n",
        "    http://scikit-learn.org/stable/auto_examples/model_selection/plot_confusion_matrix.html\n",
        "    \n",
        "    This function prints and plots the confusion matrix.\n",
        "    Normalization can be applied by setting `normalize=True`.\n",
        "    \"\"\"\n",
        "    plt.imshow(cm, interpolation='nearest', cmap=cmap)\n",
        "    plt.title(title)\n",
        "    plt.colorbar()\n",
        "    tick_marks = np.arange(len(classes))\n",
        "    plt.xticks(tick_marks, classes, rotation=45)\n",
        "    plt.yticks(tick_marks, classes)\n",
        "\n",
        "    if normalize:\n",
        "        cm = cm.astype('float') / cm.sum(axis=1)[:, np.newaxis]\n",
        "        print(\"Normalized confusion matrix\")\n",
        "    else:\n",
        "        print('Confusion matrix, without normalization')\n",
        "\n",
        "    thresh = cm.max() / 2.\n",
        "    for i, j in itertools.product(range(cm.shape[0]), range(cm.shape[1])):\n",
        "        plt.text(j, i, cm[i, j],\n",
        "                 horizontalalignment=\"center\",\n",
        "                 color=\"white\" if cm[i, j] > thresh else \"black\")\n",
        "\n",
        "    plt.tight_layout()\n",
        "    plt.ylabel('True label')\n",
        "    plt.xlabel('Predicted label')\n",
        "\n",
        "\n",
        "multi.fit(x_train, y_train)\n",
        "pred = multi.predict(x_test)\n",
        "score = metrics.accuracy_score(y_test, pred)*100\n",
        "print(\"accuracy:   %0.3f\" % score)\n",
        "cm = metrics.confusion_matrix(y_test, pred)\n",
        "plot_confusion_matrix(cm, classes=['FAKE', 'REAL'])"
      ]
    },
    {
      "cell_type": "code",
      "execution_count": 23,
      "metadata": {
        "colab": {
          "base_uri": "https://localhost:8080/"
        },
        "id": "o7-INSkABlNi",
        "outputId": "1e144a0f-9a12-4c3f-bf7b-bb8e1a470721"
      },
      "outputs": [
        {
          "output_type": "stream",
          "name": "stderr",
          "text": [
            "/usr/local/lib/python3.7/dist-packages/sklearn/naive_bayes.py:557: UserWarning: alpha too small will result in numeric errors, setting alpha = 1.0e-10\n",
            "  % _ALPHA_MIN\n"
          ]
        },
        {
          "output_type": "stream",
          "name": "stdout",
          "text": [
            "Alpha : 0.0 , score : 0.895\n",
            "Alpha : 0.1 , score : 0.915\n",
            "Alpha : 0.2 , score : 0.92\n",
            "Alpha : 0.30000000000000004 , score : 0.91\n",
            "Alpha : 0.4 , score : 0.91\n",
            "Alpha : 0.5 , score : 0.91\n",
            "Alpha : 0.6000000000000001 , score : 0.91\n",
            "Alpha : 0.7000000000000001 , score : 0.91\n",
            "Alpha : 0.8 , score : 0.91\n",
            "Alpha : 0.9 , score : 0.91\n"
          ]
        }
      ],
      "source": [
        "classifier=MultinomialNB(alpha=0.1)\n",
        "\n",
        "previous_score = 0\n",
        "for i in np.arange(0,1,0.1):\n",
        "  sub_class = MultinomialNB(alpha=i)\n",
        "  sub_class.fit(x_train,y_train)\n",
        "  pred = sub_class.predict(x_test)\n",
        "  score = metrics.accuracy_score(y_test,pred)\n",
        "  if score > previous_score:\n",
        "    classifier = sub_class\n",
        "  # print(f'this is the best score {(list(score).max())}')\n",
        "  print(f'Alpha : {i} , score : {score}')"
      ]
    },
    {
      "cell_type": "code",
      "execution_count": 24,
      "metadata": {
        "colab": {
          "base_uri": "https://localhost:8080/",
          "height": 233
        },
        "id": "KjswxDSwCv39",
        "outputId": "4de279ba-29b8-4e52-ae5f-8d6cda8c4e73"
      },
      "outputs": [
        {
          "output_type": "stream",
          "name": "stderr",
          "text": [
            "/usr/local/lib/python3.7/dist-packages/sklearn/utils/deprecation.py:103: FutureWarning: Attribute `coef_` was deprecated in version 0.24 and will be removed in 1.1 (renaming of 0.26).\n",
            "  warnings.warn(msg, category=FutureWarning)\n",
            "/usr/local/lib/python3.7/dist-packages/sklearn/utils/deprecation.py:87: FutureWarning: Function get_feature_names is deprecated; get_feature_names is deprecated in 1.0 and will be removed in 1.2. Please use get_feature_names_out instead.\n",
            "  warnings.warn(msg, category=FutureWarning)\n"
          ]
        },
        {
          "output_type": "execute_result",
          "data": {
            "text/html": [
              "\n",
              "  <div id=\"df-d444c52c-c423-4fcf-b81e-3f8439cc5a87\">\n",
              "    <div class=\"colab-df-container\">\n",
              "      <div>\n",
              "<style scoped>\n",
              "    .dataframe tbody tr th:only-of-type {\n",
              "        vertical-align: middle;\n",
              "    }\n",
              "\n",
              "    .dataframe tbody tr th {\n",
              "        vertical-align: top;\n",
              "    }\n",
              "\n",
              "    .dataframe thead th {\n",
              "        text-align: right;\n",
              "    }\n",
              "</style>\n",
              "<table border=\"1\" class=\"dataframe\">\n",
              "  <thead>\n",
              "    <tr style=\"text-align: right;\">\n",
              "      <th></th>\n",
              "      <th>values</th>\n",
              "      <th>features</th>\n",
              "    </tr>\n",
              "  </thead>\n",
              "  <tbody>\n",
              "    <tr>\n",
              "      <th>0</th>\n",
              "      <td>-11.057752</td>\n",
              "      <td>aaron</td>\n",
              "    </tr>\n",
              "    <tr>\n",
              "      <th>1</th>\n",
              "      <td>-14.102275</td>\n",
              "      <td>abadi</td>\n",
              "    </tr>\n",
              "    <tr>\n",
              "      <th>2</th>\n",
              "      <td>-8.850001</td>\n",
              "      <td>abandon</td>\n",
              "    </tr>\n",
              "  </tbody>\n",
              "</table>\n",
              "</div>\n",
              "      <button class=\"colab-df-convert\" onclick=\"convertToInteractive('df-d444c52c-c423-4fcf-b81e-3f8439cc5a87')\"\n",
              "              title=\"Convert this dataframe to an interactive table.\"\n",
              "              style=\"display:none;\">\n",
              "        \n",
              "  <svg xmlns=\"http://www.w3.org/2000/svg\" height=\"24px\"viewBox=\"0 0 24 24\"\n",
              "       width=\"24px\">\n",
              "    <path d=\"M0 0h24v24H0V0z\" fill=\"none\"/>\n",
              "    <path d=\"M18.56 5.44l.94 2.06.94-2.06 2.06-.94-2.06-.94-.94-2.06-.94 2.06-2.06.94zm-11 1L8.5 8.5l.94-2.06 2.06-.94-2.06-.94L8.5 2.5l-.94 2.06-2.06.94zm10 10l.94 2.06.94-2.06 2.06-.94-2.06-.94-.94-2.06-.94 2.06-2.06.94z\"/><path d=\"M17.41 7.96l-1.37-1.37c-.4-.4-.92-.59-1.43-.59-.52 0-1.04.2-1.43.59L10.3 9.45l-7.72 7.72c-.78.78-.78 2.05 0 2.83L4 21.41c.39.39.9.59 1.41.59.51 0 1.02-.2 1.41-.59l7.78-7.78 2.81-2.81c.8-.78.8-2.07 0-2.86zM5.41 20L4 18.59l7.72-7.72 1.47 1.35L5.41 20z\"/>\n",
              "  </svg>\n",
              "      </button>\n",
              "      \n",
              "  <style>\n",
              "    .colab-df-container {\n",
              "      display:flex;\n",
              "      flex-wrap:wrap;\n",
              "      gap: 12px;\n",
              "    }\n",
              "\n",
              "    .colab-df-convert {\n",
              "      background-color: #E8F0FE;\n",
              "      border: none;\n",
              "      border-radius: 50%;\n",
              "      cursor: pointer;\n",
              "      display: none;\n",
              "      fill: #1967D2;\n",
              "      height: 32px;\n",
              "      padding: 0 0 0 0;\n",
              "      width: 32px;\n",
              "    }\n",
              "\n",
              "    .colab-df-convert:hover {\n",
              "      background-color: #E2EBFA;\n",
              "      box-shadow: 0px 1px 2px rgba(60, 64, 67, 0.3), 0px 1px 3px 1px rgba(60, 64, 67, 0.15);\n",
              "      fill: #174EA6;\n",
              "    }\n",
              "\n",
              "    [theme=dark] .colab-df-convert {\n",
              "      background-color: #3B4455;\n",
              "      fill: #D2E3FC;\n",
              "    }\n",
              "\n",
              "    [theme=dark] .colab-df-convert:hover {\n",
              "      background-color: #434B5C;\n",
              "      box-shadow: 0px 1px 3px 1px rgba(0, 0, 0, 0.15);\n",
              "      filter: drop-shadow(0px 1px 2px rgba(0, 0, 0, 0.3));\n",
              "      fill: #FFFFFF;\n",
              "    }\n",
              "  </style>\n",
              "\n",
              "      <script>\n",
              "        const buttonEl =\n",
              "          document.querySelector('#df-d444c52c-c423-4fcf-b81e-3f8439cc5a87 button.colab-df-convert');\n",
              "        buttonEl.style.display =\n",
              "          google.colab.kernel.accessAllowed ? 'block' : 'none';\n",
              "\n",
              "        async function convertToInteractive(key) {\n",
              "          const element = document.querySelector('#df-d444c52c-c423-4fcf-b81e-3f8439cc5a87');\n",
              "          const dataTable =\n",
              "            await google.colab.kernel.invokeFunction('convertToInteractive',\n",
              "                                                     [key], {});\n",
              "          if (!dataTable) return;\n",
              "\n",
              "          const docLinkHtml = 'Like what you see? Visit the ' +\n",
              "            '<a target=\"_blank\" href=https://colab.research.google.com/notebooks/data_table.ipynb>data table notebook</a>'\n",
              "            + ' to learn more about interactive tables.';\n",
              "          element.innerHTML = '';\n",
              "          dataTable['output_type'] = 'display_data';\n",
              "          await google.colab.output.renderOutput(dataTable, element);\n",
              "          const docLink = document.createElement('div');\n",
              "          docLink.innerHTML = docLinkHtml;\n",
              "          element.appendChild(docLink);\n",
              "        }\n",
              "      </script>\n",
              "    </div>\n",
              "  </div>\n",
              "  "
            ],
            "text/plain": [
              "      values features\n",
              "0 -11.057752    aaron\n",
              "1 -14.102275    abadi\n",
              "2  -8.850001  abandon"
            ]
          },
          "metadata": {},
          "execution_count": 24
        }
      ],
      "source": [
        "drop_max_features_values = pd.DataFrame({\n",
        "    \"values\" : multi.coef_[0],\n",
        "    \"features\" : count_vector.get_feature_names()})\n",
        "drop_max_features_values.head(3)"
      ]
    },
    {
      "cell_type": "code",
      "execution_count": 25,
      "metadata": {
        "colab": {
          "base_uri": "https://localhost:8080/",
          "height": 423
        },
        "id": "n1ChF76KDpNt",
        "outputId": "3692328d-85a2-4932-e5f7-1c66cb42de9d"
      },
      "outputs": [
        {
          "output_type": "execute_result",
          "data": {
            "text/html": [
              "\n",
              "  <div id=\"df-a3ac8c94-433a-42d2-99a8-fc2696d3f410\">\n",
              "    <div class=\"colab-df-container\">\n",
              "      <div>\n",
              "<style scoped>\n",
              "    .dataframe tbody tr th:only-of-type {\n",
              "        vertical-align: middle;\n",
              "    }\n",
              "\n",
              "    .dataframe tbody tr th {\n",
              "        vertical-align: top;\n",
              "    }\n",
              "\n",
              "    .dataframe thead th {\n",
              "        text-align: right;\n",
              "    }\n",
              "</style>\n",
              "<table border=\"1\" class=\"dataframe\">\n",
              "  <thead>\n",
              "    <tr style=\"text-align: right;\">\n",
              "      <th></th>\n",
              "      <th>values</th>\n",
              "      <th>features</th>\n",
              "    </tr>\n",
              "  </thead>\n",
              "  <tbody>\n",
              "    <tr>\n",
              "      <th>4999</th>\n",
              "      <td>-14.102275</td>\n",
              "      <td>zorn</td>\n",
              "    </tr>\n",
              "    <tr>\n",
              "      <th>2576</th>\n",
              "      <td>-14.102275</td>\n",
              "      <td>lewinski</td>\n",
              "    </tr>\n",
              "    <tr>\n",
              "      <th>2625</th>\n",
              "      <td>-14.102275</td>\n",
              "      <td>locht</td>\n",
              "    </tr>\n",
              "    <tr>\n",
              "      <th>2633</th>\n",
              "      <td>-14.102275</td>\n",
              "      <td>lonesom</td>\n",
              "    </tr>\n",
              "    <tr>\n",
              "      <th>350</th>\n",
              "      <td>-14.102275</td>\n",
              "      <td>baldwin</td>\n",
              "    </tr>\n",
              "    <tr>\n",
              "      <th>...</th>\n",
              "      <td>...</td>\n",
              "      <td>...</td>\n",
              "    </tr>\n",
              "    <tr>\n",
              "      <th>4748</th>\n",
              "      <td>-5.402593</td>\n",
              "      <td>us</td>\n",
              "    </tr>\n",
              "    <tr>\n",
              "      <th>3110</th>\n",
              "      <td>-5.264303</td>\n",
              "      <td>one</td>\n",
              "    </tr>\n",
              "    <tr>\n",
              "      <th>4251</th>\n",
              "      <td>-5.230068</td>\n",
              "      <td>state</td>\n",
              "    </tr>\n",
              "    <tr>\n",
              "      <th>817</th>\n",
              "      <td>-5.224474</td>\n",
              "      <td>clinton</td>\n",
              "    </tr>\n",
              "    <tr>\n",
              "      <th>4640</th>\n",
              "      <td>-4.996073</td>\n",
              "      <td>trump</td>\n",
              "    </tr>\n",
              "  </tbody>\n",
              "</table>\n",
              "<p>5000 rows × 2 columns</p>\n",
              "</div>\n",
              "      <button class=\"colab-df-convert\" onclick=\"convertToInteractive('df-a3ac8c94-433a-42d2-99a8-fc2696d3f410')\"\n",
              "              title=\"Convert this dataframe to an interactive table.\"\n",
              "              style=\"display:none;\">\n",
              "        \n",
              "  <svg xmlns=\"http://www.w3.org/2000/svg\" height=\"24px\"viewBox=\"0 0 24 24\"\n",
              "       width=\"24px\">\n",
              "    <path d=\"M0 0h24v24H0V0z\" fill=\"none\"/>\n",
              "    <path d=\"M18.56 5.44l.94 2.06.94-2.06 2.06-.94-2.06-.94-.94-2.06-.94 2.06-2.06.94zm-11 1L8.5 8.5l.94-2.06 2.06-.94-2.06-.94L8.5 2.5l-.94 2.06-2.06.94zm10 10l.94 2.06.94-2.06 2.06-.94-2.06-.94-.94-2.06-.94 2.06-2.06.94z\"/><path d=\"M17.41 7.96l-1.37-1.37c-.4-.4-.92-.59-1.43-.59-.52 0-1.04.2-1.43.59L10.3 9.45l-7.72 7.72c-.78.78-.78 2.05 0 2.83L4 21.41c.39.39.9.59 1.41.59.51 0 1.02-.2 1.41-.59l7.78-7.78 2.81-2.81c.8-.78.8-2.07 0-2.86zM5.41 20L4 18.59l7.72-7.72 1.47 1.35L5.41 20z\"/>\n",
              "  </svg>\n",
              "      </button>\n",
              "      \n",
              "  <style>\n",
              "    .colab-df-container {\n",
              "      display:flex;\n",
              "      flex-wrap:wrap;\n",
              "      gap: 12px;\n",
              "    }\n",
              "\n",
              "    .colab-df-convert {\n",
              "      background-color: #E8F0FE;\n",
              "      border: none;\n",
              "      border-radius: 50%;\n",
              "      cursor: pointer;\n",
              "      display: none;\n",
              "      fill: #1967D2;\n",
              "      height: 32px;\n",
              "      padding: 0 0 0 0;\n",
              "      width: 32px;\n",
              "    }\n",
              "\n",
              "    .colab-df-convert:hover {\n",
              "      background-color: #E2EBFA;\n",
              "      box-shadow: 0px 1px 2px rgba(60, 64, 67, 0.3), 0px 1px 3px 1px rgba(60, 64, 67, 0.15);\n",
              "      fill: #174EA6;\n",
              "    }\n",
              "\n",
              "    [theme=dark] .colab-df-convert {\n",
              "      background-color: #3B4455;\n",
              "      fill: #D2E3FC;\n",
              "    }\n",
              "\n",
              "    [theme=dark] .colab-df-convert:hover {\n",
              "      background-color: #434B5C;\n",
              "      box-shadow: 0px 1px 3px 1px rgba(0, 0, 0, 0.15);\n",
              "      filter: drop-shadow(0px 1px 2px rgba(0, 0, 0, 0.3));\n",
              "      fill: #FFFFFF;\n",
              "    }\n",
              "  </style>\n",
              "\n",
              "      <script>\n",
              "        const buttonEl =\n",
              "          document.querySelector('#df-a3ac8c94-433a-42d2-99a8-fc2696d3f410 button.colab-df-convert');\n",
              "        buttonEl.style.display =\n",
              "          google.colab.kernel.accessAllowed ? 'block' : 'none';\n",
              "\n",
              "        async function convertToInteractive(key) {\n",
              "          const element = document.querySelector('#df-a3ac8c94-433a-42d2-99a8-fc2696d3f410');\n",
              "          const dataTable =\n",
              "            await google.colab.kernel.invokeFunction('convertToInteractive',\n",
              "                                                     [key], {});\n",
              "          if (!dataTable) return;\n",
              "\n",
              "          const docLinkHtml = 'Like what you see? Visit the ' +\n",
              "            '<a target=\"_blank\" href=https://colab.research.google.com/notebooks/data_table.ipynb>data table notebook</a>'\n",
              "            + ' to learn more about interactive tables.';\n",
              "          element.innerHTML = '';\n",
              "          dataTable['output_type'] = 'display_data';\n",
              "          await google.colab.output.renderOutput(dataTable, element);\n",
              "          const docLink = document.createElement('div');\n",
              "          docLink.innerHTML = docLinkHtml;\n",
              "          element.appendChild(docLink);\n",
              "        }\n",
              "      </script>\n",
              "    </div>\n",
              "  </div>\n",
              "  "
            ],
            "text/plain": [
              "         values  features\n",
              "4999 -14.102275      zorn\n",
              "2576 -14.102275  lewinski\n",
              "2625 -14.102275     locht\n",
              "2633 -14.102275   lonesom\n",
              "350  -14.102275   baldwin\n",
              "...         ...       ...\n",
              "4748  -5.402593        us\n",
              "3110  -5.264303       one\n",
              "4251  -5.230068     state\n",
              "817   -5.224474   clinton\n",
              "4640  -4.996073     trump\n",
              "\n",
              "[5000 rows x 2 columns]"
            ]
          },
          "metadata": {},
          "execution_count": 25
        }
      ],
      "source": [
        "drop_max_features_values.sort_values(by=\"values\")"
      ]
    },
    {
      "cell_type": "markdown",
      "source": [
        "# **Implementing Word Embedding Using Keras**"
      ],
      "metadata": {
        "id": "bmBnMSbhYuU_"
      }
    },
    {
      "cell_type": "code",
      "execution_count": 26,
      "metadata": {
        "id": "9QsE2N2RED85"
      },
      "outputs": [],
      "source": [
        "### sentences\n",
        "sent=[  'the glass of milk',\n",
        "     'the glass of juice',\n",
        "     'the cup of tea',\n",
        "    'I am a good boy',\n",
        "     'I am a good developer',\n",
        "     'understand the meaning of words',\n",
        "     'your videos are good',]"
      ]
    },
    {
      "cell_type": "code",
      "source": [
        "import tensorflow as tf\n",
        "from tensorflow import keras"
      ],
      "metadata": {
        "id": "Y7Ul8zIBmkxX"
      },
      "execution_count": 27,
      "outputs": []
    },
    {
      "cell_type": "code",
      "source": [
        "tf.__version__"
      ],
      "metadata": {
        "colab": {
          "base_uri": "https://localhost:8080/",
          "height": 35
        },
        "id": "_8HGK10RmtVn",
        "outputId": "077c2106-d85f-4907-addc-e149b1caf2e2"
      },
      "execution_count": 28,
      "outputs": [
        {
          "output_type": "execute_result",
          "data": {
            "application/vnd.google.colaboratory.intrinsic+json": {
              "type": "string"
            },
            "text/plain": [
              "'2.7.0'"
            ]
          },
          "metadata": {},
          "execution_count": 28
        }
      ]
    },
    {
      "cell_type": "code",
      "source": [
        "from keras.preprocessing.text import one_hot"
      ],
      "metadata": {
        "id": "16PTbPCnmv3a"
      },
      "execution_count": 29,
      "outputs": []
    },
    {
      "cell_type": "code",
      "source": [
        "voc_size=10000"
      ],
      "metadata": {
        "id": "BRNq0IA2m-lL"
      },
      "execution_count": 30,
      "outputs": []
    },
    {
      "cell_type": "code",
      "source": [
        "one_hot_word = [one_hot(words,voc_size) for words in sent]\n",
        "one_hot_word"
      ],
      "metadata": {
        "colab": {
          "base_uri": "https://localhost:8080/"
        },
        "id": "LvUnW81enUAR",
        "outputId": "3905bd16-d319-4eed-8e21-ac90966b9818"
      },
      "execution_count": 31,
      "outputs": [
        {
          "output_type": "execute_result",
          "data": {
            "text/plain": [
              "[[9035, 3522, 7179, 7185],\n",
              " [9035, 3522, 7179, 3275],\n",
              " [9035, 3757, 7179, 9425],\n",
              " [2157, 6147, 9023, 3599, 4440],\n",
              " [2157, 6147, 9023, 3599, 166],\n",
              " [62, 9035, 5144, 7179, 1277],\n",
              " [6290, 9427, 379, 3599]]"
            ]
          },
          "metadata": {},
          "execution_count": 31
        }
      ]
    },
    {
      "cell_type": "code",
      "source": [
        "from tensorflow.keras.layers import Embedding\n",
        "\n",
        "## embedding layer \n",
        "from tensorflow.keras.preprocessing.sequence import pad_sequences  \n",
        "\n",
        "\n",
        "## used for the keeping all this in one vector like a 300 dim all layers as you can \n",
        "## see some are having large some are having less so we have to make it equal so we use pad_sequence\n",
        "from tensorflow.keras.models import Sequential\n",
        "\n",
        "## it is used to create a model"
      ],
      "metadata": {
        "id": "SFGkE_5Eni7-"
      },
      "execution_count": 32,
      "outputs": []
    },
    {
      "cell_type": "code",
      "source": [
        "embeddin_layer = pad_sequences(one_hot_word,maxlen=10)\n",
        "embeddin_layer"
      ],
      "metadata": {
        "colab": {
          "base_uri": "https://localhost:8080/"
        },
        "id": "QuGD6fdapV2_",
        "outputId": "ce26e1ed-3c8d-4168-f5f5-c2447a2d1a24"
      },
      "execution_count": 33,
      "outputs": [
        {
          "output_type": "execute_result",
          "data": {
            "text/plain": [
              "array([[   0,    0,    0,    0,    0,    0, 9035, 3522, 7179, 7185],\n",
              "       [   0,    0,    0,    0,    0,    0, 9035, 3522, 7179, 3275],\n",
              "       [   0,    0,    0,    0,    0,    0, 9035, 3757, 7179, 9425],\n",
              "       [   0,    0,    0,    0,    0, 2157, 6147, 9023, 3599, 4440],\n",
              "       [   0,    0,    0,    0,    0, 2157, 6147, 9023, 3599,  166],\n",
              "       [   0,    0,    0,    0,    0,   62, 9035, 5144, 7179, 1277],\n",
              "       [   0,    0,    0,    0,    0,    0, 6290, 9427,  379, 3599]],\n",
              "      dtype=int32)"
            ]
          },
          "metadata": {},
          "execution_count": 33
        }
      ]
    },
    {
      "cell_type": "code",
      "source": [
        "model = Sequential()\n",
        "model.add(Embedding(voc_size,10,input_length=10))\n",
        "model.compile(\"adam\",\"mse\")\n",
        "model.summary()"
      ],
      "metadata": {
        "colab": {
          "base_uri": "https://localhost:8080/"
        },
        "id": "EukiCZDEppa9",
        "outputId": "0a9d3cad-5a0d-4780-ae90-ed87a4646f96"
      },
      "execution_count": 34,
      "outputs": [
        {
          "output_type": "stream",
          "name": "stdout",
          "text": [
            "Model: \"sequential\"\n",
            "_________________________________________________________________\n",
            " Layer (type)                Output Shape              Param #   \n",
            "=================================================================\n",
            " embedding (Embedding)       (None, 10, 10)            100000    \n",
            "                                                                 \n",
            "=================================================================\n",
            "Total params: 100,000\n",
            "Trainable params: 100,000\n",
            "Non-trainable params: 0\n",
            "_________________________________________________________________\n"
          ]
        }
      ]
    },
    {
      "cell_type": "code",
      "source": [
        "print(model.predict(embeddin_layer)[0])"
      ],
      "metadata": {
        "colab": {
          "base_uri": "https://localhost:8080/"
        },
        "id": "cdnkJzC3uiG_",
        "outputId": "f9330be5-29cc-4e3d-c660-437e442a6b45"
      },
      "execution_count": 35,
      "outputs": [
        {
          "output_type": "stream",
          "name": "stdout",
          "text": [
            "[[ 0.038573    0.01288799 -0.03805478 -0.01626166 -0.02047133 -0.02140073\n",
            "   0.00893742 -0.04540584  0.03872976  0.03376175]\n",
            " [ 0.038573    0.01288799 -0.03805478 -0.01626166 -0.02047133 -0.02140073\n",
            "   0.00893742 -0.04540584  0.03872976  0.03376175]\n",
            " [ 0.038573    0.01288799 -0.03805478 -0.01626166 -0.02047133 -0.02140073\n",
            "   0.00893742 -0.04540584  0.03872976  0.03376175]\n",
            " [ 0.038573    0.01288799 -0.03805478 -0.01626166 -0.02047133 -0.02140073\n",
            "   0.00893742 -0.04540584  0.03872976  0.03376175]\n",
            " [ 0.038573    0.01288799 -0.03805478 -0.01626166 -0.02047133 -0.02140073\n",
            "   0.00893742 -0.04540584  0.03872976  0.03376175]\n",
            " [ 0.038573    0.01288799 -0.03805478 -0.01626166 -0.02047133 -0.02140073\n",
            "   0.00893742 -0.04540584  0.03872976  0.03376175]\n",
            " [ 0.00158093  0.00768437 -0.02241307 -0.03952503  0.02074624 -0.00958027\n",
            "   0.01591336  0.04064986  0.02540721 -0.03409559]\n",
            " [ 0.03360219  0.03250707 -0.00536699 -0.00366772  0.02748242 -0.00927138\n",
            "  -0.04210713  0.0293988   0.01414112 -0.04420662]\n",
            " [-0.01831186  0.03531244 -0.00920036 -0.04172946  0.0242021   0.03573768\n",
            "   0.03196517 -0.01066713  0.0292272   0.02031142]\n",
            " [ 0.00817456 -0.0183254   0.00239787 -0.03583574 -0.0158192  -0.02571454\n",
            "   0.00394129  0.03119216 -0.00045269  0.01707843]]\n"
          ]
        }
      ]
    },
    {
      "cell_type": "code",
      "source": [
        "embeddin_layer[0]"
      ],
      "metadata": {
        "colab": {
          "base_uri": "https://localhost:8080/"
        },
        "id": "JV34RX2IvXgd",
        "outputId": "60a3ff4b-6ffd-4aef-8667-73db927a70d6"
      },
      "execution_count": 36,
      "outputs": [
        {
          "output_type": "execute_result",
          "data": {
            "text/plain": [
              "array([   0,    0,    0,    0,    0,    0, 9035, 3522, 7179, 7185],\n",
              "      dtype=int32)"
            ]
          },
          "metadata": {},
          "execution_count": 36
        }
      ]
    },
    {
      "cell_type": "code",
      "source": [
        "## the above you can see that the 0 index word has converted to 10 dimensions and the other words till \n",
        "## 0 has the same index in the top(predict) later when it is 189 it got changed see it you will understand"
      ],
      "metadata": {
        "id": "zSm_p3J7v_LJ"
      },
      "execution_count": 37,
      "outputs": []
    },
    {
      "cell_type": "markdown",
      "source": [
        "\n",
        "# LSTM\n",
        "\n",
        "```\n",
        "# [CLICK HERE FOR BLOG IT IS MORE IMPORTNAT OR SEE KRISH VIDEO](https://colah.github.io/posts/2015-08-Understanding-LSTMs/)\n",
        "```\n",
        "\n"
      ],
      "metadata": {
        "id": "ORvYjNm7x6qL"
      }
    },
    {
      "cell_type": "code",
      "source": [
        "df = pd.read_csv(\"/content/train.csv\")\n",
        "df.head()"
      ],
      "metadata": {
        "colab": {
          "base_uri": "https://localhost:8080/",
          "height": 206
        },
        "id": "hrZ7dTRBxmqE",
        "outputId": "4df161e5-2372-48b9-b36d-2cf248721e65"
      },
      "execution_count": 38,
      "outputs": [
        {
          "output_type": "execute_result",
          "data": {
            "text/html": [
              "\n",
              "  <div id=\"df-706d3ff3-1099-49d2-8681-9f9cdc1c1806\">\n",
              "    <div class=\"colab-df-container\">\n",
              "      <div>\n",
              "<style scoped>\n",
              "    .dataframe tbody tr th:only-of-type {\n",
              "        vertical-align: middle;\n",
              "    }\n",
              "\n",
              "    .dataframe tbody tr th {\n",
              "        vertical-align: top;\n",
              "    }\n",
              "\n",
              "    .dataframe thead th {\n",
              "        text-align: right;\n",
              "    }\n",
              "</style>\n",
              "<table border=\"1\" class=\"dataframe\">\n",
              "  <thead>\n",
              "    <tr style=\"text-align: right;\">\n",
              "      <th></th>\n",
              "      <th>id</th>\n",
              "      <th>title</th>\n",
              "      <th>author</th>\n",
              "      <th>text</th>\n",
              "      <th>label</th>\n",
              "    </tr>\n",
              "  </thead>\n",
              "  <tbody>\n",
              "    <tr>\n",
              "      <th>0</th>\n",
              "      <td>0</td>\n",
              "      <td>House Dem Aide: We Didn’t Even See Comey’s Let...</td>\n",
              "      <td>Darrell Lucus</td>\n",
              "      <td>House Dem Aide: We Didn’t Even See Comey’s Let...</td>\n",
              "      <td>1</td>\n",
              "    </tr>\n",
              "    <tr>\n",
              "      <th>1</th>\n",
              "      <td>1</td>\n",
              "      <td>FLYNN: Hillary Clinton, Big Woman on Campus - ...</td>\n",
              "      <td>Daniel J. Flynn</td>\n",
              "      <td>Ever get the feeling your life circles the rou...</td>\n",
              "      <td>0</td>\n",
              "    </tr>\n",
              "    <tr>\n",
              "      <th>2</th>\n",
              "      <td>2</td>\n",
              "      <td>Why the Truth Might Get You Fired</td>\n",
              "      <td>Consortiumnews.com</td>\n",
              "      <td>Why the Truth Might Get You Fired October 29, ...</td>\n",
              "      <td>1</td>\n",
              "    </tr>\n",
              "    <tr>\n",
              "      <th>3</th>\n",
              "      <td>3</td>\n",
              "      <td>15 Civilians Killed In Single US Airstrike Hav...</td>\n",
              "      <td>Jessica Purkiss</td>\n",
              "      <td>Videos 15 Civilians Killed In Single US Airstr...</td>\n",
              "      <td>1</td>\n",
              "    </tr>\n",
              "    <tr>\n",
              "      <th>4</th>\n",
              "      <td>4</td>\n",
              "      <td>Iranian woman jailed for fictional unpublished...</td>\n",
              "      <td>Howard Portnoy</td>\n",
              "      <td>Print \\nAn Iranian woman has been sentenced to...</td>\n",
              "      <td>1</td>\n",
              "    </tr>\n",
              "  </tbody>\n",
              "</table>\n",
              "</div>\n",
              "      <button class=\"colab-df-convert\" onclick=\"convertToInteractive('df-706d3ff3-1099-49d2-8681-9f9cdc1c1806')\"\n",
              "              title=\"Convert this dataframe to an interactive table.\"\n",
              "              style=\"display:none;\">\n",
              "        \n",
              "  <svg xmlns=\"http://www.w3.org/2000/svg\" height=\"24px\"viewBox=\"0 0 24 24\"\n",
              "       width=\"24px\">\n",
              "    <path d=\"M0 0h24v24H0V0z\" fill=\"none\"/>\n",
              "    <path d=\"M18.56 5.44l.94 2.06.94-2.06 2.06-.94-2.06-.94-.94-2.06-.94 2.06-2.06.94zm-11 1L8.5 8.5l.94-2.06 2.06-.94-2.06-.94L8.5 2.5l-.94 2.06-2.06.94zm10 10l.94 2.06.94-2.06 2.06-.94-2.06-.94-.94-2.06-.94 2.06-2.06.94z\"/><path d=\"M17.41 7.96l-1.37-1.37c-.4-.4-.92-.59-1.43-.59-.52 0-1.04.2-1.43.59L10.3 9.45l-7.72 7.72c-.78.78-.78 2.05 0 2.83L4 21.41c.39.39.9.59 1.41.59.51 0 1.02-.2 1.41-.59l7.78-7.78 2.81-2.81c.8-.78.8-2.07 0-2.86zM5.41 20L4 18.59l7.72-7.72 1.47 1.35L5.41 20z\"/>\n",
              "  </svg>\n",
              "      </button>\n",
              "      \n",
              "  <style>\n",
              "    .colab-df-container {\n",
              "      display:flex;\n",
              "      flex-wrap:wrap;\n",
              "      gap: 12px;\n",
              "    }\n",
              "\n",
              "    .colab-df-convert {\n",
              "      background-color: #E8F0FE;\n",
              "      border: none;\n",
              "      border-radius: 50%;\n",
              "      cursor: pointer;\n",
              "      display: none;\n",
              "      fill: #1967D2;\n",
              "      height: 32px;\n",
              "      padding: 0 0 0 0;\n",
              "      width: 32px;\n",
              "    }\n",
              "\n",
              "    .colab-df-convert:hover {\n",
              "      background-color: #E2EBFA;\n",
              "      box-shadow: 0px 1px 2px rgba(60, 64, 67, 0.3), 0px 1px 3px 1px rgba(60, 64, 67, 0.15);\n",
              "      fill: #174EA6;\n",
              "    }\n",
              "\n",
              "    [theme=dark] .colab-df-convert {\n",
              "      background-color: #3B4455;\n",
              "      fill: #D2E3FC;\n",
              "    }\n",
              "\n",
              "    [theme=dark] .colab-df-convert:hover {\n",
              "      background-color: #434B5C;\n",
              "      box-shadow: 0px 1px 3px 1px rgba(0, 0, 0, 0.15);\n",
              "      filter: drop-shadow(0px 1px 2px rgba(0, 0, 0, 0.3));\n",
              "      fill: #FFFFFF;\n",
              "    }\n",
              "  </style>\n",
              "\n",
              "      <script>\n",
              "        const buttonEl =\n",
              "          document.querySelector('#df-706d3ff3-1099-49d2-8681-9f9cdc1c1806 button.colab-df-convert');\n",
              "        buttonEl.style.display =\n",
              "          google.colab.kernel.accessAllowed ? 'block' : 'none';\n",
              "\n",
              "        async function convertToInteractive(key) {\n",
              "          const element = document.querySelector('#df-706d3ff3-1099-49d2-8681-9f9cdc1c1806');\n",
              "          const dataTable =\n",
              "            await google.colab.kernel.invokeFunction('convertToInteractive',\n",
              "                                                     [key], {});\n",
              "          if (!dataTable) return;\n",
              "\n",
              "          const docLinkHtml = 'Like what you see? Visit the ' +\n",
              "            '<a target=\"_blank\" href=https://colab.research.google.com/notebooks/data_table.ipynb>data table notebook</a>'\n",
              "            + ' to learn more about interactive tables.';\n",
              "          element.innerHTML = '';\n",
              "          dataTable['output_type'] = 'display_data';\n",
              "          await google.colab.output.renderOutput(dataTable, element);\n",
              "          const docLink = document.createElement('div');\n",
              "          docLink.innerHTML = docLinkHtml;\n",
              "          element.appendChild(docLink);\n",
              "        }\n",
              "      </script>\n",
              "    </div>\n",
              "  </div>\n",
              "  "
            ],
            "text/plain": [
              "   id  ... label\n",
              "0   0  ...     1\n",
              "1   1  ...     0\n",
              "2   2  ...     1\n",
              "3   3  ...     1\n",
              "4   4  ...     1\n",
              "\n",
              "[5 rows x 5 columns]"
            ]
          },
          "metadata": {},
          "execution_count": 38
        }
      ]
    },
    {
      "cell_type": "code",
      "source": [
        "for i in range(5):\n",
        "  print(f'{i} : {df[\"title\"][i]}')"
      ],
      "metadata": {
        "colab": {
          "base_uri": "https://localhost:8080/"
        },
        "id": "00JgxWCS0f8F",
        "outputId": "4dc573ec-2e97-4965-f7b1-20a9d6fa1576"
      },
      "execution_count": 39,
      "outputs": [
        {
          "output_type": "stream",
          "name": "stdout",
          "text": [
            "0 : House Dem Aide: We Didn’t Even See Comey’s Letter Until Jason Chaffetz Tweeted It\n",
            "1 : FLYNN: Hillary Clinton, Big Woman on Campus - Breitbart\n",
            "2 : Why the Truth Might Get You Fired\n",
            "3 : 15 Civilians Killed In Single US Airstrike Have Been Identified\n",
            "4 : Iranian woman jailed for fictional unpublished story about woman stoned to death for adultery\n"
          ]
        }
      ]
    },
    {
      "cell_type": "code",
      "source": [
        "df[\"label\"].value_counts()"
      ],
      "metadata": {
        "colab": {
          "base_uri": "https://localhost:8080/"
        },
        "id": "VLoPETa-1WhQ",
        "outputId": "0dd55714-9200-4c97-9713-0b1bec0fba37"
      },
      "execution_count": 40,
      "outputs": [
        {
          "output_type": "execute_result",
          "data": {
            "text/plain": [
              "1    10413\n",
              "0    10387\n",
              "Name: label, dtype: int64"
            ]
          },
          "metadata": {},
          "execution_count": 40
        }
      ]
    },
    {
      "cell_type": "code",
      "source": [
        "df.isnull().sum()\n",
        "df.dropna(inplace=True)\n",
        "df.reset_index(inplace=True)"
      ],
      "metadata": {
        "id": "Uz30O7lc0qTW"
      },
      "execution_count": 41,
      "outputs": []
    },
    {
      "cell_type": "code",
      "source": [
        "df.isna().sum()"
      ],
      "metadata": {
        "colab": {
          "base_uri": "https://localhost:8080/"
        },
        "id": "P37x1jg31CDd",
        "outputId": "6d33f6c6-2787-44e7-c91c-4d0f3ae57199"
      },
      "execution_count": 42,
      "outputs": [
        {
          "output_type": "execute_result",
          "data": {
            "text/plain": [
              "index     0\n",
              "id        0\n",
              "title     0\n",
              "author    0\n",
              "text      0\n",
              "label     0\n",
              "dtype: int64"
            ]
          },
          "metadata": {},
          "execution_count": 42
        }
      ]
    },
    {
      "cell_type": "code",
      "source": [
        "X = df.drop(\"label\",axis=1)\n",
        "y = df[\"label\"]"
      ],
      "metadata": {
        "id": "9wkki4VK1rdN"
      },
      "execution_count": 43,
      "outputs": []
    },
    {
      "cell_type": "code",
      "source": [
        "import tensorflow as tf\n",
        "tf.__version__"
      ],
      "metadata": {
        "colab": {
          "base_uri": "https://localhost:8080/",
          "height": 35
        },
        "id": "hvnLCrRX10FJ",
        "outputId": "08d040c2-22c0-45c9-de3c-107c42bc2bd6"
      },
      "execution_count": 44,
      "outputs": [
        {
          "output_type": "execute_result",
          "data": {
            "application/vnd.google.colaboratory.intrinsic+json": {
              "type": "string"
            },
            "text/plain": [
              "'2.7.0'"
            ]
          },
          "metadata": {},
          "execution_count": 44
        }
      ]
    },
    {
      "cell_type": "code",
      "source": [
        "from tensorflow.keras.layers import Embedding,LSTM,Dense  ## this is used in createing a model layers\n",
        "from tensorflow.keras.models import Sequential   ## used to create a model\n",
        "from tensorflow.keras.preprocessing.text import one_hot   ## change the data to 1000 smtg stuff like that\n",
        "from tensorflow.keras.preprocessing.sequence import pad_sequences   ## to make sure that the given data is having same dimensions and len"
      ],
      "metadata": {
        "id": "l32VWYwz182c"
      },
      "execution_count": 45,
      "outputs": []
    },
    {
      "cell_type": "code",
      "source": [
        "voc_size = 5000"
      ],
      "metadata": {
        "id": "6e_mgnt82isz"
      },
      "execution_count": 46,
      "outputs": []
    },
    {
      "cell_type": "code",
      "source": [
        "df.text[1]"
      ],
      "metadata": {
        "colab": {
          "base_uri": "https://localhost:8080/",
          "height": 140
        },
        "id": "R3dGwWy22lE1",
        "outputId": "675a2454-8b78-40a3-afe7-ac25d38772e2"
      },
      "execution_count": 47,
      "outputs": [
        {
          "output_type": "execute_result",
          "data": {
            "application/vnd.google.colaboratory.intrinsic+json": {
              "type": "string"
            },
            "text/plain": [
              "'Ever get the feeling your life circles the roundabout rather than heads in a straight line toward the intended destination? [Hillary Clinton remains the big woman on campus in leafy, liberal Wellesley, Massachusetts. Everywhere else votes her most likely to don her inauguration dress for the remainder of her days the way Miss Havisham forever wore that wedding dress.  Speaking of Great Expectations, Hillary Rodham overflowed with them 48 years ago when she first addressed a Wellesley graduating class. The president of the college informed those gathered in 1969 that the students needed “no debate so far as I could ascertain as to who their spokesman was to be” (kind of the like the Democratic primaries in 2016 minus the   terms unknown then even at a Seven Sisters school). “I am very glad that Miss Adams made it clear that what I am speaking for today is all of us —  the 400 of us,” Miss Rodham told her classmates. After appointing herself Edger Bergen to the Charlie McCarthys and Mortimer Snerds in attendance, the    bespectacled in granny glasses (awarding her matronly wisdom —  or at least John Lennon wisdom) took issue with the previous speaker. Despite becoming the first   to win election to a seat in the U. S. Senate since Reconstruction, Edward Brooke came in for criticism for calling for “empathy” for the goals of protestors as he criticized tactics. Though Clinton in her senior thesis on Saul Alinsky lamented “Black Power demagogues” and “elitist arrogance and repressive intolerance” within the New Left, similar words coming out of a Republican necessitated a brief rebuttal. “Trust,” Rodham ironically observed in 1969, “this is one word that when I asked the class at our rehearsal what it was they wanted me to say for them, everyone came up to me and said ‘Talk about trust, talk about the lack of trust both for us and the way we feel about others. Talk about the trust bust.’ What can you say about it? What can you say about a feeling that permeates a generation and that perhaps is not even understood by those who are distrusted?” The “trust bust” certainly busted Clinton’s 2016 plans. She certainly did not even understand that people distrusted her. After Whitewater, Travelgate, the vast   conspiracy, Benghazi, and the missing emails, Clinton found herself the distrusted voice on Friday. There was a load of compromising on the road to the broadening of her political horizons. And distrust from the American people —  Trump edged her 48 percent to 38 percent on the question immediately prior to November’s election —  stood as a major reason for the closing of those horizons. Clinton described her vanquisher and his supporters as embracing a “lie,” a “con,” “alternative facts,” and “a   assault on truth and reason. ” She failed to explain why the American people chose his lies over her truth. “As the history majors among you here today know all too well, when people in power invent their own facts and attack those who question them, it can mark the beginning of the end of a free society,” she offered. “That is not hyperbole. ” Like so many people to emerge from the 1960s, Hillary Clinton embarked upon a long, strange trip. From high school Goldwater Girl and Wellesley College Republican president to Democratic politician, Clinton drank in the times and the place that gave her a degree. More significantly, she went from idealist to cynic, as a comparison of her two Wellesley commencement addresses show. Way back when, she lamented that “for too long our leaders have viewed politics as the art of the possible, and the challenge now is to practice politics as the art of making what appears to be impossible possible. ” Now, as the big woman on campus but the odd woman out of the White House, she wonders how her current station is even possible. “Why aren’t I 50 points ahead?” she asked in September. In May she asks why she isn’t president. The woman famously dubbed a “congenital liar” by Bill Safire concludes that lies did her in —  theirs, mind you, not hers. Getting stood up on Election Day, like finding yourself the jilted bride on your wedding day, inspires dangerous delusions.'"
            ]
          },
          "metadata": {},
          "execution_count": 47
        }
      ]
    },
    {
      "cell_type": "code",
      "source": [
        "messgaes = X.copy()"
      ],
      "metadata": {
        "id": "vx2Qei405RZx"
      },
      "execution_count": 48,
      "outputs": []
    },
    {
      "cell_type": "code",
      "source": [
        "import nltk\n",
        "from nltk.corpus import stopwords\n",
        "from nltk.tokenize import word_tokenize,sent_tokenize\n",
        "from nltk.stem import PorterStemmer,WordNetLemmatizer"
      ],
      "metadata": {
        "id": "CgvIdrOW2qHB"
      },
      "execution_count": 49,
      "outputs": []
    },
    {
      "cell_type": "code",
      "source": [
        "nltk.download(\"stopwords\")\n",
        "nltk.download(\"wordnet\")\n",
        "nltk.download(\"punkt\")"
      ],
      "metadata": {
        "colab": {
          "base_uri": "https://localhost:8080/"
        },
        "id": "YlTyBQHM46Cd",
        "outputId": "fbfa25ed-6bd3-4661-d173-f2846fc269d5"
      },
      "execution_count": 50,
      "outputs": [
        {
          "output_type": "stream",
          "name": "stdout",
          "text": [
            "[nltk_data] Downloading package stopwords to /root/nltk_data...\n",
            "[nltk_data]   Package stopwords is already up-to-date!\n",
            "[nltk_data] Downloading package wordnet to /root/nltk_data...\n",
            "[nltk_data]   Package wordnet is already up-to-date!\n",
            "[nltk_data] Downloading package punkt to /root/nltk_data...\n",
            "[nltk_data]   Package punkt is already up-to-date!\n"
          ]
        },
        {
          "output_type": "execute_result",
          "data": {
            "text/plain": [
              "True"
            ]
          },
          "metadata": {},
          "execution_count": 50
        }
      ]
    },
    {
      "cell_type": "code",
      "source": [
        "import re"
      ],
      "metadata": {
        "id": "haBhunIq5baU"
      },
      "execution_count": 51,
      "outputs": []
    },
    {
      "cell_type": "code",
      "source": [
        "ps = PorterStemmer()\n",
        "corpus = []\n",
        "for i in range(len(messgaes)):\n",
        "  review = re.sub('[^a-zA-Z]',\" \",messgaes[\"title\"][i])\n",
        "  review = review.lower()\n",
        "  review = review.split()\n",
        "  review = [ps.stem(word) for word in review if word not in set(stopwords.words(\"english\"))]\n",
        "  review = \" \".join(review)\n",
        "  corpus.append(review)"
      ],
      "metadata": {
        "id": "bTez2dtA5BHi"
      },
      "execution_count": 52,
      "outputs": []
    },
    {
      "cell_type": "code",
      "source": [
        "corpus[2]"
      ],
      "metadata": {
        "colab": {
          "base_uri": "https://localhost:8080/",
          "height": 35
        },
        "id": "nYOVfgVB58UV",
        "outputId": "aa0cc39b-946a-4f03-df87-9bffe34fef65"
      },
      "execution_count": 53,
      "outputs": [
        {
          "output_type": "execute_result",
          "data": {
            "application/vnd.google.colaboratory.intrinsic+json": {
              "type": "string"
            },
            "text/plain": [
              "'truth might get fire'"
            ]
          },
          "metadata": {},
          "execution_count": 53
        }
      ]
    },
    {
      "cell_type": "code",
      "source": [
        "messgaes[\"title\"][2]"
      ],
      "metadata": {
        "colab": {
          "base_uri": "https://localhost:8080/",
          "height": 35
        },
        "id": "_EbGRMSC6vx1",
        "outputId": "fb10d34a-b742-4865-d72a-3722945ccdb9"
      },
      "execution_count": 54,
      "outputs": [
        {
          "output_type": "execute_result",
          "data": {
            "application/vnd.google.colaboratory.intrinsic+json": {
              "type": "string"
            },
            "text/plain": [
              "'Why the Truth Might Get You Fired'"
            ]
          },
          "metadata": {},
          "execution_count": 54
        }
      ]
    },
    {
      "cell_type": "code",
      "source": [
        "one_hot_ex = [one_hot(words,voc_size) for words in corpus]\n",
        "one_hot_ex[:10]"
      ],
      "metadata": {
        "colab": {
          "base_uri": "https://localhost:8080/"
        },
        "id": "7JK_gBQl6zjB",
        "outputId": "76da9d56-061b-43cf-ffa3-f1cc356eb229"
      },
      "execution_count": 55,
      "outputs": [
        {
          "output_type": "execute_result",
          "data": {
            "text/plain": [
              "[[1880, 4716, 2324, 4715, 586, 3453, 605, 3461, 2068, 636],\n",
              " [3686, 4351, 1334, 170, 2045, 894, 2702],\n",
              " [4696, 666, 344, 960],\n",
              " [1637, 1617, 1246, 4909, 4279, 648],\n",
              " [4038, 2045, 1872, 3200, 682, 2393, 2045, 2046, 3232, 2794],\n",
              " [1461,\n",
              "  1080,\n",
              "  1095,\n",
              "  2618,\n",
              "  1826,\n",
              "  1460,\n",
              "  2898,\n",
              "  833,\n",
              "  4537,\n",
              "  1393,\n",
              "  3474,\n",
              "  611,\n",
              "  4156,\n",
              "  4031,\n",
              "  2702],\n",
              " [858, 2929, 3840, 4960, 707, 4482, 3261, 3318, 838, 285, 324],\n",
              " [2558, 2489, 863, 3940, 2541, 227, 1460, 1436, 838, 285, 324],\n",
              " [3932, 1641, 2631, 1940, 34, 1937, 4838, 1831, 1460, 3167],\n",
              " [4011, 3051, 3454, 760, 1655, 3149, 3320, 2203]]"
            ]
          },
          "metadata": {},
          "execution_count": 55
        }
      ]
    },
    {
      "cell_type": "code",
      "source": [
        "pad_sequence_doc = pad_sequences(one_hot_ex,maxlen=20)\n",
        "pad_sequence_doc[:5]"
      ],
      "metadata": {
        "colab": {
          "base_uri": "https://localhost:8080/"
        },
        "id": "mpy-Kre57NA6",
        "outputId": "a476cc6d-3f5b-4eca-f9df-a530c20c3afe"
      },
      "execution_count": 56,
      "outputs": [
        {
          "output_type": "execute_result",
          "data": {
            "text/plain": [
              "array([[   0,    0,    0,    0,    0,    0,    0,    0,    0,    0, 1880,\n",
              "        4716, 2324, 4715,  586, 3453,  605, 3461, 2068,  636],\n",
              "       [   0,    0,    0,    0,    0,    0,    0,    0,    0,    0,    0,\n",
              "           0,    0, 3686, 4351, 1334,  170, 2045,  894, 2702],\n",
              "       [   0,    0,    0,    0,    0,    0,    0,    0,    0,    0,    0,\n",
              "           0,    0,    0,    0,    0, 4696,  666,  344,  960],\n",
              "       [   0,    0,    0,    0,    0,    0,    0,    0,    0,    0,    0,\n",
              "           0,    0,    0, 1637, 1617, 1246, 4909, 4279,  648],\n",
              "       [   0,    0,    0,    0,    0,    0,    0,    0,    0,    0, 4038,\n",
              "        2045, 1872, 3200,  682, 2393, 2045, 2046, 3232, 2794]],\n",
              "      dtype=int32)"
            ]
          },
          "metadata": {},
          "execution_count": 56
        }
      ]
    },
    {
      "cell_type": "code",
      "source": [
        "embedding_vector_features = 40\n",
        "model = Sequential()\n",
        "model.add(Embedding(voc_size,embedding_vector_features,input_length=20))\n",
        "model.add(LSTM(100))\n",
        "model.add(Dense(1,activation=\"sigmoid\"))\n",
        "model.compile(\n",
        "    optimizer = \"adam\",\n",
        "    loss = \"binary_crossentropy\",\n",
        "    metrics = [\"accuracy\"]\n",
        ")\n",
        "model.summary()"
      ],
      "metadata": {
        "colab": {
          "base_uri": "https://localhost:8080/"
        },
        "id": "xIwab6J67wVg",
        "outputId": "04e3f77c-cee9-47bc-f716-340ebff5b749"
      },
      "execution_count": 57,
      "outputs": [
        {
          "output_type": "stream",
          "name": "stdout",
          "text": [
            "Model: \"sequential_1\"\n",
            "_________________________________________________________________\n",
            " Layer (type)                Output Shape              Param #   \n",
            "=================================================================\n",
            " embedding_1 (Embedding)     (None, 20, 40)            200000    \n",
            "                                                                 \n",
            " lstm (LSTM)                 (None, 100)               56400     \n",
            "                                                                 \n",
            " dense (Dense)               (None, 1)                 101       \n",
            "                                                                 \n",
            "=================================================================\n",
            "Total params: 256,501\n",
            "Trainable params: 256,501\n",
            "Non-trainable params: 0\n",
            "_________________________________________________________________\n"
          ]
        }
      ]
    },
    {
      "cell_type": "code",
      "source": [
        "len(pad_sequence_doc)"
      ],
      "metadata": {
        "colab": {
          "base_uri": "https://localhost:8080/"
        },
        "id": "xnbLmSX58mOZ",
        "outputId": "746ca32b-872a-4328-e513-e5bd2ab340d3"
      },
      "execution_count": 58,
      "outputs": [
        {
          "output_type": "execute_result",
          "data": {
            "text/plain": [
              "18285"
            ]
          },
          "metadata": {},
          "execution_count": 58
        }
      ]
    },
    {
      "cell_type": "code",
      "source": [
        "y.shape"
      ],
      "metadata": {
        "colab": {
          "base_uri": "https://localhost:8080/"
        },
        "id": "qvZkfXYi84Bi",
        "outputId": "a161ae39-87f0-4a81-8901-c794a8f75d82"
      },
      "execution_count": 59,
      "outputs": [
        {
          "output_type": "execute_result",
          "data": {
            "text/plain": [
              "(18285,)"
            ]
          },
          "metadata": {},
          "execution_count": 59
        }
      ]
    },
    {
      "cell_type": "code",
      "source": [
        "X_final = np.array(pad_sequence_doc)\n",
        "y_final = np.array(y)"
      ],
      "metadata": {
        "id": "YzR8zcnK85sm"
      },
      "execution_count": 60,
      "outputs": []
    },
    {
      "cell_type": "code",
      "source": [
        "from sklearn.model_selection import train_test_split\n",
        "x_train,x_test,y_train,y_test = train_test_split(X_final,y_final,test_size=0.2,random_state=True)"
      ],
      "metadata": {
        "id": "ZJXOMnsl9B6Y"
      },
      "execution_count": 61,
      "outputs": []
    },
    {
      "cell_type": "code",
      "source": [
        "model.fit(x_train,y_train,validation_data=(x_test,y_test),epochs=10,batch_size=32)"
      ],
      "metadata": {
        "colab": {
          "base_uri": "https://localhost:8080/"
        },
        "id": "Ytj8OIfh9TNO",
        "outputId": "170187d1-59c4-4212-ed91-c3c9db0cc0a9"
      },
      "execution_count": 62,
      "outputs": [
        {
          "output_type": "stream",
          "name": "stdout",
          "text": [
            "Epoch 1/10\n",
            "458/458 [==============================] - 11s 17ms/step - loss: 0.2578 - accuracy: 0.8846 - val_loss: 0.1932 - val_accuracy: 0.9202\n",
            "Epoch 2/10\n",
            "458/458 [==============================] - 5s 11ms/step - loss: 0.1335 - accuracy: 0.9453 - val_loss: 0.1852 - val_accuracy: 0.9262\n",
            "Epoch 3/10\n",
            "458/458 [==============================] - 5s 10ms/step - loss: 0.0982 - accuracy: 0.9629 - val_loss: 0.2098 - val_accuracy: 0.9182\n",
            "Epoch 4/10\n",
            "458/458 [==============================] - 5s 10ms/step - loss: 0.0688 - accuracy: 0.9746 - val_loss: 0.2379 - val_accuracy: 0.9191\n",
            "Epoch 5/10\n",
            "458/458 [==============================] - 5s 11ms/step - loss: 0.0404 - accuracy: 0.9864 - val_loss: 0.3056 - val_accuracy: 0.9232\n",
            "Epoch 6/10\n",
            "458/458 [==============================] - 5s 10ms/step - loss: 0.0255 - accuracy: 0.9913 - val_loss: 0.3471 - val_accuracy: 0.9114\n",
            "Epoch 7/10\n",
            "458/458 [==============================] - 5s 11ms/step - loss: 0.0172 - accuracy: 0.9950 - val_loss: 0.4219 - val_accuracy: 0.9163\n",
            "Epoch 8/10\n",
            "458/458 [==============================] - 5s 11ms/step - loss: 0.0112 - accuracy: 0.9968 - val_loss: 0.4323 - val_accuracy: 0.9150\n",
            "Epoch 9/10\n",
            "458/458 [==============================] - 5s 11ms/step - loss: 0.0085 - accuracy: 0.9973 - val_loss: 0.4537 - val_accuracy: 0.9147\n",
            "Epoch 10/10\n",
            "458/458 [==============================] - 5s 10ms/step - loss: 0.0079 - accuracy: 0.9973 - val_loss: 0.4237 - val_accuracy: 0.9193\n"
          ]
        },
        {
          "output_type": "execute_result",
          "data": {
            "text/plain": [
              "<keras.callbacks.History at 0x7f259fe15f10>"
            ]
          },
          "metadata": {},
          "execution_count": 62
        }
      ]
    },
    {
      "cell_type": "code",
      "source": [
        "from tensorflow.python.keras.layers.core import Dropout\n",
        "embedding_vector_features = 40\n",
        "model = Sequential()\n",
        "model.add(Embedding(voc_size,embedding_vector_features,input_length=20))\n",
        "model.add(Dropout(0.2))\n",
        "model.add(LSTM(100))\n",
        "model.add(Dropout(0.2))\n",
        "model.add(Dense(1,activation=\"sigmoid\"))\n",
        "model.compile(\n",
        "    optimizer = \"adam\",\n",
        "    loss = \"binary_crossentropy\",\n",
        "    metrics = [\"accuracy\"]\n",
        ")\n",
        "model.summary()"
      ],
      "metadata": {
        "colab": {
          "base_uri": "https://localhost:8080/"
        },
        "id": "sF7xnV0t9jQd",
        "outputId": "b5d7bb3b-4a31-4d58-996b-9e71c8ab8fd8"
      },
      "execution_count": 63,
      "outputs": [
        {
          "output_type": "stream",
          "name": "stdout",
          "text": [
            "Model: \"sequential_2\"\n",
            "_________________________________________________________________\n",
            " Layer (type)                Output Shape              Param #   \n",
            "=================================================================\n",
            " embedding_2 (Embedding)     (None, 20, 40)            200000    \n",
            "                                                                 \n",
            " module_wrapper (ModuleWrapp  (None, 20, 40)           0         \n",
            " er)                                                             \n",
            "                                                                 \n",
            " lstm_1 (LSTM)               (None, 100)               56400     \n",
            "                                                                 \n",
            " module_wrapper_1 (ModuleWra  (None, 100)              0         \n",
            " pper)                                                           \n",
            "                                                                 \n",
            " dense_1 (Dense)             (None, 1)                 101       \n",
            "                                                                 \n",
            "=================================================================\n",
            "Total params: 256,501\n",
            "Trainable params: 256,501\n",
            "Non-trainable params: 0\n",
            "_________________________________________________________________\n"
          ]
        }
      ]
    },
    {
      "cell_type": "code",
      "source": [
        "model.fit(x_train,y_train,validation_data=(x_test,y_test),epochs=10,batch_size=64)"
      ],
      "metadata": {
        "colab": {
          "base_uri": "https://localhost:8080/"
        },
        "id": "309XWkRy-Dps",
        "outputId": "b6cb8675-dcf4-4f7d-f27b-2a3f12be06c2"
      },
      "execution_count": 64,
      "outputs": [
        {
          "output_type": "stream",
          "name": "stdout",
          "text": [
            "Epoch 1/10\n",
            "229/229 [==============================] - 6s 14ms/step - loss: 0.3179 - accuracy: 0.8618 - val_loss: 0.1798 - val_accuracy: 0.9229\n",
            "Epoch 2/10\n",
            "229/229 [==============================] - 3s 12ms/step - loss: 0.1456 - accuracy: 0.9434 - val_loss: 0.1799 - val_accuracy: 0.9270\n",
            "Epoch 3/10\n",
            "229/229 [==============================] - 3s 12ms/step - loss: 0.1023 - accuracy: 0.9618 - val_loss: 0.1922 - val_accuracy: 0.9264\n",
            "Epoch 4/10\n",
            "229/229 [==============================] - 3s 12ms/step - loss: 0.0759 - accuracy: 0.9729 - val_loss: 0.2172 - val_accuracy: 0.9243\n",
            "Epoch 5/10\n",
            "229/229 [==============================] - 3s 12ms/step - loss: 0.0538 - accuracy: 0.9820 - val_loss: 0.2871 - val_accuracy: 0.9248\n",
            "Epoch 6/10\n",
            "229/229 [==============================] - 4s 15ms/step - loss: 0.0371 - accuracy: 0.9867 - val_loss: 0.3228 - val_accuracy: 0.9253\n",
            "Epoch 7/10\n",
            "229/229 [==============================] - 4s 17ms/step - loss: 0.0307 - accuracy: 0.9899 - val_loss: 0.3213 - val_accuracy: 0.9193\n",
            "Epoch 8/10\n",
            "229/229 [==============================] - 4s 17ms/step - loss: 0.0230 - accuracy: 0.9929 - val_loss: 0.3632 - val_accuracy: 0.9196\n",
            "Epoch 9/10\n",
            "229/229 [==============================] - 4s 16ms/step - loss: 0.0178 - accuracy: 0.9937 - val_loss: 0.3894 - val_accuracy: 0.9204\n",
            "Epoch 10/10\n",
            "229/229 [==============================] - 3s 15ms/step - loss: 0.0138 - accuracy: 0.9961 - val_loss: 0.4257 - val_accuracy: 0.9174\n"
          ]
        },
        {
          "output_type": "execute_result",
          "data": {
            "text/plain": [
              "<keras.callbacks.History at 0x7f2610557510>"
            ]
          },
          "metadata": {},
          "execution_count": 64
        }
      ]
    },
    {
      "cell_type": "code",
      "source": [
        "df[\"label\"].value_counts()"
      ],
      "metadata": {
        "colab": {
          "base_uri": "https://localhost:8080/"
        },
        "id": "x69P-Xn5-Fvc",
        "outputId": "297cc26e-b293-4e88-acbe-34ded85ba642"
      },
      "execution_count": 65,
      "outputs": [
        {
          "output_type": "execute_result",
          "data": {
            "text/plain": [
              "0    10361\n",
              "1     7924\n",
              "Name: label, dtype: int64"
            ]
          },
          "metadata": {},
          "execution_count": 65
        }
      ]
    },
    {
      "cell_type": "code",
      "source": [
        "pred = model.predict(x_test)"
      ],
      "metadata": {
        "id": "N3w5u2AG-5xv"
      },
      "execution_count": 66,
      "outputs": []
    },
    {
      "cell_type": "code",
      "source": [
        "pred"
      ],
      "metadata": {
        "colab": {
          "base_uri": "https://localhost:8080/"
        },
        "id": "v_Ho3Q0XAGH0",
        "outputId": "bd1a6d75-1212-4ea0-fd64-a9037f7c6b57"
      },
      "execution_count": 67,
      "outputs": [
        {
          "output_type": "execute_result",
          "data": {
            "text/plain": [
              "array([[9.9725819e-01],\n",
              "       [9.9999774e-01],\n",
              "       [1.3977195e-06],\n",
              "       ...,\n",
              "       [6.9846719e-05],\n",
              "       [5.2065079e-06],\n",
              "       [1.0525619e-04]], dtype=float32)"
            ]
          },
          "metadata": {},
          "execution_count": 67
        }
      ]
    },
    {
      "cell_type": "code",
      "source": [
        "predictions = (model.predict(x_test) > 0.5).astype(\"int32\")"
      ],
      "metadata": {
        "id": "PaLPd3C9Of1y"
      },
      "execution_count": 68,
      "outputs": []
    },
    {
      "cell_type": "code",
      "source": [
        "y_test[:30]"
      ],
      "metadata": {
        "colab": {
          "base_uri": "https://localhost:8080/"
        },
        "id": "AQXCSJJ2_CXW",
        "outputId": "2b9ce938-96a9-4870-c86f-60ce0efb403a"
      },
      "execution_count": 69,
      "outputs": [
        {
          "output_type": "execute_result",
          "data": {
            "text/plain": [
              "array([1, 1, 0, 1, 1, 1, 0, 0, 0, 0, 1, 1, 1, 0, 0, 0, 0, 0, 0, 0, 0, 1,\n",
              "       0, 0, 0, 0, 0, 1, 0, 0])"
            ]
          },
          "metadata": {},
          "execution_count": 69
        }
      ]
    },
    {
      "cell_type": "code",
      "source": [
        "from sklearn.metrics import roc_auc_score,accuracy_score\n",
        "print(roc_auc_score(y_test,predictions))\n",
        "\n",
        "# print(accuracy_score(y_test,np.array([np.argmax(i) for i in pred])))"
      ],
      "metadata": {
        "colab": {
          "base_uri": "https://localhost:8080/"
        },
        "id": "UceKuasp_DxC",
        "outputId": "94458b9f-6a40-43e4-e2db-6dcc7126159a"
      },
      "execution_count": 70,
      "outputs": [
        {
          "output_type": "stream",
          "name": "stdout",
          "text": [
            "0.9151987291280488\n"
          ]
        }
      ]
    },
    {
      "cell_type": "markdown",
      "source": [
        "## **STOCKS PREDICTION**"
      ],
      "metadata": {
        "id": "0tThuHXnORrL"
      }
    },
    {
      "cell_type": "code",
      "source": [
        "import pandas_datareader as pdr\n",
        "import pandas as pd\n",
        "key = \"7152b28055f4349188466c9dff744d371d60a603\""
      ],
      "metadata": {
        "id": "_gKBv6wrAEId"
      },
      "execution_count": 71,
      "outputs": []
    },
    {
      "cell_type": "code",
      "source": [
        "df = pdr.get_data_tiingo(\"AAPL\",api_key=key)"
      ],
      "metadata": {
        "colab": {
          "base_uri": "https://localhost:8080/"
        },
        "id": "qt1obxYQSMuP",
        "outputId": "2609bb79-acad-417e-8782-11b84e85d0fe"
      },
      "execution_count": 72,
      "outputs": [
        {
          "output_type": "stream",
          "name": "stderr",
          "text": [
            "/usr/local/lib/python3.7/dist-packages/pandas_datareader/tiingo.py:234: FutureWarning: In a future version of pandas all arguments of concat except for the argument 'objs' will be keyword-only\n",
            "  return pd.concat(dfs, self._concat_axis)\n"
          ]
        }
      ]
    },
    {
      "cell_type": "code",
      "source": [
        "df.to_csv(\"Apple_stocks_data.csv\")"
      ],
      "metadata": {
        "id": "OlZF0OJuSdDc"
      },
      "execution_count": 73,
      "outputs": []
    },
    {
      "cell_type": "code",
      "source": [
        "df = pd.read_csv(\"/content/Apple_stocks_data.csv\")\n",
        "df.head()"
      ],
      "metadata": {
        "colab": {
          "base_uri": "https://localhost:8080/",
          "height": 337
        },
        "id": "qvSGxOt_SgDh",
        "outputId": "db6990f0-d4e0-4c55-e850-92f0478bead3"
      },
      "execution_count": 74,
      "outputs": [
        {
          "output_type": "execute_result",
          "data": {
            "text/html": [
              "\n",
              "  <div id=\"df-a8e6ff75-ebfc-4ea5-b01a-527f2bbd9ede\">\n",
              "    <div class=\"colab-df-container\">\n",
              "      <div>\n",
              "<style scoped>\n",
              "    .dataframe tbody tr th:only-of-type {\n",
              "        vertical-align: middle;\n",
              "    }\n",
              "\n",
              "    .dataframe tbody tr th {\n",
              "        vertical-align: top;\n",
              "    }\n",
              "\n",
              "    .dataframe thead th {\n",
              "        text-align: right;\n",
              "    }\n",
              "</style>\n",
              "<table border=\"1\" class=\"dataframe\">\n",
              "  <thead>\n",
              "    <tr style=\"text-align: right;\">\n",
              "      <th></th>\n",
              "      <th>symbol</th>\n",
              "      <th>date</th>\n",
              "      <th>close</th>\n",
              "      <th>high</th>\n",
              "      <th>low</th>\n",
              "      <th>open</th>\n",
              "      <th>volume</th>\n",
              "      <th>adjClose</th>\n",
              "      <th>adjHigh</th>\n",
              "      <th>adjLow</th>\n",
              "      <th>adjOpen</th>\n",
              "      <th>adjVolume</th>\n",
              "      <th>divCash</th>\n",
              "      <th>splitFactor</th>\n",
              "    </tr>\n",
              "  </thead>\n",
              "  <tbody>\n",
              "    <tr>\n",
              "      <th>0</th>\n",
              "      <td>AAPL</td>\n",
              "      <td>2017-02-15 00:00:00+00:00</td>\n",
              "      <td>135.510</td>\n",
              "      <td>136.27</td>\n",
              "      <td>134.6200</td>\n",
              "      <td>135.52</td>\n",
              "      <td>35623100</td>\n",
              "      <td>31.980878</td>\n",
              "      <td>32.160241</td>\n",
              "      <td>31.770835</td>\n",
              "      <td>31.983239</td>\n",
              "      <td>142492400</td>\n",
              "      <td>0.0</td>\n",
              "      <td>1.0</td>\n",
              "    </tr>\n",
              "    <tr>\n",
              "      <th>1</th>\n",
              "      <td>AAPL</td>\n",
              "      <td>2017-02-16 00:00:00+00:00</td>\n",
              "      <td>135.345</td>\n",
              "      <td>135.90</td>\n",
              "      <td>134.8398</td>\n",
              "      <td>135.67</td>\n",
              "      <td>22584555</td>\n",
              "      <td>31.941938</td>\n",
              "      <td>32.072920</td>\n",
              "      <td>31.822709</td>\n",
              "      <td>32.018639</td>\n",
              "      <td>90338220</td>\n",
              "      <td>0.0</td>\n",
              "      <td>1.0</td>\n",
              "    </tr>\n",
              "    <tr>\n",
              "      <th>2</th>\n",
              "      <td>AAPL</td>\n",
              "      <td>2017-02-17 00:00:00+00:00</td>\n",
              "      <td>135.720</td>\n",
              "      <td>135.83</td>\n",
              "      <td>135.1000</td>\n",
              "      <td>135.10</td>\n",
              "      <td>22198197</td>\n",
              "      <td>32.030439</td>\n",
              "      <td>32.056400</td>\n",
              "      <td>31.884117</td>\n",
              "      <td>31.884117</td>\n",
              "      <td>88792788</td>\n",
              "      <td>0.0</td>\n",
              "      <td>1.0</td>\n",
              "    </tr>\n",
              "    <tr>\n",
              "      <th>3</th>\n",
              "      <td>AAPL</td>\n",
              "      <td>2017-02-21 00:00:00+00:00</td>\n",
              "      <td>136.700</td>\n",
              "      <td>136.75</td>\n",
              "      <td>135.9800</td>\n",
              "      <td>136.23</td>\n",
              "      <td>24507156</td>\n",
              "      <td>32.261723</td>\n",
              "      <td>32.273523</td>\n",
              "      <td>32.091800</td>\n",
              "      <td>32.150801</td>\n",
              "      <td>98028624</td>\n",
              "      <td>0.0</td>\n",
              "      <td>1.0</td>\n",
              "    </tr>\n",
              "    <tr>\n",
              "      <th>4</th>\n",
              "      <td>AAPL</td>\n",
              "      <td>2017-02-22 00:00:00+00:00</td>\n",
              "      <td>137.110</td>\n",
              "      <td>137.12</td>\n",
              "      <td>136.1100</td>\n",
              "      <td>136.43</td>\n",
              "      <td>20836932</td>\n",
              "      <td>32.358485</td>\n",
              "      <td>32.360845</td>\n",
              "      <td>32.122481</td>\n",
              "      <td>32.198002</td>\n",
              "      <td>83347728</td>\n",
              "      <td>0.0</td>\n",
              "      <td>1.0</td>\n",
              "    </tr>\n",
              "  </tbody>\n",
              "</table>\n",
              "</div>\n",
              "      <button class=\"colab-df-convert\" onclick=\"convertToInteractive('df-a8e6ff75-ebfc-4ea5-b01a-527f2bbd9ede')\"\n",
              "              title=\"Convert this dataframe to an interactive table.\"\n",
              "              style=\"display:none;\">\n",
              "        \n",
              "  <svg xmlns=\"http://www.w3.org/2000/svg\" height=\"24px\"viewBox=\"0 0 24 24\"\n",
              "       width=\"24px\">\n",
              "    <path d=\"M0 0h24v24H0V0z\" fill=\"none\"/>\n",
              "    <path d=\"M18.56 5.44l.94 2.06.94-2.06 2.06-.94-2.06-.94-.94-2.06-.94 2.06-2.06.94zm-11 1L8.5 8.5l.94-2.06 2.06-.94-2.06-.94L8.5 2.5l-.94 2.06-2.06.94zm10 10l.94 2.06.94-2.06 2.06-.94-2.06-.94-.94-2.06-.94 2.06-2.06.94z\"/><path d=\"M17.41 7.96l-1.37-1.37c-.4-.4-.92-.59-1.43-.59-.52 0-1.04.2-1.43.59L10.3 9.45l-7.72 7.72c-.78.78-.78 2.05 0 2.83L4 21.41c.39.39.9.59 1.41.59.51 0 1.02-.2 1.41-.59l7.78-7.78 2.81-2.81c.8-.78.8-2.07 0-2.86zM5.41 20L4 18.59l7.72-7.72 1.47 1.35L5.41 20z\"/>\n",
              "  </svg>\n",
              "      </button>\n",
              "      \n",
              "  <style>\n",
              "    .colab-df-container {\n",
              "      display:flex;\n",
              "      flex-wrap:wrap;\n",
              "      gap: 12px;\n",
              "    }\n",
              "\n",
              "    .colab-df-convert {\n",
              "      background-color: #E8F0FE;\n",
              "      border: none;\n",
              "      border-radius: 50%;\n",
              "      cursor: pointer;\n",
              "      display: none;\n",
              "      fill: #1967D2;\n",
              "      height: 32px;\n",
              "      padding: 0 0 0 0;\n",
              "      width: 32px;\n",
              "    }\n",
              "\n",
              "    .colab-df-convert:hover {\n",
              "      background-color: #E2EBFA;\n",
              "      box-shadow: 0px 1px 2px rgba(60, 64, 67, 0.3), 0px 1px 3px 1px rgba(60, 64, 67, 0.15);\n",
              "      fill: #174EA6;\n",
              "    }\n",
              "\n",
              "    [theme=dark] .colab-df-convert {\n",
              "      background-color: #3B4455;\n",
              "      fill: #D2E3FC;\n",
              "    }\n",
              "\n",
              "    [theme=dark] .colab-df-convert:hover {\n",
              "      background-color: #434B5C;\n",
              "      box-shadow: 0px 1px 3px 1px rgba(0, 0, 0, 0.15);\n",
              "      filter: drop-shadow(0px 1px 2px rgba(0, 0, 0, 0.3));\n",
              "      fill: #FFFFFF;\n",
              "    }\n",
              "  </style>\n",
              "\n",
              "      <script>\n",
              "        const buttonEl =\n",
              "          document.querySelector('#df-a8e6ff75-ebfc-4ea5-b01a-527f2bbd9ede button.colab-df-convert');\n",
              "        buttonEl.style.display =\n",
              "          google.colab.kernel.accessAllowed ? 'block' : 'none';\n",
              "\n",
              "        async function convertToInteractive(key) {\n",
              "          const element = document.querySelector('#df-a8e6ff75-ebfc-4ea5-b01a-527f2bbd9ede');\n",
              "          const dataTable =\n",
              "            await google.colab.kernel.invokeFunction('convertToInteractive',\n",
              "                                                     [key], {});\n",
              "          if (!dataTable) return;\n",
              "\n",
              "          const docLinkHtml = 'Like what you see? Visit the ' +\n",
              "            '<a target=\"_blank\" href=https://colab.research.google.com/notebooks/data_table.ipynb>data table notebook</a>'\n",
              "            + ' to learn more about interactive tables.';\n",
              "          element.innerHTML = '';\n",
              "          dataTable['output_type'] = 'display_data';\n",
              "          await google.colab.output.renderOutput(dataTable, element);\n",
              "          const docLink = document.createElement('div');\n",
              "          docLink.innerHTML = docLinkHtml;\n",
              "          element.appendChild(docLink);\n",
              "        }\n",
              "      </script>\n",
              "    </div>\n",
              "  </div>\n",
              "  "
            ],
            "text/plain": [
              "  symbol                       date    close  ...  adjVolume  divCash  splitFactor\n",
              "0   AAPL  2017-02-15 00:00:00+00:00  135.510  ...  142492400      0.0          1.0\n",
              "1   AAPL  2017-02-16 00:00:00+00:00  135.345  ...   90338220      0.0          1.0\n",
              "2   AAPL  2017-02-17 00:00:00+00:00  135.720  ...   88792788      0.0          1.0\n",
              "3   AAPL  2017-02-21 00:00:00+00:00  136.700  ...   98028624      0.0          1.0\n",
              "4   AAPL  2017-02-22 00:00:00+00:00  137.110  ...   83347728      0.0          1.0\n",
              "\n",
              "[5 rows x 14 columns]"
            ]
          },
          "metadata": {},
          "execution_count": 74
        }
      ]
    },
    {
      "cell_type": "code",
      "source": [
        "df.tail()"
      ],
      "metadata": {
        "colab": {
          "base_uri": "https://localhost:8080/",
          "height": 337
        },
        "id": "UgXjybB2WIqD",
        "outputId": "7393a9c3-e0a6-468d-c018-8ba3cc089f51"
      },
      "execution_count": 75,
      "outputs": [
        {
          "output_type": "execute_result",
          "data": {
            "text/html": [
              "\n",
              "  <div id=\"df-84ae5aba-06d9-44b5-acac-80723a501d66\">\n",
              "    <div class=\"colab-df-container\">\n",
              "      <div>\n",
              "<style scoped>\n",
              "    .dataframe tbody tr th:only-of-type {\n",
              "        vertical-align: middle;\n",
              "    }\n",
              "\n",
              "    .dataframe tbody tr th {\n",
              "        vertical-align: top;\n",
              "    }\n",
              "\n",
              "    .dataframe thead th {\n",
              "        text-align: right;\n",
              "    }\n",
              "</style>\n",
              "<table border=\"1\" class=\"dataframe\">\n",
              "  <thead>\n",
              "    <tr style=\"text-align: right;\">\n",
              "      <th></th>\n",
              "      <th>symbol</th>\n",
              "      <th>date</th>\n",
              "      <th>close</th>\n",
              "      <th>high</th>\n",
              "      <th>low</th>\n",
              "      <th>open</th>\n",
              "      <th>volume</th>\n",
              "      <th>adjClose</th>\n",
              "      <th>adjHigh</th>\n",
              "      <th>adjLow</th>\n",
              "      <th>adjOpen</th>\n",
              "      <th>adjVolume</th>\n",
              "      <th>divCash</th>\n",
              "      <th>splitFactor</th>\n",
              "    </tr>\n",
              "  </thead>\n",
              "  <tbody>\n",
              "    <tr>\n",
              "      <th>1253</th>\n",
              "      <td>AAPL</td>\n",
              "      <td>2022-02-07 00:00:00+00:00</td>\n",
              "      <td>171.66</td>\n",
              "      <td>173.9458</td>\n",
              "      <td>170.95</td>\n",
              "      <td>172.86</td>\n",
              "      <td>77251204</td>\n",
              "      <td>171.66</td>\n",
              "      <td>173.9458</td>\n",
              "      <td>170.95</td>\n",
              "      <td>172.86</td>\n",
              "      <td>77251204</td>\n",
              "      <td>0.0</td>\n",
              "      <td>1.0</td>\n",
              "    </tr>\n",
              "    <tr>\n",
              "      <th>1254</th>\n",
              "      <td>AAPL</td>\n",
              "      <td>2022-02-08 00:00:00+00:00</td>\n",
              "      <td>174.83</td>\n",
              "      <td>175.3500</td>\n",
              "      <td>171.43</td>\n",
              "      <td>171.73</td>\n",
              "      <td>74829217</td>\n",
              "      <td>174.83</td>\n",
              "      <td>175.3500</td>\n",
              "      <td>171.43</td>\n",
              "      <td>171.73</td>\n",
              "      <td>74829217</td>\n",
              "      <td>0.0</td>\n",
              "      <td>1.0</td>\n",
              "    </tr>\n",
              "    <tr>\n",
              "      <th>1255</th>\n",
              "      <td>AAPL</td>\n",
              "      <td>2022-02-09 00:00:00+00:00</td>\n",
              "      <td>176.28</td>\n",
              "      <td>176.6500</td>\n",
              "      <td>174.90</td>\n",
              "      <td>176.05</td>\n",
              "      <td>71285038</td>\n",
              "      <td>176.28</td>\n",
              "      <td>176.6500</td>\n",
              "      <td>174.90</td>\n",
              "      <td>176.05</td>\n",
              "      <td>71285038</td>\n",
              "      <td>0.0</td>\n",
              "      <td>1.0</td>\n",
              "    </tr>\n",
              "    <tr>\n",
              "      <th>1256</th>\n",
              "      <td>AAPL</td>\n",
              "      <td>2022-02-10 00:00:00+00:00</td>\n",
              "      <td>172.12</td>\n",
              "      <td>175.4800</td>\n",
              "      <td>171.55</td>\n",
              "      <td>174.14</td>\n",
              "      <td>90865899</td>\n",
              "      <td>172.12</td>\n",
              "      <td>175.4800</td>\n",
              "      <td>171.55</td>\n",
              "      <td>174.14</td>\n",
              "      <td>90865899</td>\n",
              "      <td>0.0</td>\n",
              "      <td>1.0</td>\n",
              "    </tr>\n",
              "    <tr>\n",
              "      <th>1257</th>\n",
              "      <td>AAPL</td>\n",
              "      <td>2022-02-11 00:00:00+00:00</td>\n",
              "      <td>168.64</td>\n",
              "      <td>173.0800</td>\n",
              "      <td>168.04</td>\n",
              "      <td>172.33</td>\n",
              "      <td>98670687</td>\n",
              "      <td>168.64</td>\n",
              "      <td>173.0800</td>\n",
              "      <td>168.04</td>\n",
              "      <td>172.33</td>\n",
              "      <td>98670687</td>\n",
              "      <td>0.0</td>\n",
              "      <td>1.0</td>\n",
              "    </tr>\n",
              "  </tbody>\n",
              "</table>\n",
              "</div>\n",
              "      <button class=\"colab-df-convert\" onclick=\"convertToInteractive('df-84ae5aba-06d9-44b5-acac-80723a501d66')\"\n",
              "              title=\"Convert this dataframe to an interactive table.\"\n",
              "              style=\"display:none;\">\n",
              "        \n",
              "  <svg xmlns=\"http://www.w3.org/2000/svg\" height=\"24px\"viewBox=\"0 0 24 24\"\n",
              "       width=\"24px\">\n",
              "    <path d=\"M0 0h24v24H0V0z\" fill=\"none\"/>\n",
              "    <path d=\"M18.56 5.44l.94 2.06.94-2.06 2.06-.94-2.06-.94-.94-2.06-.94 2.06-2.06.94zm-11 1L8.5 8.5l.94-2.06 2.06-.94-2.06-.94L8.5 2.5l-.94 2.06-2.06.94zm10 10l.94 2.06.94-2.06 2.06-.94-2.06-.94-.94-2.06-.94 2.06-2.06.94z\"/><path d=\"M17.41 7.96l-1.37-1.37c-.4-.4-.92-.59-1.43-.59-.52 0-1.04.2-1.43.59L10.3 9.45l-7.72 7.72c-.78.78-.78 2.05 0 2.83L4 21.41c.39.39.9.59 1.41.59.51 0 1.02-.2 1.41-.59l7.78-7.78 2.81-2.81c.8-.78.8-2.07 0-2.86zM5.41 20L4 18.59l7.72-7.72 1.47 1.35L5.41 20z\"/>\n",
              "  </svg>\n",
              "      </button>\n",
              "      \n",
              "  <style>\n",
              "    .colab-df-container {\n",
              "      display:flex;\n",
              "      flex-wrap:wrap;\n",
              "      gap: 12px;\n",
              "    }\n",
              "\n",
              "    .colab-df-convert {\n",
              "      background-color: #E8F0FE;\n",
              "      border: none;\n",
              "      border-radius: 50%;\n",
              "      cursor: pointer;\n",
              "      display: none;\n",
              "      fill: #1967D2;\n",
              "      height: 32px;\n",
              "      padding: 0 0 0 0;\n",
              "      width: 32px;\n",
              "    }\n",
              "\n",
              "    .colab-df-convert:hover {\n",
              "      background-color: #E2EBFA;\n",
              "      box-shadow: 0px 1px 2px rgba(60, 64, 67, 0.3), 0px 1px 3px 1px rgba(60, 64, 67, 0.15);\n",
              "      fill: #174EA6;\n",
              "    }\n",
              "\n",
              "    [theme=dark] .colab-df-convert {\n",
              "      background-color: #3B4455;\n",
              "      fill: #D2E3FC;\n",
              "    }\n",
              "\n",
              "    [theme=dark] .colab-df-convert:hover {\n",
              "      background-color: #434B5C;\n",
              "      box-shadow: 0px 1px 3px 1px rgba(0, 0, 0, 0.15);\n",
              "      filter: drop-shadow(0px 1px 2px rgba(0, 0, 0, 0.3));\n",
              "      fill: #FFFFFF;\n",
              "    }\n",
              "  </style>\n",
              "\n",
              "      <script>\n",
              "        const buttonEl =\n",
              "          document.querySelector('#df-84ae5aba-06d9-44b5-acac-80723a501d66 button.colab-df-convert');\n",
              "        buttonEl.style.display =\n",
              "          google.colab.kernel.accessAllowed ? 'block' : 'none';\n",
              "\n",
              "        async function convertToInteractive(key) {\n",
              "          const element = document.querySelector('#df-84ae5aba-06d9-44b5-acac-80723a501d66');\n",
              "          const dataTable =\n",
              "            await google.colab.kernel.invokeFunction('convertToInteractive',\n",
              "                                                     [key], {});\n",
              "          if (!dataTable) return;\n",
              "\n",
              "          const docLinkHtml = 'Like what you see? Visit the ' +\n",
              "            '<a target=\"_blank\" href=https://colab.research.google.com/notebooks/data_table.ipynb>data table notebook</a>'\n",
              "            + ' to learn more about interactive tables.';\n",
              "          element.innerHTML = '';\n",
              "          dataTable['output_type'] = 'display_data';\n",
              "          await google.colab.output.renderOutput(dataTable, element);\n",
              "          const docLink = document.createElement('div');\n",
              "          docLink.innerHTML = docLinkHtml;\n",
              "          element.appendChild(docLink);\n",
              "        }\n",
              "      </script>\n",
              "    </div>\n",
              "  </div>\n",
              "  "
            ],
            "text/plain": [
              "     symbol                       date   close  ...  adjVolume  divCash  splitFactor\n",
              "1253   AAPL  2022-02-07 00:00:00+00:00  171.66  ...   77251204      0.0          1.0\n",
              "1254   AAPL  2022-02-08 00:00:00+00:00  174.83  ...   74829217      0.0          1.0\n",
              "1255   AAPL  2022-02-09 00:00:00+00:00  176.28  ...   71285038      0.0          1.0\n",
              "1256   AAPL  2022-02-10 00:00:00+00:00  172.12  ...   90865899      0.0          1.0\n",
              "1257   AAPL  2022-02-11 00:00:00+00:00  168.64  ...   98670687      0.0          1.0\n",
              "\n",
              "[5 rows x 14 columns]"
            ]
          },
          "metadata": {},
          "execution_count": 75
        }
      ]
    },
    {
      "cell_type": "code",
      "source": [
        "df.shape"
      ],
      "metadata": {
        "colab": {
          "base_uri": "https://localhost:8080/"
        },
        "id": "yNF6ximeWMN0",
        "outputId": "469b2a6b-8175-47e0-dbbf-9762758e9b7e"
      },
      "execution_count": 76,
      "outputs": [
        {
          "output_type": "execute_result",
          "data": {
            "text/plain": [
              "(1258, 14)"
            ]
          },
          "metadata": {},
          "execution_count": 76
        }
      ]
    },
    {
      "cell_type": "code",
      "source": [
        "df.columns"
      ],
      "metadata": {
        "colab": {
          "base_uri": "https://localhost:8080/"
        },
        "id": "h0XPxWilSruj",
        "outputId": "6e6b3112-f187-4a31-b491-be99a7a0b7a3"
      },
      "execution_count": 77,
      "outputs": [
        {
          "output_type": "execute_result",
          "data": {
            "text/plain": [
              "Index(['symbol', 'date', 'close', 'high', 'low', 'open', 'volume', 'adjClose',\n",
              "       'adjHigh', 'adjLow', 'adjOpen', 'adjVolume', 'divCash', 'splitFactor'],\n",
              "      dtype='object')"
            ]
          },
          "metadata": {},
          "execution_count": 77
        }
      ]
    },
    {
      "cell_type": "code",
      "source": [
        "df1 = df.reset_index()[\"close\"]\n",
        "df1[:5]"
      ],
      "metadata": {
        "colab": {
          "base_uri": "https://localhost:8080/"
        },
        "id": "XIMBK5pgWB8O",
        "outputId": "f38508dc-f497-41ca-ad75-5fa1c7726287"
      },
      "execution_count": 78,
      "outputs": [
        {
          "output_type": "execute_result",
          "data": {
            "text/plain": [
              "0    135.510\n",
              "1    135.345\n",
              "2    135.720\n",
              "3    136.700\n",
              "4    137.110\n",
              "Name: close, dtype: float64"
            ]
          },
          "metadata": {},
          "execution_count": 78
        }
      ]
    },
    {
      "cell_type": "code",
      "source": [
        "import plotly.express as px\n",
        "px.line(df1.values)"
      ],
      "metadata": {
        "colab": {
          "base_uri": "https://localhost:8080/",
          "height": 542
        },
        "id": "TirWnEI7Wj7c",
        "outputId": "8ef932df-4ab0-4648-c52e-9a0e7acdde87"
      },
      "execution_count": 79,
      "outputs": [
        {
          "output_type": "display_data",
          "data": {
            "text/html": [
              "<html>\n",
              "<head><meta charset=\"utf-8\" /></head>\n",
              "<body>\n",
              "    <div>            <script src=\"https://cdnjs.cloudflare.com/ajax/libs/mathjax/2.7.5/MathJax.js?config=TeX-AMS-MML_SVG\"></script><script type=\"text/javascript\">if (window.MathJax) {MathJax.Hub.Config({SVG: {font: \"STIX-Web\"}});}</script>                <script type=\"text/javascript\">window.PlotlyConfig = {MathJaxConfig: 'local'};</script>\n",
              "        <script src=\"https://cdn.plot.ly/plotly-2.8.3.min.js\"></script>                <div id=\"d7203d42-e661-496a-a38e-ea3e78b5fa52\" class=\"plotly-graph-div\" style=\"height:525px; width:100%;\"></div>            <script type=\"text/javascript\">                                    window.PLOTLYENV=window.PLOTLYENV || {};                                    if (document.getElementById(\"d7203d42-e661-496a-a38e-ea3e78b5fa52\")) {                    Plotly.newPlot(                        \"d7203d42-e661-496a-a38e-ea3e78b5fa52\",                        [{\"hovertemplate\":\"variable=0<br>index=%{x}<br>value=%{y}<extra></extra>\",\"legendgroup\":\"0\",\"line\":{\"color\":\"#636efa\",\"dash\":\"solid\"},\"marker\":{\"symbol\":\"circle\"},\"mode\":\"lines\",\"name\":\"0\",\"showlegend\":true,\"x\":[0,1,2,3,4,5,6,7,8,9,10,11,12,13,14,15,16,17,18,19,20,21,22,23,24,25,26,27,28,29,30,31,32,33,34,35,36,37,38,39,40,41,42,43,44,45,46,47,48,49,50,51,52,53,54,55,56,57,58,59,60,61,62,63,64,65,66,67,68,69,70,71,72,73,74,75,76,77,78,79,80,81,82,83,84,85,86,87,88,89,90,91,92,93,94,95,96,97,98,99,100,101,102,103,104,105,106,107,108,109,110,111,112,113,114,115,116,117,118,119,120,121,122,123,124,125,126,127,128,129,130,131,132,133,134,135,136,137,138,139,140,141,142,143,144,145,146,147,148,149,150,151,152,153,154,155,156,157,158,159,160,161,162,163,164,165,166,167,168,169,170,171,172,173,174,175,176,177,178,179,180,181,182,183,184,185,186,187,188,189,190,191,192,193,194,195,196,197,198,199,200,201,202,203,204,205,206,207,208,209,210,211,212,213,214,215,216,217,218,219,220,221,222,223,224,225,226,227,228,229,230,231,232,233,234,235,236,237,238,239,240,241,242,243,244,245,246,247,248,249,250,251,252,253,254,255,256,257,258,259,260,261,262,263,264,265,266,267,268,269,270,271,272,273,274,275,276,277,278,279,280,281,282,283,284,285,286,287,288,289,290,291,292,293,294,295,296,297,298,299,300,301,302,303,304,305,306,307,308,309,310,311,312,313,314,315,316,317,318,319,320,321,322,323,324,325,326,327,328,329,330,331,332,333,334,335,336,337,338,339,340,341,342,343,344,345,346,347,348,349,350,351,352,353,354,355,356,357,358,359,360,361,362,363,364,365,366,367,368,369,370,371,372,373,374,375,376,377,378,379,380,381,382,383,384,385,386,387,388,389,390,391,392,393,394,395,396,397,398,399,400,401,402,403,404,405,406,407,408,409,410,411,412,413,414,415,416,417,418,419,420,421,422,423,424,425,426,427,428,429,430,431,432,433,434,435,436,437,438,439,440,441,442,443,444,445,446,447,448,449,450,451,452,453,454,455,456,457,458,459,460,461,462,463,464,465,466,467,468,469,470,471,472,473,474,475,476,477,478,479,480,481,482,483,484,485,486,487,488,489,490,491,492,493,494,495,496,497,498,499,500,501,502,503,504,505,506,507,508,509,510,511,512,513,514,515,516,517,518,519,520,521,522,523,524,525,526,527,528,529,530,531,532,533,534,535,536,537,538,539,540,541,542,543,544,545,546,547,548,549,550,551,552,553,554,555,556,557,558,559,560,561,562,563,564,565,566,567,568,569,570,571,572,573,574,575,576,577,578,579,580,581,582,583,584,585,586,587,588,589,590,591,592,593,594,595,596,597,598,599,600,601,602,603,604,605,606,607,608,609,610,611,612,613,614,615,616,617,618,619,620,621,622,623,624,625,626,627,628,629,630,631,632,633,634,635,636,637,638,639,640,641,642,643,644,645,646,647,648,649,650,651,652,653,654,655,656,657,658,659,660,661,662,663,664,665,666,667,668,669,670,671,672,673,674,675,676,677,678,679,680,681,682,683,684,685,686,687,688,689,690,691,692,693,694,695,696,697,698,699,700,701,702,703,704,705,706,707,708,709,710,711,712,713,714,715,716,717,718,719,720,721,722,723,724,725,726,727,728,729,730,731,732,733,734,735,736,737,738,739,740,741,742,743,744,745,746,747,748,749,750,751,752,753,754,755,756,757,758,759,760,761,762,763,764,765,766,767,768,769,770,771,772,773,774,775,776,777,778,779,780,781,782,783,784,785,786,787,788,789,790,791,792,793,794,795,796,797,798,799,800,801,802,803,804,805,806,807,808,809,810,811,812,813,814,815,816,817,818,819,820,821,822,823,824,825,826,827,828,829,830,831,832,833,834,835,836,837,838,839,840,841,842,843,844,845,846,847,848,849,850,851,852,853,854,855,856,857,858,859,860,861,862,863,864,865,866,867,868,869,870,871,872,873,874,875,876,877,878,879,880,881,882,883,884,885,886,887,888,889,890,891,892,893,894,895,896,897,898,899,900,901,902,903,904,905,906,907,908,909,910,911,912,913,914,915,916,917,918,919,920,921,922,923,924,925,926,927,928,929,930,931,932,933,934,935,936,937,938,939,940,941,942,943,944,945,946,947,948,949,950,951,952,953,954,955,956,957,958,959,960,961,962,963,964,965,966,967,968,969,970,971,972,973,974,975,976,977,978,979,980,981,982,983,984,985,986,987,988,989,990,991,992,993,994,995,996,997,998,999,1000,1001,1002,1003,1004,1005,1006,1007,1008,1009,1010,1011,1012,1013,1014,1015,1016,1017,1018,1019,1020,1021,1022,1023,1024,1025,1026,1027,1028,1029,1030,1031,1032,1033,1034,1035,1036,1037,1038,1039,1040,1041,1042,1043,1044,1045,1046,1047,1048,1049,1050,1051,1052,1053,1054,1055,1056,1057,1058,1059,1060,1061,1062,1063,1064,1065,1066,1067,1068,1069,1070,1071,1072,1073,1074,1075,1076,1077,1078,1079,1080,1081,1082,1083,1084,1085,1086,1087,1088,1089,1090,1091,1092,1093,1094,1095,1096,1097,1098,1099,1100,1101,1102,1103,1104,1105,1106,1107,1108,1109,1110,1111,1112,1113,1114,1115,1116,1117,1118,1119,1120,1121,1122,1123,1124,1125,1126,1127,1128,1129,1130,1131,1132,1133,1134,1135,1136,1137,1138,1139,1140,1141,1142,1143,1144,1145,1146,1147,1148,1149,1150,1151,1152,1153,1154,1155,1156,1157,1158,1159,1160,1161,1162,1163,1164,1165,1166,1167,1168,1169,1170,1171,1172,1173,1174,1175,1176,1177,1178,1179,1180,1181,1182,1183,1184,1185,1186,1187,1188,1189,1190,1191,1192,1193,1194,1195,1196,1197,1198,1199,1200,1201,1202,1203,1204,1205,1206,1207,1208,1209,1210,1211,1212,1213,1214,1215,1216,1217,1218,1219,1220,1221,1222,1223,1224,1225,1226,1227,1228,1229,1230,1231,1232,1233,1234,1235,1236,1237,1238,1239,1240,1241,1242,1243,1244,1245,1246,1247,1248,1249,1250,1251,1252,1253,1254,1255,1256,1257],\"xaxis\":\"x\",\"y\":[135.51,135.345,135.72,136.7,137.11,136.53,136.66,136.93,136.99,139.79,138.96,139.78,139.34,139.52,139.0,138.68,139.14,139.2,138.99,140.46,140.69,139.99,141.46,139.84,141.42,140.92,140.64,140.88,143.8,144.12,143.93,143.66,143.7,144.77,144.02,143.66,143.34,143.17,141.63,141.8,141.05,141.83,141.2,140.68,142.44,142.27,143.64,144.53,143.68,143.79,143.65,146.58,147.51,147.06,146.53,148.96,153.01,153.99,153.26,153.95,156.1,155.7,155.47,150.25,152.54,153.06,153.99,153.8,153.34,153.87,153.61,153.67,152.76,153.18,155.45,153.93,154.45,155.37,154.99,148.98,145.42,146.59,145.16,144.29,142.27,146.34,145.01,145.87,145.63,146.28,145.82,143.73,145.83,143.68,144.02,143.5,144.09,142.73,144.18,145.06,145.53,145.74,147.77,149.04,149.56,150.08,151.02,150.34,150.27,152.09,152.74,153.46,150.56,149.5,148.73,150.05,157.14,155.57,156.39,158.81,160.08,161.059998,155.32,157.48,159.85,161.6,160.95,157.86,157.5,157.21,159.78,159.98,159.27,159.86,161.47,162.91,163.35,164.0,164.05,162.08,161.91,161.26,158.63,161.5,160.86,159.65,158.28,159.88,158.67,158.73,156.07,153.39,151.89,150.55,153.14,154.23,153.28,154.12,153.81,154.48,153.48,155.39,155.3,155.84,155.9,156.55,156.0,156.99,159.88,160.47,159.76,155.98,156.25,156.17,157.1,156.41,157.41,163.05,166.72,169.04,166.89,168.11,172.5,174.25,174.81,176.24,175.88,174.67,173.97,171.34,169.08,171.1,170.15,169.98,173.14,174.96,174.97,174.09,173.07,169.48,171.85,171.05,169.8,169.64,169.01,169.32,169.37,172.67,171.7,172.27,172.22,173.97,176.42,174.54,174.35,175.01,175.01,170.57,170.6,171.08,169.23,172.26,172.23,173.03,175.0,174.35,174.33,174.29,175.28,177.09,176.19,179.1,179.26,178.46,177.0,177.04,174.22,171.11,171.51,167.96,166.97,167.43,167.78,160.5,156.49,163.03,159.54,155.15,156.41,162.71,164.34,167.37,172.99,172.43,171.85,171.07,172.5,175.5,178.97,178.39,178.12,175.0,176.21,176.82,176.67,175.03,176.94,179.98,181.72,179.97,178.44,178.65,178.02,175.3,175.24,171.27,168.85,164.94,172.77,168.34,166.48,167.78,166.68,168.39,171.61,172.8,168.38,170.05,173.25,172.44,174.14,174.73,175.82,178.24,177.84,172.8,165.72,165.24,162.94,163.65,164.22,162.32,165.26,169.1,176.57,176.89,183.83,185.16,186.05,187.36,190.04,188.59,188.15,186.44,188.18,186.99,186.31,187.63,187.16,188.36,188.15,188.58,187.9,187.5,186.87,190.24,191.83,193.31,193.98,193.46,191.7,191.23,192.28,190.7,190.8,188.84,188.74,185.69,186.5,185.46,184.92,182.17,184.43,184.16,185.5,185.11,187.18,183.92,185.4,187.97,190.58,190.35,187.88,191.03,191.33,190.91,191.45,190.4,191.88,191.44,191.61,193.0,194.82,194.21,190.98,189.91,190.29,201.5,207.39,207.99,209.07,207.11,207.25,208.88,207.53,208.87,209.75,210.24,213.32,217.58,215.46,215.04,215.05,215.49,216.16,217.94,219.7,222.98,225.03,227.63,228.36,226.87,223.1,221.3,218.33,223.85,221.07,226.41,223.84,217.88,218.24,218.37,220.03,217.66,220.79,222.19,220.42,224.95,225.74,227.26,229.28,232.07,227.99,224.29,223.77,226.87,216.36,214.45,222.11,217.36,222.15,221.19,216.02,219.31,220.65,222.73,215.09,219.8,216.3,212.24,213.3,218.86,222.22,207.48,201.59,203.77,209.95,208.49,204.47,194.17,192.23,186.8,191.41,193.53,185.86,176.98,176.78,172.29,174.62,174.24,180.94,179.55,178.58,184.82,176.69,174.72,168.49,169.6,168.63,169.1,170.95,165.48,163.94,166.07,160.89,156.83,150.73,146.83,157.17,156.15,156.23,157.74,157.92,142.19,148.26,147.93,150.75,153.31,153.8,152.29,150.0,153.07,154.94,155.86,156.82,153.3,153.92,152.7,157.76,156.3,154.68,165.25,166.44,166.52,171.25,174.18,174.24,170.94,170.41,169.43,170.89,170.18,170.8,170.42,170.93,172.03,171.06,172.97,174.23,174.33,174.87,173.15,174.97,175.85,175.53,174.52,172.5,172.91,178.9,180.91,181.71,183.73,186.12,188.02,186.53,188.16,195.09,191.05,188.74,186.79,188.47,188.72,189.95,191.24,194.02,195.35,195.69,197.0,200.1,199.5,200.62,198.95,198.87,199.23,199.25,203.13,203.86,204.53,207.48,207.16,205.28,204.3,204.61,200.67,210.52,209.15,211.75,208.48,202.86,202.9,200.72,197.18,185.72,188.66,190.92,190.08,189.0,183.09,186.6,182.78,179.66,178.97,178.23,177.38,178.3,175.07,173.3,179.64,182.54,185.22,190.15,192.58,194.81,194.19,194.15,192.74,193.89,198.45,197.87,199.46,198.78,198.58,195.57,199.8,199.74,197.92,201.55,202.73,204.41,204.23,200.02,201.24,203.23,201.75,203.3,205.21,204.5,203.35,205.66,202.59,207.22,208.84,208.67,207.02,207.74,209.68,208.78,213.04,208.43,204.02,193.34,197.0,199.04,203.43,200.99,200.48,208.97,202.75,201.74,206.5,210.35,210.36,212.64,212.46,202.64,206.49,204.16,205.53,209.01,208.74,205.7,209.19,213.28,213.26,214.17,216.7,223.59,223.09,218.75,219.9,220.7,222.77,220.96,217.73,218.72,217.68,221.03,219.89,218.82,223.97,224.59,218.96,220.82,227.01,227.06,224.4,227.03,230.09,236.21,235.87,235.32,234.37,235.28,236.41,240.51,239.96,243.18,243.58,246.58,249.05,243.29,243.26,248.76,255.82,257.5,257.13,257.24,259.43,260.14,262.2,261.96,264.47,262.64,265.76,267.1,266.29,263.19,262.01,261.78,266.37,264.29,267.84,267.25,264.16,259.45,261.74,265.58,270.71,266.92,268.48,270.77,271.46,275.15,279.86,280.41,279.74,280.02,279.44,284.0,284.27,289.91,289.8,291.52,293.65,300.35,297.43,299.8,298.39,303.19,309.63,310.33,316.96,312.68,311.34,315.24,318.73,316.57,317.7,319.23,318.31,308.95,317.69,324.34,323.87,309.51,308.66,318.85,321.45,325.21,320.03,321.55,319.61,327.2,324.87,324.95,319.0,323.62,320.3,313.05,298.18,288.08,292.65,273.52,273.36,298.81,289.32,302.74,292.92,289.03,266.17,285.34,275.43,248.23,277.97,242.21,252.86,246.67,244.78,229.24,224.37,246.88,245.52,258.44,247.74,254.81,254.29,240.91,244.93,241.41,262.47,259.43,266.07,267.99,273.25,287.05,284.43,286.69,282.8,276.93,268.37,276.1,275.03,282.97,283.17,278.58,287.73,293.8,289.07,293.16,297.56,300.63,303.74,310.13,315.01,311.41,307.65,309.54,307.71,314.96,313.14,319.23,316.85,318.89,316.73,318.11,318.25,317.94,321.85,323.34,325.12,322.32,331.5,333.46,343.99,352.84,335.9,338.8,342.99,352.08,351.59,351.73,349.72,358.87,366.53,360.06,364.84,353.63,361.78,364.8,364.11,364.11,373.85,372.69,381.37,383.01,383.68,381.91,388.23,390.9,386.09,385.31,393.43,388.0,389.09,371.38,370.46,379.24,373.01,380.16,384.76,425.04,435.75,438.66,440.25,455.61,444.45,450.91,437.5,452.04,460.04,459.63,458.43,462.25,462.83,473.1,497.48,503.43,499.3,506.09,500.04,499.23,129.04,134.18,131.4,120.88,120.96,112.82,117.32,113.49,112.0,115.355,115.54,112.13,110.34,106.84,110.08,111.81,107.12,108.22,112.28,114.96,114.09,115.81,116.79,113.02,116.5,113.16,115.08,114.97,116.97,124.4,121.1,121.19,120.71,119.02,115.98,117.51,116.87,115.75,115.04,115.05,116.6,111.2,115.32,108.86,108.77,110.44,114.95,119.03,118.69,116.32,115.97,119.49,119.21,119.26,120.3,119.39,118.03,118.64,117.34,113.85,115.17,116.03,116.59,119.05,122.72,123.08,122.94,122.25,123.75,124.38,121.78,123.24,122.41,121.78,127.88,127.81,128.7,126.655,128.23,131.88,130.96,131.97,136.69,134.87,133.72,132.69,129.41,131.01,126.6,130.92,132.05,128.98,128.8,130.89,128.91,127.14,127.83,132.03,136.87,139.07,142.92,143.16,142.06,137.09,131.96,134.14,134.99,133.94,137.39,136.76,136.91,136.01,135.39,135.13,135.37,133.19,130.84,129.71,129.87,126.0,125.86,125.35,120.99,121.26,127.79,125.12,122.06,120.13,121.42,116.36,121.085,119.98,121.96,121.03,123.99,125.57,124.76,120.53,119.99,123.39,122.54,120.09,120.59,121.21,121.39,119.9,122.15,123.0,125.9,126.21,127.9,130.36,132.995,131.24,134.43,132.03,134.5,134.16,134.84,133.11,133.5,131.94,134.32,134.72,134.39,133.58,133.48,131.46,132.54,127.85,128.1,129.74,130.21,126.85,125.91,122.77,124.97,127.45,126.27,124.85,124.69,127.31,125.43,127.1,126.9,126.85,125.28,124.61,124.28,125.06,123.54,125.89,125.9,126.74,127.13,126.11,127.35,130.48,129.64,130.15,131.79,130.46,132.3,133.98,133.7,133.41,133.11,134.78,136.33,136.96,137.27,139.96,142.02,144.57,143.24,145.11,144.5,145.64,149.15,148.48,146.39,142.45,146.15,145.4,146.8,148.56,148.99,146.77,144.98,145.64,145.86,145.52,147.36,146.95,147.06,146.14,146.09,145.6,145.86,148.89,149.1,151.12,150.19,146.36,146.7,148.19,149.71,149.62,148.36,147.54,148.6,153.12,151.83,152.51,153.65,154.3,156.69,155.11,154.07,148.97,149.55,148.12,149.03,148.79,146.06,142.94,143.43,145.85,146.83,146.92,145.37,141.91,142.83,141.5,142.65,139.14,141.11,142.0,143.29,142.9,142.81,141.51,140.91,143.76,144.84,146.55,148.76,149.26,149.48,148.69,148.64,149.32,148.85,152.57,149.8,148.96,150.02,151.49,150.96,151.28,150.44,150.81,147.92,147.87,149.99,150.0,151.0,153.49,157.87,160.55,161.02,161.41,161.94,156.81,160.24,165.3,164.77,163.76,161.84,165.32,171.18,175.08,174.56,179.45,175.74,174.33,179.3,172.26,171.14,169.75,172.99,175.64,176.28,180.33,179.29,179.38,178.2,177.57,182.01,179.7,174.92,172.0,172.17,172.19,175.08,175.53,172.19,173.07,169.8,166.23,164.51,162.41,161.62,159.78,159.69,159.22,170.33,174.78,174.61,175.84,172.9,172.39,171.66,174.83,176.28,172.12,168.64],\"yaxis\":\"y\",\"type\":\"scattergl\"}],                        {\"template\":{\"data\":{\"bar\":[{\"error_x\":{\"color\":\"#2a3f5f\"},\"error_y\":{\"color\":\"#2a3f5f\"},\"marker\":{\"line\":{\"color\":\"#E5ECF6\",\"width\":0.5},\"pattern\":{\"fillmode\":\"overlay\",\"size\":10,\"solidity\":0.2}},\"type\":\"bar\"}],\"barpolar\":[{\"marker\":{\"line\":{\"color\":\"#E5ECF6\",\"width\":0.5},\"pattern\":{\"fillmode\":\"overlay\",\"size\":10,\"solidity\":0.2}},\"type\":\"barpolar\"}],\"carpet\":[{\"aaxis\":{\"endlinecolor\":\"#2a3f5f\",\"gridcolor\":\"white\",\"linecolor\":\"white\",\"minorgridcolor\":\"white\",\"startlinecolor\":\"#2a3f5f\"},\"baxis\":{\"endlinecolor\":\"#2a3f5f\",\"gridcolor\":\"white\",\"linecolor\":\"white\",\"minorgridcolor\":\"white\",\"startlinecolor\":\"#2a3f5f\"},\"type\":\"carpet\"}],\"choropleth\":[{\"colorbar\":{\"outlinewidth\":0,\"ticks\":\"\"},\"type\":\"choropleth\"}],\"contour\":[{\"colorbar\":{\"outlinewidth\":0,\"ticks\":\"\"},\"colorscale\":[[0.0,\"#0d0887\"],[0.1111111111111111,\"#46039f\"],[0.2222222222222222,\"#7201a8\"],[0.3333333333333333,\"#9c179e\"],[0.4444444444444444,\"#bd3786\"],[0.5555555555555556,\"#d8576b\"],[0.6666666666666666,\"#ed7953\"],[0.7777777777777778,\"#fb9f3a\"],[0.8888888888888888,\"#fdca26\"],[1.0,\"#f0f921\"]],\"type\":\"contour\"}],\"contourcarpet\":[{\"colorbar\":{\"outlinewidth\":0,\"ticks\":\"\"},\"type\":\"contourcarpet\"}],\"heatmap\":[{\"colorbar\":{\"outlinewidth\":0,\"ticks\":\"\"},\"colorscale\":[[0.0,\"#0d0887\"],[0.1111111111111111,\"#46039f\"],[0.2222222222222222,\"#7201a8\"],[0.3333333333333333,\"#9c179e\"],[0.4444444444444444,\"#bd3786\"],[0.5555555555555556,\"#d8576b\"],[0.6666666666666666,\"#ed7953\"],[0.7777777777777778,\"#fb9f3a\"],[0.8888888888888888,\"#fdca26\"],[1.0,\"#f0f921\"]],\"type\":\"heatmap\"}],\"heatmapgl\":[{\"colorbar\":{\"outlinewidth\":0,\"ticks\":\"\"},\"colorscale\":[[0.0,\"#0d0887\"],[0.1111111111111111,\"#46039f\"],[0.2222222222222222,\"#7201a8\"],[0.3333333333333333,\"#9c179e\"],[0.4444444444444444,\"#bd3786\"],[0.5555555555555556,\"#d8576b\"],[0.6666666666666666,\"#ed7953\"],[0.7777777777777778,\"#fb9f3a\"],[0.8888888888888888,\"#fdca26\"],[1.0,\"#f0f921\"]],\"type\":\"heatmapgl\"}],\"histogram\":[{\"marker\":{\"pattern\":{\"fillmode\":\"overlay\",\"size\":10,\"solidity\":0.2}},\"type\":\"histogram\"}],\"histogram2d\":[{\"colorbar\":{\"outlinewidth\":0,\"ticks\":\"\"},\"colorscale\":[[0.0,\"#0d0887\"],[0.1111111111111111,\"#46039f\"],[0.2222222222222222,\"#7201a8\"],[0.3333333333333333,\"#9c179e\"],[0.4444444444444444,\"#bd3786\"],[0.5555555555555556,\"#d8576b\"],[0.6666666666666666,\"#ed7953\"],[0.7777777777777778,\"#fb9f3a\"],[0.8888888888888888,\"#fdca26\"],[1.0,\"#f0f921\"]],\"type\":\"histogram2d\"}],\"histogram2dcontour\":[{\"colorbar\":{\"outlinewidth\":0,\"ticks\":\"\"},\"colorscale\":[[0.0,\"#0d0887\"],[0.1111111111111111,\"#46039f\"],[0.2222222222222222,\"#7201a8\"],[0.3333333333333333,\"#9c179e\"],[0.4444444444444444,\"#bd3786\"],[0.5555555555555556,\"#d8576b\"],[0.6666666666666666,\"#ed7953\"],[0.7777777777777778,\"#fb9f3a\"],[0.8888888888888888,\"#fdca26\"],[1.0,\"#f0f921\"]],\"type\":\"histogram2dcontour\"}],\"mesh3d\":[{\"colorbar\":{\"outlinewidth\":0,\"ticks\":\"\"},\"type\":\"mesh3d\"}],\"parcoords\":[{\"line\":{\"colorbar\":{\"outlinewidth\":0,\"ticks\":\"\"}},\"type\":\"parcoords\"}],\"pie\":[{\"automargin\":true,\"type\":\"pie\"}],\"scatter\":[{\"marker\":{\"colorbar\":{\"outlinewidth\":0,\"ticks\":\"\"}},\"type\":\"scatter\"}],\"scatter3d\":[{\"line\":{\"colorbar\":{\"outlinewidth\":0,\"ticks\":\"\"}},\"marker\":{\"colorbar\":{\"outlinewidth\":0,\"ticks\":\"\"}},\"type\":\"scatter3d\"}],\"scattercarpet\":[{\"marker\":{\"colorbar\":{\"outlinewidth\":0,\"ticks\":\"\"}},\"type\":\"scattercarpet\"}],\"scattergeo\":[{\"marker\":{\"colorbar\":{\"outlinewidth\":0,\"ticks\":\"\"}},\"type\":\"scattergeo\"}],\"scattergl\":[{\"marker\":{\"colorbar\":{\"outlinewidth\":0,\"ticks\":\"\"}},\"type\":\"scattergl\"}],\"scattermapbox\":[{\"marker\":{\"colorbar\":{\"outlinewidth\":0,\"ticks\":\"\"}},\"type\":\"scattermapbox\"}],\"scatterpolar\":[{\"marker\":{\"colorbar\":{\"outlinewidth\":0,\"ticks\":\"\"}},\"type\":\"scatterpolar\"}],\"scatterpolargl\":[{\"marker\":{\"colorbar\":{\"outlinewidth\":0,\"ticks\":\"\"}},\"type\":\"scatterpolargl\"}],\"scatterternary\":[{\"marker\":{\"colorbar\":{\"outlinewidth\":0,\"ticks\":\"\"}},\"type\":\"scatterternary\"}],\"surface\":[{\"colorbar\":{\"outlinewidth\":0,\"ticks\":\"\"},\"colorscale\":[[0.0,\"#0d0887\"],[0.1111111111111111,\"#46039f\"],[0.2222222222222222,\"#7201a8\"],[0.3333333333333333,\"#9c179e\"],[0.4444444444444444,\"#bd3786\"],[0.5555555555555556,\"#d8576b\"],[0.6666666666666666,\"#ed7953\"],[0.7777777777777778,\"#fb9f3a\"],[0.8888888888888888,\"#fdca26\"],[1.0,\"#f0f921\"]],\"type\":\"surface\"}],\"table\":[{\"cells\":{\"fill\":{\"color\":\"#EBF0F8\"},\"line\":{\"color\":\"white\"}},\"header\":{\"fill\":{\"color\":\"#C8D4E3\"},\"line\":{\"color\":\"white\"}},\"type\":\"table\"}]},\"layout\":{\"annotationdefaults\":{\"arrowcolor\":\"#2a3f5f\",\"arrowhead\":0,\"arrowwidth\":1},\"autotypenumbers\":\"strict\",\"coloraxis\":{\"colorbar\":{\"outlinewidth\":0,\"ticks\":\"\"}},\"colorscale\":{\"diverging\":[[0,\"#8e0152\"],[0.1,\"#c51b7d\"],[0.2,\"#de77ae\"],[0.3,\"#f1b6da\"],[0.4,\"#fde0ef\"],[0.5,\"#f7f7f7\"],[0.6,\"#e6f5d0\"],[0.7,\"#b8e186\"],[0.8,\"#7fbc41\"],[0.9,\"#4d9221\"],[1,\"#276419\"]],\"sequential\":[[0.0,\"#0d0887\"],[0.1111111111111111,\"#46039f\"],[0.2222222222222222,\"#7201a8\"],[0.3333333333333333,\"#9c179e\"],[0.4444444444444444,\"#bd3786\"],[0.5555555555555556,\"#d8576b\"],[0.6666666666666666,\"#ed7953\"],[0.7777777777777778,\"#fb9f3a\"],[0.8888888888888888,\"#fdca26\"],[1.0,\"#f0f921\"]],\"sequentialminus\":[[0.0,\"#0d0887\"],[0.1111111111111111,\"#46039f\"],[0.2222222222222222,\"#7201a8\"],[0.3333333333333333,\"#9c179e\"],[0.4444444444444444,\"#bd3786\"],[0.5555555555555556,\"#d8576b\"],[0.6666666666666666,\"#ed7953\"],[0.7777777777777778,\"#fb9f3a\"],[0.8888888888888888,\"#fdca26\"],[1.0,\"#f0f921\"]]},\"colorway\":[\"#636efa\",\"#EF553B\",\"#00cc96\",\"#ab63fa\",\"#FFA15A\",\"#19d3f3\",\"#FF6692\",\"#B6E880\",\"#FF97FF\",\"#FECB52\"],\"font\":{\"color\":\"#2a3f5f\"},\"geo\":{\"bgcolor\":\"white\",\"lakecolor\":\"white\",\"landcolor\":\"#E5ECF6\",\"showlakes\":true,\"showland\":true,\"subunitcolor\":\"white\"},\"hoverlabel\":{\"align\":\"left\"},\"hovermode\":\"closest\",\"mapbox\":{\"style\":\"light\"},\"paper_bgcolor\":\"white\",\"plot_bgcolor\":\"#E5ECF6\",\"polar\":{\"angularaxis\":{\"gridcolor\":\"white\",\"linecolor\":\"white\",\"ticks\":\"\"},\"bgcolor\":\"#E5ECF6\",\"radialaxis\":{\"gridcolor\":\"white\",\"linecolor\":\"white\",\"ticks\":\"\"}},\"scene\":{\"xaxis\":{\"backgroundcolor\":\"#E5ECF6\",\"gridcolor\":\"white\",\"gridwidth\":2,\"linecolor\":\"white\",\"showbackground\":true,\"ticks\":\"\",\"zerolinecolor\":\"white\"},\"yaxis\":{\"backgroundcolor\":\"#E5ECF6\",\"gridcolor\":\"white\",\"gridwidth\":2,\"linecolor\":\"white\",\"showbackground\":true,\"ticks\":\"\",\"zerolinecolor\":\"white\"},\"zaxis\":{\"backgroundcolor\":\"#E5ECF6\",\"gridcolor\":\"white\",\"gridwidth\":2,\"linecolor\":\"white\",\"showbackground\":true,\"ticks\":\"\",\"zerolinecolor\":\"white\"}},\"shapedefaults\":{\"line\":{\"color\":\"#2a3f5f\"}},\"ternary\":{\"aaxis\":{\"gridcolor\":\"white\",\"linecolor\":\"white\",\"ticks\":\"\"},\"baxis\":{\"gridcolor\":\"white\",\"linecolor\":\"white\",\"ticks\":\"\"},\"bgcolor\":\"#E5ECF6\",\"caxis\":{\"gridcolor\":\"white\",\"linecolor\":\"white\",\"ticks\":\"\"}},\"title\":{\"x\":0.05},\"xaxis\":{\"automargin\":true,\"gridcolor\":\"white\",\"linecolor\":\"white\",\"ticks\":\"\",\"title\":{\"standoff\":15},\"zerolinecolor\":\"white\",\"zerolinewidth\":2},\"yaxis\":{\"automargin\":true,\"gridcolor\":\"white\",\"linecolor\":\"white\",\"ticks\":\"\",\"title\":{\"standoff\":15},\"zerolinecolor\":\"white\",\"zerolinewidth\":2}}},\"xaxis\":{\"anchor\":\"y\",\"domain\":[0.0,1.0],\"title\":{\"text\":\"index\"}},\"yaxis\":{\"anchor\":\"x\",\"domain\":[0.0,1.0],\"title\":{\"text\":\"value\"}},\"legend\":{\"title\":{\"text\":\"variable\"},\"tracegroupgap\":0},\"margin\":{\"t\":60}},                        {\"responsive\": true}                    ).then(function(){\n",
              "                            \n",
              "var gd = document.getElementById('d7203d42-e661-496a-a38e-ea3e78b5fa52');\n",
              "var x = new MutationObserver(function (mutations, observer) {{\n",
              "        var display = window.getComputedStyle(gd).display;\n",
              "        if (!display || display === 'none') {{\n",
              "            console.log([gd, 'removed!']);\n",
              "            Plotly.purge(gd);\n",
              "            observer.disconnect();\n",
              "        }}\n",
              "}});\n",
              "\n",
              "// Listen for the removal of the full notebook cells\n",
              "var notebookContainer = gd.closest('#notebook-container');\n",
              "if (notebookContainer) {{\n",
              "    x.observe(notebookContainer, {childList: true});\n",
              "}}\n",
              "\n",
              "// Listen for the clearing of the current output cell\n",
              "var outputEl = gd.closest('.output');\n",
              "if (outputEl) {{\n",
              "    x.observe(outputEl, {childList: true});\n",
              "}}\n",
              "\n",
              "                        })                };                            </script>        </div>\n",
              "</body>\n",
              "</html>"
            ]
          },
          "metadata": {}
        }
      ]
    },
    {
      "cell_type": "code",
      "source": [
        "### LSTM are sensitive to the scale of the data. so we apply MinMax scaler \n",
        "\n",
        "import numpy as np\n",
        "from sklearn.preprocessing import MinMaxScaler\n",
        "sclaler = MinMaxScaler()\n",
        "df1 = sclaler.fit_transform(np.array(df1).reshape(-1,1))\n",
        "df1"
      ],
      "metadata": {
        "colab": {
          "base_uri": "https://localhost:8080/"
        },
        "id": "f1AW0WmcWulv",
        "outputId": "50cec6b1-4497-41c8-a0eb-843b5e11149e"
      },
      "execution_count": 80,
      "outputs": [
        {
          "output_type": "execute_result",
          "data": {
            "text/plain": [
              "array([[0.07180964],\n",
              "       [0.07139637],\n",
              "       [0.07233563],\n",
              "       ...,\n",
              "       [0.17392611],\n",
              "       [0.16350657],\n",
              "       [0.15479023]])"
            ]
          },
          "metadata": {},
          "execution_count": 80
        }
      ]
    },
    {
      "cell_type": "code",
      "source": [
        "train_data_size = int(len(df1)*0.70)\n",
        "test_data_size = len(df1) - train_data_size\n",
        "train_data,test_data = df1[0:train_data_size,:],df1[train_data_size:len(df1),:1]\n",
        "print(train_data.shape,test_data.shape)"
      ],
      "metadata": {
        "colab": {
          "base_uri": "https://localhost:8080/"
        },
        "id": "V-2yRqJ7Xpsy",
        "outputId": "36084ee8-d34e-40c2-f4ff-7b03d5b05652"
      },
      "execution_count": 81,
      "outputs": [
        {
          "output_type": "stream",
          "name": "stdout",
          "text": [
            "(880, 1) (378, 1)\n"
          ]
        }
      ]
    },
    {
      "cell_type": "code",
      "source": [
        "train_data[:5]"
      ],
      "metadata": {
        "colab": {
          "base_uri": "https://localhost:8080/"
        },
        "id": "wGJr21XPayPS",
        "outputId": "b8949387-e61e-4b9f-b35f-003fc7970582"
      },
      "execution_count": 82,
      "outputs": [
        {
          "output_type": "execute_result",
          "data": {
            "text/plain": [
              "array([[0.07180964],\n",
              "       [0.07139637],\n",
              "       [0.07233563],\n",
              "       [0.07479023],\n",
              "       [0.07581716]])"
            ]
          },
          "metadata": {},
          "execution_count": 82
        }
      ]
    },
    {
      "cell_type": "markdown",
      "source": [
        "[click here](https://ibb.co/yhYJsqf)  ---> your data should do model like this"
      ],
      "metadata": {
        "id": "1nUQOAipDTdw"
      }
    },
    {
      "cell_type": "code",
      "source": [
        "import numpy\n",
        "# convert an array of values into a dataset matrix\n",
        "def create_dataset(dataset, time_step=1):\n",
        "\tdataX, dataY = [], []\n",
        "\tfor i in range(len(dataset)-time_step-1):\n",
        "\t\ta = dataset[i:(i+time_step), 0]   ###i=0, 0,1,2,3-----99   100 \n",
        "\t\tdataX.append(a)\n",
        "\t\tdataY.append(dataset[i + time_step, 0])\n",
        "\treturn numpy.array(dataX), numpy.array(dataY)"
      ],
      "metadata": {
        "id": "oEneoTwggNG4"
      },
      "execution_count": 83,
      "outputs": []
    },
    {
      "cell_type": "code",
      "source": [
        "# reshape into X=t,t+1,t+2,t+3 and Y=t+4\n",
        "time_step = 100\n",
        "X_train, y_train = create_dataset(train_data, time_step)\n",
        "X_test, y_test = create_dataset(test_data, time_step)"
      ],
      "metadata": {
        "id": "vqdNUM6tEEzW"
      },
      "execution_count": 84,
      "outputs": []
    },
    {
      "cell_type": "code",
      "source": [
        "print(X_train.shape)\n",
        "print(X_test.shape)"
      ],
      "metadata": {
        "colab": {
          "base_uri": "https://localhost:8080/"
        },
        "id": "iBBBHBxEFAqq",
        "outputId": "0b114a44-a625-4830-92e6-290b9db1d839"
      },
      "execution_count": 85,
      "outputs": [
        {
          "output_type": "stream",
          "name": "stdout",
          "text": [
            "(779, 100)\n",
            "(277, 100)\n"
          ]
        }
      ]
    },
    {
      "cell_type": "code",
      "source": [
        "print(y_train.shape)\n",
        "print(y_test.shape)"
      ],
      "metadata": {
        "colab": {
          "base_uri": "https://localhost:8080/"
        },
        "id": "EDBVJ5dwFv4J",
        "outputId": "8815536c-ec1c-4723-dd32-1ac389cfc6ca"
      },
      "execution_count": 86,
      "outputs": [
        {
          "output_type": "stream",
          "name": "stdout",
          "text": [
            "(779,)\n",
            "(277,)\n"
          ]
        }
      ]
    },
    {
      "cell_type": "code",
      "source": [
        "# reshape input to be [samples, time steps, features] which is required for LSTM\n",
        "X_train =X_train.reshape(X_train.shape[0],X_train.shape[1] , 1)\n",
        "X_test = X_test.reshape(X_test.shape[0],X_test.shape[1] , 1)"
      ],
      "metadata": {
        "id": "B7Rs0el3GJVk"
      },
      "execution_count": 87,
      "outputs": []
    },
    {
      "cell_type": "code",
      "source": [
        "X_train.shape"
      ],
      "metadata": {
        "colab": {
          "base_uri": "https://localhost:8080/"
        },
        "id": "pRuHavd6GUAJ",
        "outputId": "b5d66af9-e48c-47e5-8089-eec4451eeb96"
      },
      "execution_count": 88,
      "outputs": [
        {
          "output_type": "execute_result",
          "data": {
            "text/plain": [
              "(779, 100, 1)"
            ]
          },
          "metadata": {},
          "execution_count": 88
        }
      ]
    },
    {
      "cell_type": "code",
      "source": [
        "from tensorflow.keras.layers import Dense,Dropout,Embedding,LSTM\n",
        "from tensorflow.keras.models import Sequential"
      ],
      "metadata": {
        "id": "bw6kXbPzGWBI"
      },
      "execution_count": 89,
      "outputs": []
    },
    {
      "cell_type": "code",
      "source": [
        "model = Sequential()\n",
        "model.add(LSTM(50,return_sequences=True,input_shape=(100,1)))\n",
        "model.add(LSTM(50,return_sequences=True))\n",
        "model.add(LSTM(50))\n",
        "model.add(Dense(1))\n",
        "model.compile(loss=\"mean_squared_error\",optimizer=\"adam\",metrics=[\"accuracy\"])\n",
        "model.summary()"
      ],
      "metadata": {
        "colab": {
          "base_uri": "https://localhost:8080/"
        },
        "id": "gPV6hm44GxdQ",
        "outputId": "8633a63c-27bb-4d8e-e802-5fcefe68866a"
      },
      "execution_count": 90,
      "outputs": [
        {
          "output_type": "stream",
          "name": "stdout",
          "text": [
            "Model: \"sequential_3\"\n",
            "_________________________________________________________________\n",
            " Layer (type)                Output Shape              Param #   \n",
            "=================================================================\n",
            " lstm_2 (LSTM)               (None, 100, 50)           10400     \n",
            "                                                                 \n",
            " lstm_3 (LSTM)               (None, 100, 50)           20200     \n",
            "                                                                 \n",
            " lstm_4 (LSTM)               (None, 50)                20200     \n",
            "                                                                 \n",
            " dense_2 (Dense)             (None, 1)                 51        \n",
            "                                                                 \n",
            "=================================================================\n",
            "Total params: 50,851\n",
            "Trainable params: 50,851\n",
            "Non-trainable params: 0\n",
            "_________________________________________________________________\n"
          ]
        }
      ]
    },
    {
      "cell_type": "code",
      "source": [
        "model.fit(X_train,y_train,validation_data=(X_test,y_test),epochs=10,batch_size=64)"
      ],
      "metadata": {
        "colab": {
          "base_uri": "https://localhost:8080/"
        },
        "id": "0DAwscMGHkgm",
        "outputId": "0c033ed0-700d-4831-fd84-8a9b51f053e1"
      },
      "execution_count": 91,
      "outputs": [
        {
          "output_type": "stream",
          "name": "stdout",
          "text": [
            "Epoch 1/10\n",
            "13/13 [==============================] - 8s 195ms/step - loss: 0.0347 - accuracy: 0.0000e+00 - val_loss: 0.0036 - val_accuracy: 0.0000e+00\n",
            "Epoch 2/10\n",
            "13/13 [==============================] - 1s 83ms/step - loss: 0.0065 - accuracy: 0.0000e+00 - val_loss: 0.0055 - val_accuracy: 0.0000e+00\n",
            "Epoch 3/10\n",
            "13/13 [==============================] - 1s 83ms/step - loss: 0.0022 - accuracy: 0.0000e+00 - val_loss: 3.1491e-04 - val_accuracy: 0.0000e+00\n",
            "Epoch 4/10\n",
            "13/13 [==============================] - 1s 83ms/step - loss: 0.0013 - accuracy: 0.0000e+00 - val_loss: 2.9246e-04 - val_accuracy: 0.0000e+00\n",
            "Epoch 5/10\n",
            "13/13 [==============================] - 1s 82ms/step - loss: 0.0012 - accuracy: 0.0000e+00 - val_loss: 4.1207e-04 - val_accuracy: 0.0000e+00\n",
            "Epoch 6/10\n",
            "13/13 [==============================] - 1s 81ms/step - loss: 0.0011 - accuracy: 0.0000e+00 - val_loss: 4.3648e-04 - val_accuracy: 0.0000e+00\n",
            "Epoch 7/10\n",
            "13/13 [==============================] - 1s 82ms/step - loss: 0.0011 - accuracy: 0.0000e+00 - val_loss: 2.7514e-04 - val_accuracy: 0.0000e+00\n",
            "Epoch 8/10\n",
            "13/13 [==============================] - 1s 82ms/step - loss: 0.0011 - accuracy: 0.0000e+00 - val_loss: 2.6313e-04 - val_accuracy: 0.0000e+00\n",
            "Epoch 9/10\n",
            "13/13 [==============================] - 1s 83ms/step - loss: 9.8408e-04 - accuracy: 0.0000e+00 - val_loss: 2.8756e-04 - val_accuracy: 0.0000e+00\n",
            "Epoch 10/10\n",
            "13/13 [==============================] - 1s 83ms/step - loss: 9.0910e-04 - accuracy: 0.0000e+00 - val_loss: 3.1825e-04 - val_accuracy: 0.0000e+00\n"
          ]
        },
        {
          "output_type": "execute_result",
          "data": {
            "text/plain": [
              "<keras.callbacks.History at 0x7f255a283d10>"
            ]
          },
          "metadata": {},
          "execution_count": 91
        }
      ]
    },
    {
      "cell_type": "code",
      "source": [
        "### Lets Do the prediction and check performance metrics\n",
        "train_predict=model.predict(X_train)\n",
        "test_predict=model.predict(X_test)"
      ],
      "metadata": {
        "id": "0XovfkaJIDX5"
      },
      "execution_count": 92,
      "outputs": []
    },
    {
      "cell_type": "code",
      "source": [
        "##Transformback to original form\n",
        "train_predict=sclaler.inverse_transform(train_predict)\n",
        "test_predict=sclaler.inverse_transform(test_predict)"
      ],
      "metadata": {
        "id": "8Q4lYOqAIoPA"
      },
      "execution_count": 93,
      "outputs": []
    },
    {
      "cell_type": "code",
      "source": [
        "### Calculate RMSE performance metrics\n",
        "import math\n",
        "from sklearn.metrics import mean_squared_error\n",
        "math.sqrt(mean_squared_error(y_train,train_predict))"
      ],
      "metadata": {
        "colab": {
          "base_uri": "https://localhost:8080/"
        },
        "id": "n2JF22ukIqv4",
        "outputId": "b04d6baf-37f6-48e6-9d01-b264c59301d4"
      },
      "execution_count": 94,
      "outputs": [
        {
          "output_type": "execute_result",
          "data": {
            "text/plain": [
              "227.50685571873407"
            ]
          },
          "metadata": {},
          "execution_count": 94
        }
      ]
    },
    {
      "cell_type": "code",
      "source": [
        "math.sqrt(mean_squared_error(y_test,test_predict))"
      ],
      "metadata": {
        "colab": {
          "base_uri": "https://localhost:8080/"
        },
        "id": "kGorThVoI5hs",
        "outputId": "85b45fd6-ecf6-4f02-91d6-9860621ae2e8"
      },
      "execution_count": 95,
      "outputs": [
        {
          "output_type": "execute_result",
          "data": {
            "text/plain": [
              "148.42271226561283"
            ]
          },
          "metadata": {},
          "execution_count": 95
        }
      ]
    },
    {
      "cell_type": "code",
      "source": [
        "### Plotting \n",
        "# shift train predictions for plotting\n",
        "import matplotlib.pyplot as plt\n",
        "look_back=100\n",
        "trainPredictPlot = numpy.empty_like(df1)\n",
        "trainPredictPlot[:, :] = np.nan\n",
        "trainPredictPlot[look_back:len(train_predict)+look_back, :] = train_predict\n",
        "# shift test predictions for plotting\n",
        "testPredictPlot = numpy.empty_like(df1)\n",
        "testPredictPlot[:, :] = numpy.nan\n",
        "testPredictPlot[len(train_predict)+(look_back*2)+1:len(df1)-1, :] = test_predict\n",
        "# plot baseline and predictions\n",
        "plt.plot(sclaler.inverse_transform(df1))\n",
        "plt.plot(trainPredictPlot)\n",
        "plt.plot(testPredictPlot)\n",
        "plt.show()"
      ],
      "metadata": {
        "colab": {
          "base_uri": "https://localhost:8080/",
          "height": 265
        },
        "id": "0KbmrbEbJAsW",
        "outputId": "1e354036-3536-4af3-a0dc-adbf727990df"
      },
      "execution_count": 96,
      "outputs": [
        {
          "output_type": "display_data",
          "data": {
            "image/png": "[encoded data removed]",
            "text/plain": [
              "<Figure size 432x288 with 1 Axes>"
            ]
          },
          "metadata": {
            "needs_background": "light"
          }
        }
      ]
    },
    {
      "cell_type": "code",
      "source": [
        "len(test_data)"
      ],
      "metadata": {
        "colab": {
          "base_uri": "https://localhost:8080/"
        },
        "id": "8Df3bWudJGXJ",
        "outputId": "3f85009a-c8e3-4417-c99b-0f3d7b410ec7"
      },
      "execution_count": 97,
      "outputs": [
        {
          "output_type": "execute_result",
          "data": {
            "text/plain": [
              "378"
            ]
          },
          "metadata": {},
          "execution_count": 97
        }
      ]
    },
    {
      "cell_type": "code",
      "source": [
        "x_input=test_data[278:].reshape(1,-1)\n",
        "x_input.shape"
      ],
      "metadata": {
        "colab": {
          "base_uri": "https://localhost:8080/"
        },
        "id": "FlwFWvJxT38W",
        "outputId": "d0dfc7e6-1ee2-424b-abe5-e176899defc5"
      },
      "execution_count": 98,
      "outputs": [
        {
          "output_type": "execute_result",
          "data": {
            "text/plain": [
              "(1, 100)"
            ]
          },
          "metadata": {},
          "execution_count": 98
        }
      ]
    },
    {
      "cell_type": "code",
      "source": [
        "temp_input=list(x_input)\n",
        "temp_input=temp_input[0].tolist()"
      ],
      "metadata": {
        "id": "Go81DemyT8cn"
      },
      "execution_count": 99,
      "outputs": []
    },
    {
      "cell_type": "code",
      "source": [
        "# demonstrate prediction for next 10 days\n",
        "from numpy import array\n",
        "\n",
        "lst_output=[]\n",
        "n_steps=100\n",
        "i=0\n",
        "while(i<30):\n",
        "    \n",
        "    if(len(temp_input)>100):\n",
        "        #print(temp_input)\n",
        "        x_input=np.array(temp_input[1:])\n",
        "        print(\"{} day input {}\".format(i,x_input))\n",
        "        x_input=x_input.reshape(1,-1)\n",
        "        x_input = x_input.reshape((1, n_steps, 1))\n",
        "        #print(x_input)\n",
        "        yhat = model.predict(x_input, verbose=0)\n",
        "        print(\"{} day output {}\".format(i,yhat))\n",
        "        temp_input.extend(yhat[0].tolist())\n",
        "        temp_input=temp_input[1:]\n",
        "        #print(temp_input)\n",
        "        lst_output.extend(yhat.tolist())\n",
        "        i=i+1\n",
        "    else:\n",
        "        x_input = x_input.reshape((1, n_steps,1))\n",
        "        yhat = model.predict(x_input, verbose=0)\n",
        "        print(yhat[0])\n",
        "        temp_input.extend(yhat[0].tolist())\n",
        "        print(len(temp_input))\n",
        "        lst_output.extend(yhat.tolist())\n",
        "        i=i+1\n",
        "    \n",
        "\n",
        "# print(lst_output)"
      ],
      "metadata": {
        "colab": {
          "base_uri": "https://localhost:8080/"
        },
        "id": "n7AvIYJNT8lZ",
        "outputId": "215d486f-6171-4ca1-d2c4-8ef92175b1a5"
      },
      "execution_count": 100,
      "outputs": [
        {
          "output_type": "stream",
          "name": "stdout",
          "text": [
            "[0.16457814]\n",
            "101\n",
            "1 day input [0.10016281 0.10038823 0.09650595 0.0878397  0.09014402 0.08681277\n",
            " 0.08969317 0.08090169 0.08583594 0.08806512 0.09129618 0.09031935\n",
            " 0.09009393 0.08683782 0.085335   0.09247339 0.09517846 0.09946149\n",
            " 0.10499687 0.10624922 0.10680025 0.10482154 0.10469631 0.1063995\n",
            " 0.10522229 0.11453976 0.10760175 0.10549781 0.10815279 0.11183469\n",
            " 0.1105072  0.1113087  0.10920476 0.1101315  0.10289292 0.10276769\n",
            " 0.10807765 0.10810269 0.11060739 0.11684408 0.12781465 0.13452724\n",
            " 0.13570445 0.13668128 0.13800877 0.12515967 0.13375078 0.14642455\n",
            " 0.14509706 0.14256731 0.1377583  0.14647464 0.16115216 0.17092048\n",
            " 0.16961803 0.181866   0.17257358 0.16904195 0.18149029 0.16385723\n",
            " 0.16105197 0.15757044 0.16568566 0.17232311 0.17392611 0.18407013\n",
            " 0.18146525 0.18169067 0.17873513 0.17715717 0.18827802 0.18249217\n",
            " 0.17051972 0.16320601 0.16363181 0.1636819  0.17092048 0.17204759\n",
            " 0.1636819  0.16588604 0.15769568 0.14875391 0.14444584 0.13918597\n",
            " 0.13720726 0.13259862 0.1323732  0.13119599 0.15902317 0.17016907\n",
            " 0.16974327 0.17282405 0.16546024 0.16418284 0.16235441 0.1702943\n",
            " 0.17392611 0.16350657 0.15479023 0.16457814]\n",
            "1 day output [[0.16586609]]\n",
            "2 day input [0.10038823 0.09650595 0.0878397  0.09014402 0.08681277 0.08969317\n",
            " 0.08090169 0.08583594 0.08806512 0.09129618 0.09031935 0.09009393\n",
            " 0.08683782 0.085335   0.09247339 0.09517846 0.09946149 0.10499687\n",
            " 0.10624922 0.10680025 0.10482154 0.10469631 0.1063995  0.10522229\n",
            " 0.11453976 0.10760175 0.10549781 0.10815279 0.11183469 0.1105072\n",
            " 0.1113087  0.10920476 0.1101315  0.10289292 0.10276769 0.10807765\n",
            " 0.10810269 0.11060739 0.11684408 0.12781465 0.13452724 0.13570445\n",
            " 0.13668128 0.13800877 0.12515967 0.13375078 0.14642455 0.14509706\n",
            " 0.14256731 0.1377583  0.14647464 0.16115216 0.17092048 0.16961803\n",
            " 0.181866   0.17257358 0.16904195 0.18149029 0.16385723 0.16105197\n",
            " 0.15757044 0.16568566 0.17232311 0.17392611 0.18407013 0.18146525\n",
            " 0.18169067 0.17873513 0.17715717 0.18827802 0.18249217 0.17051972\n",
            " 0.16320601 0.16363181 0.1636819  0.17092048 0.17204759 0.1636819\n",
            " 0.16588604 0.15769568 0.14875391 0.14444584 0.13918597 0.13720726\n",
            " 0.13259862 0.1323732  0.13119599 0.15902317 0.17016907 0.16974327\n",
            " 0.17282405 0.16546024 0.16418284 0.16235441 0.1702943  0.17392611\n",
            " 0.16350657 0.15479023 0.16457814 0.16586609]\n",
            "2 day output [[0.16706446]]\n",
            "3 day input [0.09650595 0.0878397  0.09014402 0.08681277 0.08969317 0.08090169\n",
            " 0.08583594 0.08806512 0.09129618 0.09031935 0.09009393 0.08683782\n",
            " 0.085335   0.09247339 0.09517846 0.09946149 0.10499687 0.10624922\n",
            " 0.10680025 0.10482154 0.10469631 0.1063995  0.10522229 0.11453976\n",
            " 0.10760175 0.10549781 0.10815279 0.11183469 0.1105072  0.1113087\n",
            " 0.10920476 0.1101315  0.10289292 0.10276769 0.10807765 0.10810269\n",
            " 0.11060739 0.11684408 0.12781465 0.13452724 0.13570445 0.13668128\n",
            " 0.13800877 0.12515967 0.13375078 0.14642455 0.14509706 0.14256731\n",
            " 0.1377583  0.14647464 0.16115216 0.17092048 0.16961803 0.181866\n",
            " 0.17257358 0.16904195 0.18149029 0.16385723 0.16105197 0.15757044\n",
            " 0.16568566 0.17232311 0.17392611 0.18407013 0.18146525 0.18169067\n",
            " 0.17873513 0.17715717 0.18827802 0.18249217 0.17051972 0.16320601\n",
            " 0.16363181 0.1636819  0.17092048 0.17204759 0.1636819  0.16588604\n",
            " 0.15769568 0.14875391 0.14444584 0.13918597 0.13720726 0.13259862\n",
            " 0.1323732  0.13119599 0.15902317 0.17016907 0.16974327 0.17282405\n",
            " 0.16546024 0.16418284 0.16235441 0.1702943  0.17392611 0.16350657\n",
            " 0.15479023 0.16457814 0.16586609 0.16706446]\n",
            "3 day output [[0.1681672]]\n",
            "4 day input [0.0878397  0.09014402 0.08681277 0.08969317 0.08090169 0.08583594\n",
            " 0.08806512 0.09129618 0.09031935 0.09009393 0.08683782 0.085335\n",
            " 0.09247339 0.09517846 0.09946149 0.10499687 0.10624922 0.10680025\n",
            " 0.10482154 0.10469631 0.1063995  0.10522229 0.11453976 0.10760175\n",
            " 0.10549781 0.10815279 0.11183469 0.1105072  0.1113087  0.10920476\n",
            " 0.1101315  0.10289292 0.10276769 0.10807765 0.10810269 0.11060739\n",
            " 0.11684408 0.12781465 0.13452724 0.13570445 0.13668128 0.13800877\n",
            " 0.12515967 0.13375078 0.14642455 0.14509706 0.14256731 0.1377583\n",
            " 0.14647464 0.16115216 0.17092048 0.16961803 0.181866   0.17257358\n",
            " 0.16904195 0.18149029 0.16385723 0.16105197 0.15757044 0.16568566\n",
            " 0.17232311 0.17392611 0.18407013 0.18146525 0.18169067 0.17873513\n",
            " 0.17715717 0.18827802 0.18249217 0.17051972 0.16320601 0.16363181\n",
            " 0.1636819  0.17092048 0.17204759 0.1636819  0.16588604 0.15769568\n",
            " 0.14875391 0.14444584 0.13918597 0.13720726 0.13259862 0.1323732\n",
            " 0.13119599 0.15902317 0.17016907 0.16974327 0.17282405 0.16546024\n",
            " 0.16418284 0.16235441 0.1702943  0.17392611 0.16350657 0.15479023\n",
            " 0.16457814 0.16586609 0.16706446 0.1681672 ]\n",
            "4 day output [[0.169181]]\n",
            "5 day input [0.09014402 0.08681277 0.08969317 0.08090169 0.08583594 0.08806512\n",
            " 0.09129618 0.09031935 0.09009393 0.08683782 0.085335   0.09247339\n",
            " 0.09517846 0.09946149 0.10499687 0.10624922 0.10680025 0.10482154\n",
            " 0.10469631 0.1063995  0.10522229 0.11453976 0.10760175 0.10549781\n",
            " 0.10815279 0.11183469 0.1105072  0.1113087  0.10920476 0.1101315\n",
            " 0.10289292 0.10276769 0.10807765 0.10810269 0.11060739 0.11684408\n",
            " 0.12781465 0.13452724 0.13570445 0.13668128 0.13800877 0.12515967\n",
            " 0.13375078 0.14642455 0.14509706 0.14256731 0.1377583  0.14647464\n",
            " 0.16115216 0.17092048 0.16961803 0.181866   0.17257358 0.16904195\n",
            " 0.18149029 0.16385723 0.16105197 0.15757044 0.16568566 0.17232311\n",
            " 0.17392611 0.18407013 0.18146525 0.18169067 0.17873513 0.17715717\n",
            " 0.18827802 0.18249217 0.17051972 0.16320601 0.16363181 0.1636819\n",
            " 0.17092048 0.17204759 0.1636819  0.16588604 0.15769568 0.14875391\n",
            " 0.14444584 0.13918597 0.13720726 0.13259862 0.1323732  0.13119599\n",
            " 0.15902317 0.17016907 0.16974327 0.17282405 0.16546024 0.16418284\n",
            " 0.16235441 0.1702943  0.17392611 0.16350657 0.15479023 0.16457814\n",
            " 0.16586609 0.16706446 0.1681672  0.169181  ]\n",
            "5 day output [[0.17011914]]\n",
            "6 day input [0.08681277 0.08969317 0.08090169 0.08583594 0.08806512 0.09129618\n",
            " 0.09031935 0.09009393 0.08683782 0.085335   0.09247339 0.09517846\n",
            " 0.09946149 0.10499687 0.10624922 0.10680025 0.10482154 0.10469631\n",
            " 0.1063995  0.10522229 0.11453976 0.10760175 0.10549781 0.10815279\n",
            " 0.11183469 0.1105072  0.1113087  0.10920476 0.1101315  0.10289292\n",
            " 0.10276769 0.10807765 0.10810269 0.11060739 0.11684408 0.12781465\n",
            " 0.13452724 0.13570445 0.13668128 0.13800877 0.12515967 0.13375078\n",
            " 0.14642455 0.14509706 0.14256731 0.1377583  0.14647464 0.16115216\n",
            " 0.17092048 0.16961803 0.181866   0.17257358 0.16904195 0.18149029\n",
            " 0.16385723 0.16105197 0.15757044 0.16568566 0.17232311 0.17392611\n",
            " 0.18407013 0.18146525 0.18169067 0.17873513 0.17715717 0.18827802\n",
            " 0.18249217 0.17051972 0.16320601 0.16363181 0.1636819  0.17092048\n",
            " 0.17204759 0.1636819  0.16588604 0.15769568 0.14875391 0.14444584\n",
            " 0.13918597 0.13720726 0.13259862 0.1323732  0.13119599 0.15902317\n",
            " 0.17016907 0.16974327 0.17282405 0.16546024 0.16418284 0.16235441\n",
            " 0.1702943  0.17392611 0.16350657 0.15479023 0.16457814 0.16586609\n",
            " 0.16706446 0.1681672  0.169181   0.17011914]\n",
            "6 day output [[0.17099747]]\n",
            "7 day input [0.08969317 0.08090169 0.08583594 0.08806512 0.09129618 0.09031935\n",
            " 0.09009393 0.08683782 0.085335   0.09247339 0.09517846 0.09946149\n",
            " 0.10499687 0.10624922 0.10680025 0.10482154 0.10469631 0.1063995\n",
            " 0.10522229 0.11453976 0.10760175 0.10549781 0.10815279 0.11183469\n",
            " 0.1105072  0.1113087  0.10920476 0.1101315  0.10289292 0.10276769\n",
            " 0.10807765 0.10810269 0.11060739 0.11684408 0.12781465 0.13452724\n",
            " 0.13570445 0.13668128 0.13800877 0.12515967 0.13375078 0.14642455\n",
            " 0.14509706 0.14256731 0.1377583  0.14647464 0.16115216 0.17092048\n",
            " 0.16961803 0.181866   0.17257358 0.16904195 0.18149029 0.16385723\n",
            " 0.16105197 0.15757044 0.16568566 0.17232311 0.17392611 0.18407013\n",
            " 0.18146525 0.18169067 0.17873513 0.17715717 0.18827802 0.18249217\n",
            " 0.17051972 0.16320601 0.16363181 0.1636819  0.17092048 0.17204759\n",
            " 0.1636819  0.16588604 0.15769568 0.14875391 0.14444584 0.13918597\n",
            " 0.13720726 0.13259862 0.1323732  0.13119599 0.15902317 0.17016907\n",
            " 0.16974327 0.17282405 0.16546024 0.16418284 0.16235441 0.1702943\n",
            " 0.17392611 0.16350657 0.15479023 0.16457814 0.16586609 0.16706446\n",
            " 0.1681672  0.169181   0.17011914 0.17099747]\n",
            "7 day output [[0.17183155]]\n",
            "8 day input [0.08090169 0.08583594 0.08806512 0.09129618 0.09031935 0.09009393\n",
            " 0.08683782 0.085335   0.09247339 0.09517846 0.09946149 0.10499687\n",
            " 0.10624922 0.10680025 0.10482154 0.10469631 0.1063995  0.10522229\n",
            " 0.11453976 0.10760175 0.10549781 0.10815279 0.11183469 0.1105072\n",
            " 0.1113087  0.10920476 0.1101315  0.10289292 0.10276769 0.10807765\n",
            " 0.10810269 0.11060739 0.11684408 0.12781465 0.13452724 0.13570445\n",
            " 0.13668128 0.13800877 0.12515967 0.13375078 0.14642455 0.14509706\n",
            " 0.14256731 0.1377583  0.14647464 0.16115216 0.17092048 0.16961803\n",
            " 0.181866   0.17257358 0.16904195 0.18149029 0.16385723 0.16105197\n",
            " 0.15757044 0.16568566 0.17232311 0.17392611 0.18407013 0.18146525\n",
            " 0.18169067 0.17873513 0.17715717 0.18827802 0.18249217 0.17051972\n",
            " 0.16320601 0.16363181 0.1636819  0.17092048 0.17204759 0.1636819\n",
            " 0.16588604 0.15769568 0.14875391 0.14444584 0.13918597 0.13720726\n",
            " 0.13259862 0.1323732  0.13119599 0.15902317 0.17016907 0.16974327\n",
            " 0.17282405 0.16546024 0.16418284 0.16235441 0.1702943  0.17392611\n",
            " 0.16350657 0.15479023 0.16457814 0.16586609 0.16706446 0.1681672\n",
            " 0.169181   0.17011914 0.17099747 0.17183155]\n",
            "8 day output [[0.17263505]]\n",
            "9 day input [0.08583594 0.08806512 0.09129618 0.09031935 0.09009393 0.08683782\n",
            " 0.085335   0.09247339 0.09517846 0.09946149 0.10499687 0.10624922\n",
            " 0.10680025 0.10482154 0.10469631 0.1063995  0.10522229 0.11453976\n",
            " 0.10760175 0.10549781 0.10815279 0.11183469 0.1105072  0.1113087\n",
            " 0.10920476 0.1101315  0.10289292 0.10276769 0.10807765 0.10810269\n",
            " 0.11060739 0.11684408 0.12781465 0.13452724 0.13570445 0.13668128\n",
            " 0.13800877 0.12515967 0.13375078 0.14642455 0.14509706 0.14256731\n",
            " 0.1377583  0.14647464 0.16115216 0.17092048 0.16961803 0.181866\n",
            " 0.17257358 0.16904195 0.18149029 0.16385723 0.16105197 0.15757044\n",
            " 0.16568566 0.17232311 0.17392611 0.18407013 0.18146525 0.18169067\n",
            " 0.17873513 0.17715717 0.18827802 0.18249217 0.17051972 0.16320601\n",
            " 0.16363181 0.1636819  0.17092048 0.17204759 0.1636819  0.16588604\n",
            " 0.15769568 0.14875391 0.14444584 0.13918597 0.13720726 0.13259862\n",
            " 0.1323732  0.13119599 0.15902317 0.17016907 0.16974327 0.17282405\n",
            " 0.16546024 0.16418284 0.16235441 0.1702943  0.17392611 0.16350657\n",
            " 0.15479023 0.16457814 0.16586609 0.16706446 0.1681672  0.169181\n",
            " 0.17011914 0.17099747 0.17183155 0.17263505]\n",
            "9 day output [[0.1734191]]\n",
            "10 day input [0.08806512 0.09129618 0.09031935 0.09009393 0.08683782 0.085335\n",
            " 0.09247339 0.09517846 0.09946149 0.10499687 0.10624922 0.10680025\n",
            " 0.10482154 0.10469631 0.1063995  0.10522229 0.11453976 0.10760175\n",
            " 0.10549781 0.10815279 0.11183469 0.1105072  0.1113087  0.10920476\n",
            " 0.1101315  0.10289292 0.10276769 0.10807765 0.10810269 0.11060739\n",
            " 0.11684408 0.12781465 0.13452724 0.13570445 0.13668128 0.13800877\n",
            " 0.12515967 0.13375078 0.14642455 0.14509706 0.14256731 0.1377583\n",
            " 0.14647464 0.16115216 0.17092048 0.16961803 0.181866   0.17257358\n",
            " 0.16904195 0.18149029 0.16385723 0.16105197 0.15757044 0.16568566\n",
            " 0.17232311 0.17392611 0.18407013 0.18146525 0.18169067 0.17873513\n",
            " 0.17715717 0.18827802 0.18249217 0.17051972 0.16320601 0.16363181\n",
            " 0.1636819  0.17092048 0.17204759 0.1636819  0.16588604 0.15769568\n",
            " 0.14875391 0.14444584 0.13918597 0.13720726 0.13259862 0.1323732\n",
            " 0.13119599 0.15902317 0.17016907 0.16974327 0.17282405 0.16546024\n",
            " 0.16418284 0.16235441 0.1702943  0.17392611 0.16350657 0.15479023\n",
            " 0.16457814 0.16586609 0.16706446 0.1681672  0.169181   0.17011914\n",
            " 0.17099747 0.17183155 0.17263505 0.1734191 ]\n",
            "10 day output [[0.17419204]]\n",
            "11 day input [0.09129618 0.09031935 0.09009393 0.08683782 0.085335   0.09247339\n",
            " 0.09517846 0.09946149 0.10499687 0.10624922 0.10680025 0.10482154\n",
            " 0.10469631 0.1063995  0.10522229 0.11453976 0.10760175 0.10549781\n",
            " 0.10815279 0.11183469 0.1105072  0.1113087  0.10920476 0.1101315\n",
            " 0.10289292 0.10276769 0.10807765 0.10810269 0.11060739 0.11684408\n",
            " 0.12781465 0.13452724 0.13570445 0.13668128 0.13800877 0.12515967\n",
            " 0.13375078 0.14642455 0.14509706 0.14256731 0.1377583  0.14647464\n",
            " 0.16115216 0.17092048 0.16961803 0.181866   0.17257358 0.16904195\n",
            " 0.18149029 0.16385723 0.16105197 0.15757044 0.16568566 0.17232311\n",
            " 0.17392611 0.18407013 0.18146525 0.18169067 0.17873513 0.17715717\n",
            " 0.18827802 0.18249217 0.17051972 0.16320601 0.16363181 0.1636819\n",
            " 0.17092048 0.17204759 0.1636819  0.16588604 0.15769568 0.14875391\n",
            " 0.14444584 0.13918597 0.13720726 0.13259862 0.1323732  0.13119599\n",
            " 0.15902317 0.17016907 0.16974327 0.17282405 0.16546024 0.16418284\n",
            " 0.16235441 0.1702943  0.17392611 0.16350657 0.15479023 0.16457814\n",
            " 0.16586609 0.16706446 0.1681672  0.169181   0.17011914 0.17099747\n",
            " 0.17183155 0.17263505 0.1734191  0.17419204]\n",
            "11 day output [[0.17495967]]\n",
            "12 day input [0.09031935 0.09009393 0.08683782 0.085335   0.09247339 0.09517846\n",
            " 0.09946149 0.10499687 0.10624922 0.10680025 0.10482154 0.10469631\n",
            " 0.1063995  0.10522229 0.11453976 0.10760175 0.10549781 0.10815279\n",
            " 0.11183469 0.1105072  0.1113087  0.10920476 0.1101315  0.10289292\n",
            " 0.10276769 0.10807765 0.10810269 0.11060739 0.11684408 0.12781465\n",
            " 0.13452724 0.13570445 0.13668128 0.13800877 0.12515967 0.13375078\n",
            " 0.14642455 0.14509706 0.14256731 0.1377583  0.14647464 0.16115216\n",
            " 0.17092048 0.16961803 0.181866   0.17257358 0.16904195 0.18149029\n",
            " 0.16385723 0.16105197 0.15757044 0.16568566 0.17232311 0.17392611\n",
            " 0.18407013 0.18146525 0.18169067 0.17873513 0.17715717 0.18827802\n",
            " 0.18249217 0.17051972 0.16320601 0.16363181 0.1636819  0.17092048\n",
            " 0.17204759 0.1636819  0.16588604 0.15769568 0.14875391 0.14444584\n",
            " 0.13918597 0.13720726 0.13259862 0.1323732  0.13119599 0.15902317\n",
            " 0.17016907 0.16974327 0.17282405 0.16546024 0.16418284 0.16235441\n",
            " 0.1702943  0.17392611 0.16350657 0.15479023 0.16457814 0.16586609\n",
            " 0.16706446 0.1681672  0.169181   0.17011914 0.17099747 0.17183155\n",
            " 0.17263505 0.1734191  0.17419204 0.17495967]\n",
            "12 day output [[0.17572573]]\n",
            "13 day input [0.09009393 0.08683782 0.085335   0.09247339 0.09517846 0.09946149\n",
            " 0.10499687 0.10624922 0.10680025 0.10482154 0.10469631 0.1063995\n",
            " 0.10522229 0.11453976 0.10760175 0.10549781 0.10815279 0.11183469\n",
            " 0.1105072  0.1113087  0.10920476 0.1101315  0.10289292 0.10276769\n",
            " 0.10807765 0.10810269 0.11060739 0.11684408 0.12781465 0.13452724\n",
            " 0.13570445 0.13668128 0.13800877 0.12515967 0.13375078 0.14642455\n",
            " 0.14509706 0.14256731 0.1377583  0.14647464 0.16115216 0.17092048\n",
            " 0.16961803 0.181866   0.17257358 0.16904195 0.18149029 0.16385723\n",
            " 0.16105197 0.15757044 0.16568566 0.17232311 0.17392611 0.18407013\n",
            " 0.18146525 0.18169067 0.17873513 0.17715717 0.18827802 0.18249217\n",
            " 0.17051972 0.16320601 0.16363181 0.1636819  0.17092048 0.17204759\n",
            " 0.1636819  0.16588604 0.15769568 0.14875391 0.14444584 0.13918597\n",
            " 0.13720726 0.13259862 0.1323732  0.13119599 0.15902317 0.17016907\n",
            " 0.16974327 0.17282405 0.16546024 0.16418284 0.16235441 0.1702943\n",
            " 0.17392611 0.16350657 0.15479023 0.16457814 0.16586609 0.16706446\n",
            " 0.1681672  0.169181   0.17011914 0.17099747 0.17183155 0.17263505\n",
            " 0.1734191  0.17419204 0.17495967 0.17572573]\n",
            "13 day output [[0.17649224]]\n",
            "14 day input [0.08683782 0.085335   0.09247339 0.09517846 0.09946149 0.10499687\n",
            " 0.10624922 0.10680025 0.10482154 0.10469631 0.1063995  0.10522229\n",
            " 0.11453976 0.10760175 0.10549781 0.10815279 0.11183469 0.1105072\n",
            " 0.1113087  0.10920476 0.1101315  0.10289292 0.10276769 0.10807765\n",
            " 0.10810269 0.11060739 0.11684408 0.12781465 0.13452724 0.13570445\n",
            " 0.13668128 0.13800877 0.12515967 0.13375078 0.14642455 0.14509706\n",
            " 0.14256731 0.1377583  0.14647464 0.16115216 0.17092048 0.16961803\n",
            " 0.181866   0.17257358 0.16904195 0.18149029 0.16385723 0.16105197\n",
            " 0.15757044 0.16568566 0.17232311 0.17392611 0.18407013 0.18146525\n",
            " 0.18169067 0.17873513 0.17715717 0.18827802 0.18249217 0.17051972\n",
            " 0.16320601 0.16363181 0.1636819  0.17092048 0.17204759 0.1636819\n",
            " 0.16588604 0.15769568 0.14875391 0.14444584 0.13918597 0.13720726\n",
            " 0.13259862 0.1323732  0.13119599 0.15902317 0.17016907 0.16974327\n",
            " 0.17282405 0.16546024 0.16418284 0.16235441 0.1702943  0.17392611\n",
            " 0.16350657 0.15479023 0.16457814 0.16586609 0.16706446 0.1681672\n",
            " 0.169181   0.17011914 0.17099747 0.17183155 0.17263505 0.1734191\n",
            " 0.17419204 0.17495967 0.17572573 0.17649224]\n",
            "14 day output [[0.17726015]]\n",
            "15 day input [0.085335   0.09247339 0.09517846 0.09946149 0.10499687 0.10624922\n",
            " 0.10680025 0.10482154 0.10469631 0.1063995  0.10522229 0.11453976\n",
            " 0.10760175 0.10549781 0.10815279 0.11183469 0.1105072  0.1113087\n",
            " 0.10920476 0.1101315  0.10289292 0.10276769 0.10807765 0.10810269\n",
            " 0.11060739 0.11684408 0.12781465 0.13452724 0.13570445 0.13668128\n",
            " 0.13800877 0.12515967 0.13375078 0.14642455 0.14509706 0.14256731\n",
            " 0.1377583  0.14647464 0.16115216 0.17092048 0.16961803 0.181866\n",
            " 0.17257358 0.16904195 0.18149029 0.16385723 0.16105197 0.15757044\n",
            " 0.16568566 0.17232311 0.17392611 0.18407013 0.18146525 0.18169067\n",
            " 0.17873513 0.17715717 0.18827802 0.18249217 0.17051972 0.16320601\n",
            " 0.16363181 0.1636819  0.17092048 0.17204759 0.1636819  0.16588604\n",
            " 0.15769568 0.14875391 0.14444584 0.13918597 0.13720726 0.13259862\n",
            " 0.1323732  0.13119599 0.15902317 0.17016907 0.16974327 0.17282405\n",
            " 0.16546024 0.16418284 0.16235441 0.1702943  0.17392611 0.16350657\n",
            " 0.15479023 0.16457814 0.16586609 0.16706446 0.1681672  0.169181\n",
            " 0.17011914 0.17099747 0.17183155 0.17263505 0.1734191  0.17419204\n",
            " 0.17495967 0.17572573 0.17649224 0.17726015]\n",
            "15 day output [[0.17802958]]\n",
            "16 day input [0.09247339 0.09517846 0.09946149 0.10499687 0.10624922 0.10680025\n",
            " 0.10482154 0.10469631 0.1063995  0.10522229 0.11453976 0.10760175\n",
            " 0.10549781 0.10815279 0.11183469 0.1105072  0.1113087  0.10920476\n",
            " 0.1101315  0.10289292 0.10276769 0.10807765 0.10810269 0.11060739\n",
            " 0.11684408 0.12781465 0.13452724 0.13570445 0.13668128 0.13800877\n",
            " 0.12515967 0.13375078 0.14642455 0.14509706 0.14256731 0.1377583\n",
            " 0.14647464 0.16115216 0.17092048 0.16961803 0.181866   0.17257358\n",
            " 0.16904195 0.18149029 0.16385723 0.16105197 0.15757044 0.16568566\n",
            " 0.17232311 0.17392611 0.18407013 0.18146525 0.18169067 0.17873513\n",
            " 0.17715717 0.18827802 0.18249217 0.17051972 0.16320601 0.16363181\n",
            " 0.1636819  0.17092048 0.17204759 0.1636819  0.16588604 0.15769568\n",
            " 0.14875391 0.14444584 0.13918597 0.13720726 0.13259862 0.1323732\n",
            " 0.13119599 0.15902317 0.17016907 0.16974327 0.17282405 0.16546024\n",
            " 0.16418284 0.16235441 0.1702943  0.17392611 0.16350657 0.15479023\n",
            " 0.16457814 0.16586609 0.16706446 0.1681672  0.169181   0.17011914\n",
            " 0.17099747 0.17183155 0.17263505 0.1734191  0.17419204 0.17495967\n",
            " 0.17572573 0.17649224 0.17726015 0.17802958]\n",
            "16 day output [[0.17880017]]\n",
            "17 day input [0.09517846 0.09946149 0.10499687 0.10624922 0.10680025 0.10482154\n",
            " 0.10469631 0.1063995  0.10522229 0.11453976 0.10760175 0.10549781\n",
            " 0.10815279 0.11183469 0.1105072  0.1113087  0.10920476 0.1101315\n",
            " 0.10289292 0.10276769 0.10807765 0.10810269 0.11060739 0.11684408\n",
            " 0.12781465 0.13452724 0.13570445 0.13668128 0.13800877 0.12515967\n",
            " 0.13375078 0.14642455 0.14509706 0.14256731 0.1377583  0.14647464\n",
            " 0.16115216 0.17092048 0.16961803 0.181866   0.17257358 0.16904195\n",
            " 0.18149029 0.16385723 0.16105197 0.15757044 0.16568566 0.17232311\n",
            " 0.17392611 0.18407013 0.18146525 0.18169067 0.17873513 0.17715717\n",
            " 0.18827802 0.18249217 0.17051972 0.16320601 0.16363181 0.1636819\n",
            " 0.17092048 0.17204759 0.1636819  0.16588604 0.15769568 0.14875391\n",
            " 0.14444584 0.13918597 0.13720726 0.13259862 0.1323732  0.13119599\n",
            " 0.15902317 0.17016907 0.16974327 0.17282405 0.16546024 0.16418284\n",
            " 0.16235441 0.1702943  0.17392611 0.16350657 0.15479023 0.16457814\n",
            " 0.16586609 0.16706446 0.1681672  0.169181   0.17011914 0.17099747\n",
            " 0.17183155 0.17263505 0.1734191  0.17419204 0.17495967 0.17572573\n",
            " 0.17649224 0.17726015 0.17802958 0.17880017]\n",
            "17 day output [[0.17957139]]\n",
            "18 day input [0.09946149 0.10499687 0.10624922 0.10680025 0.10482154 0.10469631\n",
            " 0.1063995  0.10522229 0.11453976 0.10760175 0.10549781 0.10815279\n",
            " 0.11183469 0.1105072  0.1113087  0.10920476 0.1101315  0.10289292\n",
            " 0.10276769 0.10807765 0.10810269 0.11060739 0.11684408 0.12781465\n",
            " 0.13452724 0.13570445 0.13668128 0.13800877 0.12515967 0.13375078\n",
            " 0.14642455 0.14509706 0.14256731 0.1377583  0.14647464 0.16115216\n",
            " 0.17092048 0.16961803 0.181866   0.17257358 0.16904195 0.18149029\n",
            " 0.16385723 0.16105197 0.15757044 0.16568566 0.17232311 0.17392611\n",
            " 0.18407013 0.18146525 0.18169067 0.17873513 0.17715717 0.18827802\n",
            " 0.18249217 0.17051972 0.16320601 0.16363181 0.1636819  0.17092048\n",
            " 0.17204759 0.1636819  0.16588604 0.15769568 0.14875391 0.14444584\n",
            " 0.13918597 0.13720726 0.13259862 0.1323732  0.13119599 0.15902317\n",
            " 0.17016907 0.16974327 0.17282405 0.16546024 0.16418284 0.16235441\n",
            " 0.1702943  0.17392611 0.16350657 0.15479023 0.16457814 0.16586609\n",
            " 0.16706446 0.1681672  0.169181   0.17011914 0.17099747 0.17183155\n",
            " 0.17263505 0.1734191  0.17419204 0.17495967 0.17572573 0.17649224\n",
            " 0.17726015 0.17802958 0.17880017 0.17957139]\n",
            "18 day output [[0.18034264]]\n",
            "19 day input [0.10499687 0.10624922 0.10680025 0.10482154 0.10469631 0.1063995\n",
            " 0.10522229 0.11453976 0.10760175 0.10549781 0.10815279 0.11183469\n",
            " 0.1105072  0.1113087  0.10920476 0.1101315  0.10289292 0.10276769\n",
            " 0.10807765 0.10810269 0.11060739 0.11684408 0.12781465 0.13452724\n",
            " 0.13570445 0.13668128 0.13800877 0.12515967 0.13375078 0.14642455\n",
            " 0.14509706 0.14256731 0.1377583  0.14647464 0.16115216 0.17092048\n",
            " 0.16961803 0.181866   0.17257358 0.16904195 0.18149029 0.16385723\n",
            " 0.16105197 0.15757044 0.16568566 0.17232311 0.17392611 0.18407013\n",
            " 0.18146525 0.18169067 0.17873513 0.17715717 0.18827802 0.18249217\n",
            " 0.17051972 0.16320601 0.16363181 0.1636819  0.17092048 0.17204759\n",
            " 0.1636819  0.16588604 0.15769568 0.14875391 0.14444584 0.13918597\n",
            " 0.13720726 0.13259862 0.1323732  0.13119599 0.15902317 0.17016907\n",
            " 0.16974327 0.17282405 0.16546024 0.16418284 0.16235441 0.1702943\n",
            " 0.17392611 0.16350657 0.15479023 0.16457814 0.16586609 0.16706446\n",
            " 0.1681672  0.169181   0.17011914 0.17099747 0.17183155 0.17263505\n",
            " 0.1734191  0.17419204 0.17495967 0.17572573 0.17649224 0.17726015\n",
            " 0.17802958 0.17880017 0.17957139 0.18034264]\n",
            "19 day output [[0.18111332]]\n",
            "20 day input [0.10624922 0.10680025 0.10482154 0.10469631 0.1063995  0.10522229\n",
            " 0.11453976 0.10760175 0.10549781 0.10815279 0.11183469 0.1105072\n",
            " 0.1113087  0.10920476 0.1101315  0.10289292 0.10276769 0.10807765\n",
            " 0.10810269 0.11060739 0.11684408 0.12781465 0.13452724 0.13570445\n",
            " 0.13668128 0.13800877 0.12515967 0.13375078 0.14642455 0.14509706\n",
            " 0.14256731 0.1377583  0.14647464 0.16115216 0.17092048 0.16961803\n",
            " 0.181866   0.17257358 0.16904195 0.18149029 0.16385723 0.16105197\n",
            " 0.15757044 0.16568566 0.17232311 0.17392611 0.18407013 0.18146525\n",
            " 0.18169067 0.17873513 0.17715717 0.18827802 0.18249217 0.17051972\n",
            " 0.16320601 0.16363181 0.1636819  0.17092048 0.17204759 0.1636819\n",
            " 0.16588604 0.15769568 0.14875391 0.14444584 0.13918597 0.13720726\n",
            " 0.13259862 0.1323732  0.13119599 0.15902317 0.17016907 0.16974327\n",
            " 0.17282405 0.16546024 0.16418284 0.16235441 0.1702943  0.17392611\n",
            " 0.16350657 0.15479023 0.16457814 0.16586609 0.16706446 0.1681672\n",
            " 0.169181   0.17011914 0.17099747 0.17183155 0.17263505 0.1734191\n",
            " 0.17419204 0.17495967 0.17572573 0.17649224 0.17726015 0.17802958\n",
            " 0.17880017 0.17957139 0.18034264 0.18111332]\n",
            "20 day output [[0.18188292]]\n",
            "21 day input [0.10680025 0.10482154 0.10469631 0.1063995  0.10522229 0.11453976\n",
            " 0.10760175 0.10549781 0.10815279 0.11183469 0.1105072  0.1113087\n",
            " 0.10920476 0.1101315  0.10289292 0.10276769 0.10807765 0.10810269\n",
            " 0.11060739 0.11684408 0.12781465 0.13452724 0.13570445 0.13668128\n",
            " 0.13800877 0.12515967 0.13375078 0.14642455 0.14509706 0.14256731\n",
            " 0.1377583  0.14647464 0.16115216 0.17092048 0.16961803 0.181866\n",
            " 0.17257358 0.16904195 0.18149029 0.16385723 0.16105197 0.15757044\n",
            " 0.16568566 0.17232311 0.17392611 0.18407013 0.18146525 0.18169067\n",
            " 0.17873513 0.17715717 0.18827802 0.18249217 0.17051972 0.16320601\n",
            " 0.16363181 0.1636819  0.17092048 0.17204759 0.1636819  0.16588604\n",
            " 0.15769568 0.14875391 0.14444584 0.13918597 0.13720726 0.13259862\n",
            " 0.1323732  0.13119599 0.15902317 0.17016907 0.16974327 0.17282405\n",
            " 0.16546024 0.16418284 0.16235441 0.1702943  0.17392611 0.16350657\n",
            " 0.15479023 0.16457814 0.16586609 0.16706446 0.1681672  0.169181\n",
            " 0.17011914 0.17099747 0.17183155 0.17263505 0.1734191  0.17419204\n",
            " 0.17495967 0.17572573 0.17649224 0.17726015 0.17802958 0.17880017\n",
            " 0.17957139 0.18034264 0.18111332 0.18188292]\n",
            "21 day output [[0.1826511]]\n",
            "22 day input [0.10482154 0.10469631 0.1063995  0.10522229 0.11453976 0.10760175\n",
            " 0.10549781 0.10815279 0.11183469 0.1105072  0.1113087  0.10920476\n",
            " 0.1101315  0.10289292 0.10276769 0.10807765 0.10810269 0.11060739\n",
            " 0.11684408 0.12781465 0.13452724 0.13570445 0.13668128 0.13800877\n",
            " 0.12515967 0.13375078 0.14642455 0.14509706 0.14256731 0.1377583\n",
            " 0.14647464 0.16115216 0.17092048 0.16961803 0.181866   0.17257358\n",
            " 0.16904195 0.18149029 0.16385723 0.16105197 0.15757044 0.16568566\n",
            " 0.17232311 0.17392611 0.18407013 0.18146525 0.18169067 0.17873513\n",
            " 0.17715717 0.18827802 0.18249217 0.17051972 0.16320601 0.16363181\n",
            " 0.1636819  0.17092048 0.17204759 0.1636819  0.16588604 0.15769568\n",
            " 0.14875391 0.14444584 0.13918597 0.13720726 0.13259862 0.1323732\n",
            " 0.13119599 0.15902317 0.17016907 0.16974327 0.17282405 0.16546024\n",
            " 0.16418284 0.16235441 0.1702943  0.17392611 0.16350657 0.15479023\n",
            " 0.16457814 0.16586609 0.16706446 0.1681672  0.169181   0.17011914\n",
            " 0.17099747 0.17183155 0.17263505 0.1734191  0.17419204 0.17495967\n",
            " 0.17572573 0.17649224 0.17726015 0.17802958 0.17880017 0.17957139\n",
            " 0.18034264 0.18111332 0.18188292 0.1826511 ]\n",
            "22 day output [[0.1834176]]\n",
            "23 day input [0.10469631 0.1063995  0.10522229 0.11453976 0.10760175 0.10549781\n",
            " 0.10815279 0.11183469 0.1105072  0.1113087  0.10920476 0.1101315\n",
            " 0.10289292 0.10276769 0.10807765 0.10810269 0.11060739 0.11684408\n",
            " 0.12781465 0.13452724 0.13570445 0.13668128 0.13800877 0.12515967\n",
            " 0.13375078 0.14642455 0.14509706 0.14256731 0.1377583  0.14647464\n",
            " 0.16115216 0.17092048 0.16961803 0.181866   0.17257358 0.16904195\n",
            " 0.18149029 0.16385723 0.16105197 0.15757044 0.16568566 0.17232311\n",
            " 0.17392611 0.18407013 0.18146525 0.18169067 0.17873513 0.17715717\n",
            " 0.18827802 0.18249217 0.17051972 0.16320601 0.16363181 0.1636819\n",
            " 0.17092048 0.17204759 0.1636819  0.16588604 0.15769568 0.14875391\n",
            " 0.14444584 0.13918597 0.13720726 0.13259862 0.1323732  0.13119599\n",
            " 0.15902317 0.17016907 0.16974327 0.17282405 0.16546024 0.16418284\n",
            " 0.16235441 0.1702943  0.17392611 0.16350657 0.15479023 0.16457814\n",
            " 0.16586609 0.16706446 0.1681672  0.169181   0.17011914 0.17099747\n",
            " 0.17183155 0.17263505 0.1734191  0.17419204 0.17495967 0.17572573\n",
            " 0.17649224 0.17726015 0.17802958 0.17880017 0.17957139 0.18034264\n",
            " 0.18111332 0.18188292 0.1826511  0.1834176 ]\n",
            "23 day output [[0.18418224]]\n",
            "24 day input [0.1063995  0.10522229 0.11453976 0.10760175 0.10549781 0.10815279\n",
            " 0.11183469 0.1105072  0.1113087  0.10920476 0.1101315  0.10289292\n",
            " 0.10276769 0.10807765 0.10810269 0.11060739 0.11684408 0.12781465\n",
            " 0.13452724 0.13570445 0.13668128 0.13800877 0.12515967 0.13375078\n",
            " 0.14642455 0.14509706 0.14256731 0.1377583  0.14647464 0.16115216\n",
            " 0.17092048 0.16961803 0.181866   0.17257358 0.16904195 0.18149029\n",
            " 0.16385723 0.16105197 0.15757044 0.16568566 0.17232311 0.17392611\n",
            " 0.18407013 0.18146525 0.18169067 0.17873513 0.17715717 0.18827802\n",
            " 0.18249217 0.17051972 0.16320601 0.16363181 0.1636819  0.17092048\n",
            " 0.17204759 0.1636819  0.16588604 0.15769568 0.14875391 0.14444584\n",
            " 0.13918597 0.13720726 0.13259862 0.1323732  0.13119599 0.15902317\n",
            " 0.17016907 0.16974327 0.17282405 0.16546024 0.16418284 0.16235441\n",
            " 0.1702943  0.17392611 0.16350657 0.15479023 0.16457814 0.16586609\n",
            " 0.16706446 0.1681672  0.169181   0.17011914 0.17099747 0.17183155\n",
            " 0.17263505 0.1734191  0.17419204 0.17495967 0.17572573 0.17649224\n",
            " 0.17726015 0.17802958 0.17880017 0.17957139 0.18034264 0.18111332\n",
            " 0.18188292 0.1826511  0.1834176  0.18418224]\n",
            "24 day output [[0.18494493]]\n",
            "25 day input [0.10522229 0.11453976 0.10760175 0.10549781 0.10815279 0.11183469\n",
            " 0.1105072  0.1113087  0.10920476 0.1101315  0.10289292 0.10276769\n",
            " 0.10807765 0.10810269 0.11060739 0.11684408 0.12781465 0.13452724\n",
            " 0.13570445 0.13668128 0.13800877 0.12515967 0.13375078 0.14642455\n",
            " 0.14509706 0.14256731 0.1377583  0.14647464 0.16115216 0.17092048\n",
            " 0.16961803 0.181866   0.17257358 0.16904195 0.18149029 0.16385723\n",
            " 0.16105197 0.15757044 0.16568566 0.17232311 0.17392611 0.18407013\n",
            " 0.18146525 0.18169067 0.17873513 0.17715717 0.18827802 0.18249217\n",
            " 0.17051972 0.16320601 0.16363181 0.1636819  0.17092048 0.17204759\n",
            " 0.1636819  0.16588604 0.15769568 0.14875391 0.14444584 0.13918597\n",
            " 0.13720726 0.13259862 0.1323732  0.13119599 0.15902317 0.17016907\n",
            " 0.16974327 0.17282405 0.16546024 0.16418284 0.16235441 0.1702943\n",
            " 0.17392611 0.16350657 0.15479023 0.16457814 0.16586609 0.16706446\n",
            " 0.1681672  0.169181   0.17011914 0.17099747 0.17183155 0.17263505\n",
            " 0.1734191  0.17419204 0.17495967 0.17572573 0.17649224 0.17726015\n",
            " 0.17802958 0.17880017 0.17957139 0.18034264 0.18111332 0.18188292\n",
            " 0.1826511  0.1834176  0.18418224 0.18494493]\n",
            "25 day output [[0.18570568]]\n",
            "26 day input [0.11453976 0.10760175 0.10549781 0.10815279 0.11183469 0.1105072\n",
            " 0.1113087  0.10920476 0.1101315  0.10289292 0.10276769 0.10807765\n",
            " 0.10810269 0.11060739 0.11684408 0.12781465 0.13452724 0.13570445\n",
            " 0.13668128 0.13800877 0.12515967 0.13375078 0.14642455 0.14509706\n",
            " 0.14256731 0.1377583  0.14647464 0.16115216 0.17092048 0.16961803\n",
            " 0.181866   0.17257358 0.16904195 0.18149029 0.16385723 0.16105197\n",
            " 0.15757044 0.16568566 0.17232311 0.17392611 0.18407013 0.18146525\n",
            " 0.18169067 0.17873513 0.17715717 0.18827802 0.18249217 0.17051972\n",
            " 0.16320601 0.16363181 0.1636819  0.17092048 0.17204759 0.1636819\n",
            " 0.16588604 0.15769568 0.14875391 0.14444584 0.13918597 0.13720726\n",
            " 0.13259862 0.1323732  0.13119599 0.15902317 0.17016907 0.16974327\n",
            " 0.17282405 0.16546024 0.16418284 0.16235441 0.1702943  0.17392611\n",
            " 0.16350657 0.15479023 0.16457814 0.16586609 0.16706446 0.1681672\n",
            " 0.169181   0.17011914 0.17099747 0.17183155 0.17263505 0.1734191\n",
            " 0.17419204 0.17495967 0.17572573 0.17649224 0.17726015 0.17802958\n",
            " 0.17880017 0.17957139 0.18034264 0.18111332 0.18188292 0.1826511\n",
            " 0.1834176  0.18418224 0.18494493 0.18570568]\n",
            "26 day output [[0.18646449]]\n",
            "27 day input [0.10760175 0.10549781 0.10815279 0.11183469 0.1105072  0.1113087\n",
            " 0.10920476 0.1101315  0.10289292 0.10276769 0.10807765 0.10810269\n",
            " 0.11060739 0.11684408 0.12781465 0.13452724 0.13570445 0.13668128\n",
            " 0.13800877 0.12515967 0.13375078 0.14642455 0.14509706 0.14256731\n",
            " 0.1377583  0.14647464 0.16115216 0.17092048 0.16961803 0.181866\n",
            " 0.17257358 0.16904195 0.18149029 0.16385723 0.16105197 0.15757044\n",
            " 0.16568566 0.17232311 0.17392611 0.18407013 0.18146525 0.18169067\n",
            " 0.17873513 0.17715717 0.18827802 0.18249217 0.17051972 0.16320601\n",
            " 0.16363181 0.1636819  0.17092048 0.17204759 0.1636819  0.16588604\n",
            " 0.15769568 0.14875391 0.14444584 0.13918597 0.13720726 0.13259862\n",
            " 0.1323732  0.13119599 0.15902317 0.17016907 0.16974327 0.17282405\n",
            " 0.16546024 0.16418284 0.16235441 0.1702943  0.17392611 0.16350657\n",
            " 0.15479023 0.16457814 0.16586609 0.16706446 0.1681672  0.169181\n",
            " 0.17011914 0.17099747 0.17183155 0.17263505 0.1734191  0.17419204\n",
            " 0.17495967 0.17572573 0.17649224 0.17726015 0.17802958 0.17880017\n",
            " 0.17957139 0.18034264 0.18111332 0.18188292 0.1826511  0.1834176\n",
            " 0.18418224 0.18494493 0.18570568 0.18646449]\n",
            "27 day output [[0.18722138]]\n",
            "28 day input [0.10549781 0.10815279 0.11183469 0.1105072  0.1113087  0.10920476\n",
            " 0.1101315  0.10289292 0.10276769 0.10807765 0.10810269 0.11060739\n",
            " 0.11684408 0.12781465 0.13452724 0.13570445 0.13668128 0.13800877\n",
            " 0.12515967 0.13375078 0.14642455 0.14509706 0.14256731 0.1377583\n",
            " 0.14647464 0.16115216 0.17092048 0.16961803 0.181866   0.17257358\n",
            " 0.16904195 0.18149029 0.16385723 0.16105197 0.15757044 0.16568566\n",
            " 0.17232311 0.17392611 0.18407013 0.18146525 0.18169067 0.17873513\n",
            " 0.17715717 0.18827802 0.18249217 0.17051972 0.16320601 0.16363181\n",
            " 0.1636819  0.17092048 0.17204759 0.1636819  0.16588604 0.15769568\n",
            " 0.14875391 0.14444584 0.13918597 0.13720726 0.13259862 0.1323732\n",
            " 0.13119599 0.15902317 0.17016907 0.16974327 0.17282405 0.16546024\n",
            " 0.16418284 0.16235441 0.1702943  0.17392611 0.16350657 0.15479023\n",
            " 0.16457814 0.16586609 0.16706446 0.1681672  0.169181   0.17011914\n",
            " 0.17099747 0.17183155 0.17263505 0.1734191  0.17419204 0.17495967\n",
            " 0.17572573 0.17649224 0.17726015 0.17802958 0.17880017 0.17957139\n",
            " 0.18034264 0.18111332 0.18188292 0.1826511  0.1834176  0.18418224\n",
            " 0.18494493 0.18570568 0.18646449 0.18722138]\n",
            "28 day output [[0.18797645]]\n",
            "29 day input [0.10815279 0.11183469 0.1105072  0.1113087  0.10920476 0.1101315\n",
            " 0.10289292 0.10276769 0.10807765 0.10810269 0.11060739 0.11684408\n",
            " 0.12781465 0.13452724 0.13570445 0.13668128 0.13800877 0.12515967\n",
            " 0.13375078 0.14642455 0.14509706 0.14256731 0.1377583  0.14647464\n",
            " 0.16115216 0.17092048 0.16961803 0.181866   0.17257358 0.16904195\n",
            " 0.18149029 0.16385723 0.16105197 0.15757044 0.16568566 0.17232311\n",
            " 0.17392611 0.18407013 0.18146525 0.18169067 0.17873513 0.17715717\n",
            " 0.18827802 0.18249217 0.17051972 0.16320601 0.16363181 0.1636819\n",
            " 0.17092048 0.17204759 0.1636819  0.16588604 0.15769568 0.14875391\n",
            " 0.14444584 0.13918597 0.13720726 0.13259862 0.1323732  0.13119599\n",
            " 0.15902317 0.17016907 0.16974327 0.17282405 0.16546024 0.16418284\n",
            " 0.16235441 0.1702943  0.17392611 0.16350657 0.15479023 0.16457814\n",
            " 0.16586609 0.16706446 0.1681672  0.169181   0.17011914 0.17099747\n",
            " 0.17183155 0.17263505 0.1734191  0.17419204 0.17495967 0.17572573\n",
            " 0.17649224 0.17726015 0.17802958 0.17880017 0.17957139 0.18034264\n",
            " 0.18111332 0.18188292 0.1826511  0.1834176  0.18418224 0.18494493\n",
            " 0.18570568 0.18646449 0.18722138 0.18797645]\n",
            "29 day output [[0.18872978]]\n"
          ]
        }
      ]
    },
    {
      "cell_type": "code",
      "source": [
        "day_new=np.arange(1,101)\n",
        "day_pred=np.arange(101,131)"
      ],
      "metadata": {
        "id": "OwbVEjRvT8oL"
      },
      "execution_count": 101,
      "outputs": []
    },
    {
      "cell_type": "code",
      "source": [
        "len(df1)"
      ],
      "metadata": {
        "colab": {
          "base_uri": "https://localhost:8080/"
        },
        "id": "OdRd-GkwT8qm",
        "outputId": "3711f0d3-2472-4106-b056-a0c0504044fb"
      },
      "execution_count": 102,
      "outputs": [
        {
          "output_type": "execute_result",
          "data": {
            "text/plain": [
              "1258"
            ]
          },
          "metadata": {},
          "execution_count": 102
        }
      ]
    },
    {
      "cell_type": "code",
      "source": [
        "plt.plot(day_new,sclaler.inverse_transform(df1[1158:]))\n",
        "plt.plot(day_pred,sclaler.inverse_transform(lst_output))"
      ],
      "metadata": {
        "colab": {
          "base_uri": "https://localhost:8080/",
          "height": 282
        },
        "id": "mylHwDgzT8tY",
        "outputId": "8f0a3f46-f8cc-4dba-cefb-ff1d6b43ae3e"
      },
      "execution_count": 103,
      "outputs": [
        {
          "output_type": "execute_result",
          "data": {
            "text/plain": [
              "[<matplotlib.lines.Line2D at 0x7f25785be450>]"
            ]
          },
          "metadata": {},
          "execution_count": 103
        },
        {
          "output_type": "display_data",
          "data": {
            "image/png": "[encoded data removed]",
            "text/plain": [
              "<Figure size 432x288 with 1 Axes>"
            ]
          },
          "metadata": {
            "needs_background": "light"
          }
        }
      ]
    },
    {
      "cell_type": "code",
      "source": [
        "df3=df1.tolist()\n",
        "df3.extend(lst_output)\n",
        "plt.plot(df3[1200:])"
      ],
      "metadata": {
        "colab": {
          "base_uri": "https://localhost:8080/",
          "height": 282
        },
        "id": "ASIN8vuGUKbV",
        "outputId": "fcee7cad-07b9-4636-dee3-c00445151ab6"
      },
      "execution_count": 104,
      "outputs": [
        {
          "output_type": "execute_result",
          "data": {
            "text/plain": [
              "[<matplotlib.lines.Line2D at 0x7f25789538d0>]"
            ]
          },
          "metadata": {},
          "execution_count": 104
        },
        {
          "output_type": "display_data",
          "data": {
            "image/png": "[encoded data removed]",
            "text/plain": [
              "<Figure size 432x288 with 1 Axes>"
            ]
          },
          "metadata": {
            "needs_background": "light"
          }
        }
      ]
    },
    {
      "cell_type": "code",
      "source": [
        "df3=sclaler.inverse_transform(df3).tolist()\n",
        "df3[:5]"
      ],
      "metadata": {
        "colab": {
          "base_uri": "https://localhost:8080/"
        },
        "id": "5km3Mp4FT8wT",
        "outputId": "cd91139e-53f0-4920-88fe-fab9f4dbe3a7"
      },
      "execution_count": 105,
      "outputs": [
        {
          "output_type": "execute_result",
          "data": {
            "text/plain": [
              "[[135.51], [135.345], [135.72], [136.7], [137.11]]"
            ]
          },
          "metadata": {},
          "execution_count": 105
        }
      ]
    },
    {
      "cell_type": "code",
      "source": [
        "plt.plot(df3)"
      ],
      "metadata": {
        "colab": {
          "base_uri": "https://localhost:8080/",
          "height": 282
        },
        "id": "mz2xhLAwUU1x",
        "outputId": "e307e1d1-fa0b-4787-8296-2ad86c4a6a78"
      },
      "execution_count": 106,
      "outputs": [
        {
          "output_type": "execute_result",
          "data": {
            "text/plain": [
              "[<matplotlib.lines.Line2D at 0x7f25573c6d90>]"
            ]
          },
          "metadata": {},
          "execution_count": 106
        },
        {
          "output_type": "display_data",
          "data": {
            "image/png": "[encoded data removed]",
            "text/plain": [
              "<Figure size 432x288 with 1 Axes>"
            ]
          },
          "metadata": {
            "needs_background": "light"
          }
        }
      ]
    },
    {
      "cell_type": "markdown",
      "source": [
        "# BIDIRECTIONAL RNN"
      ],
      "metadata": {
        "id": "YnKISsWV764U"
      }
    },
    {
      "cell_type": "code",
      "source": [
        "df = pd.read_csv(\"/content/train.csv\")\n",
        "df.head()"
      ],
      "metadata": {
        "colab": {
          "base_uri": "https://localhost:8080/",
          "height": 206
        },
        "id": "rO8b5YkWVOh7",
        "outputId": "f274e8e3-6558-4468-d7ae-6da3fe676dbc"
      },
      "execution_count": 107,
      "outputs": [
        {
          "output_type": "execute_result",
          "data": {
            "text/html": [
              "\n",
              "  <div id=\"df-eb4f4ae2-f6d5-48d9-9098-7dff0eea2ffa\">\n",
              "    <div class=\"colab-df-container\">\n",
              "      <div>\n",
              "<style scoped>\n",
              "    .dataframe tbody tr th:only-of-type {\n",
              "        vertical-align: middle;\n",
              "    }\n",
              "\n",
              "    .dataframe tbody tr th {\n",
              "        vertical-align: top;\n",
              "    }\n",
              "\n",
              "    .dataframe thead th {\n",
              "        text-align: right;\n",
              "    }\n",
              "</style>\n",
              "<table border=\"1\" class=\"dataframe\">\n",
              "  <thead>\n",
              "    <tr style=\"text-align: right;\">\n",
              "      <th></th>\n",
              "      <th>id</th>\n",
              "      <th>title</th>\n",
              "      <th>author</th>\n",
              "      <th>text</th>\n",
              "      <th>label</th>\n",
              "    </tr>\n",
              "  </thead>\n",
              "  <tbody>\n",
              "    <tr>\n",
              "      <th>0</th>\n",
              "      <td>0</td>\n",
              "      <td>House Dem Aide: We Didn’t Even See Comey’s Let...</td>\n",
              "      <td>Darrell Lucus</td>\n",
              "      <td>House Dem Aide: We Didn’t Even See Comey’s Let...</td>\n",
              "      <td>1</td>\n",
              "    </tr>\n",
              "    <tr>\n",
              "      <th>1</th>\n",
              "      <td>1</td>\n",
              "      <td>FLYNN: Hillary Clinton, Big Woman on Campus - ...</td>\n",
              "      <td>Daniel J. Flynn</td>\n",
              "      <td>Ever get the feeling your life circles the rou...</td>\n",
              "      <td>0</td>\n",
              "    </tr>\n",
              "    <tr>\n",
              "      <th>2</th>\n",
              "      <td>2</td>\n",
              "      <td>Why the Truth Might Get You Fired</td>\n",
              "      <td>Consortiumnews.com</td>\n",
              "      <td>Why the Truth Might Get You Fired October 29, ...</td>\n",
              "      <td>1</td>\n",
              "    </tr>\n",
              "    <tr>\n",
              "      <th>3</th>\n",
              "      <td>3</td>\n",
              "      <td>15 Civilians Killed In Single US Airstrike Hav...</td>\n",
              "      <td>Jessica Purkiss</td>\n",
              "      <td>Videos 15 Civilians Killed In Single US Airstr...</td>\n",
              "      <td>1</td>\n",
              "    </tr>\n",
              "    <tr>\n",
              "      <th>4</th>\n",
              "      <td>4</td>\n",
              "      <td>Iranian woman jailed for fictional unpublished...</td>\n",
              "      <td>Howard Portnoy</td>\n",
              "      <td>Print \\nAn Iranian woman has been sentenced to...</td>\n",
              "      <td>1</td>\n",
              "    </tr>\n",
              "  </tbody>\n",
              "</table>\n",
              "</div>\n",
              "      <button class=\"colab-df-convert\" onclick=\"convertToInteractive('df-eb4f4ae2-f6d5-48d9-9098-7dff0eea2ffa')\"\n",
              "              title=\"Convert this dataframe to an interactive table.\"\n",
              "              style=\"display:none;\">\n",
              "        \n",
              "  <svg xmlns=\"http://www.w3.org/2000/svg\" height=\"24px\"viewBox=\"0 0 24 24\"\n",
              "       width=\"24px\">\n",
              "    <path d=\"M0 0h24v24H0V0z\" fill=\"none\"/>\n",
              "    <path d=\"M18.56 5.44l.94 2.06.94-2.06 2.06-.94-2.06-.94-.94-2.06-.94 2.06-2.06.94zm-11 1L8.5 8.5l.94-2.06 2.06-.94-2.06-.94L8.5 2.5l-.94 2.06-2.06.94zm10 10l.94 2.06.94-2.06 2.06-.94-2.06-.94-.94-2.06-.94 2.06-2.06.94z\"/><path d=\"M17.41 7.96l-1.37-1.37c-.4-.4-.92-.59-1.43-.59-.52 0-1.04.2-1.43.59L10.3 9.45l-7.72 7.72c-.78.78-.78 2.05 0 2.83L4 21.41c.39.39.9.59 1.41.59.51 0 1.02-.2 1.41-.59l7.78-7.78 2.81-2.81c.8-.78.8-2.07 0-2.86zM5.41 20L4 18.59l7.72-7.72 1.47 1.35L5.41 20z\"/>\n",
              "  </svg>\n",
              "      </button>\n",
              "      \n",
              "  <style>\n",
              "    .colab-df-container {\n",
              "      display:flex;\n",
              "      flex-wrap:wrap;\n",
              "      gap: 12px;\n",
              "    }\n",
              "\n",
              "    .colab-df-convert {\n",
              "      background-color: #E8F0FE;\n",
              "      border: none;\n",
              "      border-radius: 50%;\n",
              "      cursor: pointer;\n",
              "      display: none;\n",
              "      fill: #1967D2;\n",
              "      height: 32px;\n",
              "      padding: 0 0 0 0;\n",
              "      width: 32px;\n",
              "    }\n",
              "\n",
              "    .colab-df-convert:hover {\n",
              "      background-color: #E2EBFA;\n",
              "      box-shadow: 0px 1px 2px rgba(60, 64, 67, 0.3), 0px 1px 3px 1px rgba(60, 64, 67, 0.15);\n",
              "      fill: #174EA6;\n",
              "    }\n",
              "\n",
              "    [theme=dark] .colab-df-convert {\n",
              "      background-color: #3B4455;\n",
              "      fill: #D2E3FC;\n",
              "    }\n",
              "\n",
              "    [theme=dark] .colab-df-convert:hover {\n",
              "      background-color: #434B5C;\n",
              "      box-shadow: 0px 1px 3px 1px rgba(0, 0, 0, 0.15);\n",
              "      filter: drop-shadow(0px 1px 2px rgba(0, 0, 0, 0.3));\n",
              "      fill: #FFFFFF;\n",
              "    }\n",
              "  </style>\n",
              "\n",
              "      <script>\n",
              "        const buttonEl =\n",
              "          document.querySelector('#df-eb4f4ae2-f6d5-48d9-9098-7dff0eea2ffa button.colab-df-convert');\n",
              "        buttonEl.style.display =\n",
              "          google.colab.kernel.accessAllowed ? 'block' : 'none';\n",
              "\n",
              "        async function convertToInteractive(key) {\n",
              "          const element = document.querySelector('#df-eb4f4ae2-f6d5-48d9-9098-7dff0eea2ffa');\n",
              "          const dataTable =\n",
              "            await google.colab.kernel.invokeFunction('convertToInteractive',\n",
              "                                                     [key], {});\n",
              "          if (!dataTable) return;\n",
              "\n",
              "          const docLinkHtml = 'Like what you see? Visit the ' +\n",
              "            '<a target=\"_blank\" href=https://colab.research.google.com/notebooks/data_table.ipynb>data table notebook</a>'\n",
              "            + ' to learn more about interactive tables.';\n",
              "          element.innerHTML = '';\n",
              "          dataTable['output_type'] = 'display_data';\n",
              "          await google.colab.output.renderOutput(dataTable, element);\n",
              "          const docLink = document.createElement('div');\n",
              "          docLink.innerHTML = docLinkHtml;\n",
              "          element.appendChild(docLink);\n",
              "        }\n",
              "      </script>\n",
              "    </div>\n",
              "  </div>\n",
              "  "
            ],
            "text/plain": [
              "   id  ... label\n",
              "0   0  ...     1\n",
              "1   1  ...     0\n",
              "2   2  ...     1\n",
              "3   3  ...     1\n",
              "4   4  ...     1\n",
              "\n",
              "[5 rows x 5 columns]"
            ]
          },
          "metadata": {},
          "execution_count": 107
        }
      ]
    },
    {
      "cell_type": "code",
      "source": [
        "# df[\"label_counts\"] = df[\"title\"].apply(lambda x:len(x))\n",
        "# df.head()"
      ],
      "metadata": {
        "id": "5kl_s3sKFNRo"
      },
      "execution_count": 108,
      "outputs": []
    },
    {
      "cell_type": "code",
      "source": [
        "df[\"label\"].value_counts()"
      ],
      "metadata": {
        "colab": {
          "base_uri": "https://localhost:8080/"
        },
        "id": "UJfFPv0A_hBC",
        "outputId": "c22a40df-50a9-4869-ec79-7deae24798de"
      },
      "execution_count": 109,
      "outputs": [
        {
          "output_type": "execute_result",
          "data": {
            "text/plain": [
              "1    10413\n",
              "0    10387\n",
              "Name: label, dtype: int64"
            ]
          },
          "metadata": {},
          "execution_count": 109
        }
      ]
    },
    {
      "cell_type": "code",
      "source": [
        "# 100% ------ > 80% of data is 0 and 20% of data is 1 --- >imbalance data --- > imblearn or the other techinique to red of it is use the roc_auc_cure\n",
        "\n",
        "df.isna().sum()"
      ],
      "metadata": {
        "colab": {
          "base_uri": "https://localhost:8080/"
        },
        "id": "4Hlcq6zF_tCM",
        "outputId": "10d5c615-c22c-4881-a25c-8d855d7c8db8"
      },
      "execution_count": 110,
      "outputs": [
        {
          "output_type": "execute_result",
          "data": {
            "text/plain": [
              "id           0\n",
              "title      558\n",
              "author    1957\n",
              "text        39\n",
              "label        0\n",
              "dtype: int64"
            ]
          },
          "metadata": {},
          "execution_count": 110
        }
      ]
    },
    {
      "cell_type": "code",
      "source": [
        "# df[\"title\"].fillna(\"SOMETHING VALUE WHICH IS NOT FILLED\",inplace=True)\n",
        "df.dropna(inplace=True)\n",
        "df.reset_index(inplace=True)\n",
        "df.isna().sum()"
      ],
      "metadata": {
        "colab": {
          "base_uri": "https://localhost:8080/"
        },
        "id": "I_IaiJdUAULX",
        "outputId": "18e5402d-2b79-4483-f6c8-cb50fdd7c0c1"
      },
      "execution_count": 111,
      "outputs": [
        {
          "output_type": "execute_result",
          "data": {
            "text/plain": [
              "index     0\n",
              "id        0\n",
              "title     0\n",
              "author    0\n",
              "text      0\n",
              "label     0\n",
              "dtype: int64"
            ]
          },
          "metadata": {},
          "execution_count": 111
        }
      ]
    },
    {
      "cell_type": "code",
      "source": [
        "from tensorflow.keras.layers import Embedding,Dropout,Dense,LSTM,Bidirectional\n",
        "from tensorflow.keras.preprocessing.sequence import pad_sequences\n",
        "from tensorflow.keras.preprocessing.text import one_hot\n",
        "from tensorflow.keras.models import Sequential"
      ],
      "metadata": {
        "id": "YmD-XbHjAfol"
      },
      "execution_count": 112,
      "outputs": []
    },
    {
      "cell_type": "code",
      "source": [
        "import nltk\n",
        "import re\n",
        "nltk.download(\"stopwords\")\n",
        "nltk.download(\"wordnet\")\n",
        "nltk.download(\"punkt\")  "
      ],
      "metadata": {
        "colab": {
          "base_uri": "https://localhost:8080/"
        },
        "id": "CMHclNXeBIfN",
        "outputId": "28895166-3d64-4467-d1c1-678a5160a7d8"
      },
      "execution_count": 113,
      "outputs": [
        {
          "output_type": "stream",
          "name": "stdout",
          "text": [
            "[nltk_data] Downloading package stopwords to /root/nltk_data...\n",
            "[nltk_data]   Package stopwords is already up-to-date!\n",
            "[nltk_data] Downloading package wordnet to /root/nltk_data...\n",
            "[nltk_data]   Package wordnet is already up-to-date!\n",
            "[nltk_data] Downloading package punkt to /root/nltk_data...\n",
            "[nltk_data]   Package punkt is already up-to-date!\n"
          ]
        },
        {
          "output_type": "execute_result",
          "data": {
            "text/plain": [
              "True"
            ]
          },
          "metadata": {},
          "execution_count": 113
        }
      ]
    },
    {
      "cell_type": "code",
      "source": [
        "len(df[\"title\"])"
      ],
      "metadata": {
        "colab": {
          "base_uri": "https://localhost:8080/"
        },
        "id": "BNsnQM5kBtmG",
        "outputId": "42e9f8b7-3b99-463c-e08b-0f434f6c20a4"
      },
      "execution_count": 114,
      "outputs": [
        {
          "output_type": "execute_result",
          "data": {
            "text/plain": [
              "18285"
            ]
          },
          "metadata": {},
          "execution_count": 114
        }
      ]
    },
    {
      "cell_type": "code",
      "source": [
        "from nltk.stem import PorterStemmer\n",
        "from nltk.corpus import stopwords \n",
        "c = []\n",
        "pos = PorterStemmer()\n",
        "for i in range(len(df[\"title\"])):\n",
        "  review = re.sub(\"[^a-zA-Z]\",\" \",df[\"title\"][i])\n",
        "  review = review.lower()\n",
        "  review = review.split()\n",
        "  review = [pos.stem(word) for word in review if word not in set(stopwords.words(\"english\"))]\n",
        "  review = \" \".join(review)\n",
        "  c.append(review)"
      ],
      "metadata": {
        "id": "pPvtg-rXBbZZ"
      },
      "execution_count": 115,
      "outputs": []
    },
    {
      "cell_type": "code",
      "source": [
        "c[0]"
      ],
      "metadata": {
        "colab": {
          "base_uri": "https://localhost:8080/",
          "height": 35
        },
        "id": "Td71xunsCbmP",
        "outputId": "1cdf8962-30a3-48e3-a7b3-6bf0ade57443"
      },
      "execution_count": 116,
      "outputs": [
        {
          "output_type": "execute_result",
          "data": {
            "application/vnd.google.colaboratory.intrinsic+json": {
              "type": "string"
            },
            "text/plain": [
              "'hous dem aid even see comey letter jason chaffetz tweet'"
            ]
          },
          "metadata": {},
          "execution_count": 116
        }
      ]
    },
    {
      "cell_type": "code",
      "source": [
        "df[\"title\"][0]"
      ],
      "metadata": {
        "colab": {
          "base_uri": "https://localhost:8080/",
          "height": 35
        },
        "id": "zALLV2i2DyUh",
        "outputId": "d858ba4e-271c-4c28-86be-50030c9828e1"
      },
      "execution_count": 117,
      "outputs": [
        {
          "output_type": "execute_result",
          "data": {
            "application/vnd.google.colaboratory.intrinsic+json": {
              "type": "string"
            },
            "text/plain": [
              "'House Dem Aide: We Didn’t Even See Comey’s Letter Until Jason Chaffetz Tweeted It'"
            ]
          },
          "metadata": {},
          "execution_count": 117
        }
      ]
    },
    {
      "cell_type": "code",
      "source": [
        "# for i in range(10):\n",
        "#   print(df[\"title\"][i])"
      ],
      "metadata": {
        "id": "hjRM3FWZEZa0"
      },
      "execution_count": 118,
      "outputs": []
    },
    {
      "cell_type": "code",
      "source": [
        "one_hot_rep = [one_hot(word,10000)for word in c]\n",
        "one_hot_rep"
      ],
      "metadata": {
        "colab": {
          "base_uri": "https://localhost:8080/"
        },
        "id": "L-f233KqD0uB",
        "outputId": "4bd07faa-758d-4d52-d612-7dccc61f4d4b"
      },
      "execution_count": 119,
      "outputs": [
        {
          "output_type": "execute_result",
          "data": {
            "text/plain": [
              "[[6464, 5916, 6395, 9438, 7523, 6883, 7621, 4456, 5278, 146],\n",
              " [4304, 3873, 3195, 3032, 1588, 7191, 5376],\n",
              " [9691, 1173, 9328, 9286],\n",
              " [6911, 3895, 5298, 257, 1044, 8916],\n",
              " [9530, 1588, 6631, 7298, 538, 5316, 1588, 2226, 7687, 520],\n",
              " [7742,\n",
              "  3938,\n",
              "  8168,\n",
              "  1916,\n",
              "  8833,\n",
              "  4930,\n",
              "  8303,\n",
              "  6894,\n",
              "  5922,\n",
              "  6672,\n",
              "  5597,\n",
              "  9600,\n",
              "  6877,\n",
              "  9710,\n",
              "  5376],\n",
              " [7285, 7014, 9536, 7470, 8833, 7048, 7379, 1623, 1595, 6202, 2308],\n",
              " [4701, 9954, 6812, 723, 8861, 4501, 4930, 4695, 1595, 6202, 2308],\n",
              " [8779, 1947, 2123, 3322, 9893, 5559, 1164, 8408, 4930, 8094],\n",
              " [8840, 1343, 8453, 7215, 1800, 5159, 7147, 6093],\n",
              " [8282, 2966, 24, 8181, 8352, 5056, 4949, 339, 3568, 8609, 1780],\n",
              " [257, 4112, 7523, 5559, 4930, 8861],\n",
              " [7319, 5461, 2134, 8389, 4838, 3803, 1083, 8349, 998],\n",
              " [4370, 8983, 6751, 3151, 9318, 5729, 9966, 1595, 6202, 2308],\n",
              " [9468, 310, 8504, 1575, 2707, 1595, 6202, 2308],\n",
              " [9917, 4681, 9885, 5069, 8450, 4030, 8284, 8024, 502, 1403],\n",
              " [1393, 3390, 3873],\n",
              " [5941, 4784, 4309, 9711, 4930, 1047, 1279, 5376],\n",
              " [9519, 1316, 3195, 6300, 2209, 6429, 4261, 5581, 5316],\n",
              " [4682, 7480, 4930, 7869, 6714, 5376],\n",
              " [7817, 916, 7562, 4084, 5732, 4261, 7548, 243, 5765, 1595, 6202, 2308],\n",
              " [4897, 7245, 9799, 6303, 9657, 7311, 8920],\n",
              " [6877, 7452, 586, 6694, 1525, 4890, 6535, 3846, 570, 8201, 6663, 5376],\n",
              " [5264, 3873, 1115, 3568, 5439, 2398, 6446, 83],\n",
              " [3810, 5859, 321, 3485, 9592, 7369, 6300, 5090, 2311, 1595, 6202, 2308],\n",
              " [3873, 3195, 8541, 8891, 1595, 6202, 2308],\n",
              " [5941, 4784, 4309, 4754, 9747, 6503, 3485, 5376],\n",
              " [8687, 4347, 1158, 9637, 4856, 1595, 6202, 2308],\n",
              " [2924, 1174, 3421, 7165, 2157, 2912, 1455, 447, 5306, 1595, 6202, 2308],\n",
              " [7168, 3851, 3625, 3846, 5584, 966, 1332, 3783, 3961, 1595, 6202, 2308],\n",
              " [8861, 5973, 9657, 7933, 4945, 1716, 1595, 6202, 2308],\n",
              " [8338, 1044, 2537, 9674, 3273],\n",
              " [6290, 3879, 1266, 3954],\n",
              " [2697, 8330, 5616, 7605, 1834, 5199, 8140, 5376],\n",
              " [7220, 7092, 7220, 5241, 8723, 5135, 1595, 6202, 2308],\n",
              " [421, 8072, 4865, 2421, 336, 9400, 6858, 5376],\n",
              " [1547, 4787, 7185, 4087],\n",
              " [6034, 9134, 7970, 2299, 3137, 2112, 1595, 6202, 2308],\n",
              " [8448, 7196, 2352, 7600, 8779, 7237, 8698, 202, 5376],\n",
              " [8327, 4525, 3219, 4457, 8401, 1879, 321, 1595, 6202, 2308],\n",
              " [6324, 3368, 6348, 3678, 3324, 1190, 4575, 2329, 9710],\n",
              " [9590, 1606, 391, 2795, 8732, 1595, 6024, 1595, 6202, 2308],\n",
              " [5238, 1525, 6063, 8684, 917, 7848, 5721, 2613, 6587, 6754, 1263, 5376],\n",
              " [7441, 2542, 991],\n",
              " [9949, 2750, 1409, 4137, 6416, 9405, 6876, 9672, 854, 5376],\n",
              " [4930, 3954, 7441, 3356, 5348, 3865],\n",
              " [3456, 1447, 3317, 599, 3389, 1213, 4649, 6065, 6355, 1714, 9710],\n",
              " [1478, 2737, 7452, 5305, 3521],\n",
              " [9711, 4930, 9536, 3954, 5508, 4919, 257, 1047, 2552],\n",
              " [3320, 4937, 390, 4473, 5066, 1595, 6202, 2308],\n",
              " [4370, 4346, 4282, 2990, 2946, 4424, 1595, 6202, 2308],\n",
              " [2006, 1713, 2003, 1171, 3954],\n",
              " [6421, 8501, 3795, 6619, 5347, 9395, 5848, 5323, 1595, 6202, 2308],\n",
              " [3751, 4549, 4930, 9037, 7787, 8528, 476, 149, 5672],\n",
              " [3521, 5417, 8032, 7886, 4524, 4440, 9256, 2678, 629, 1595, 6202, 2308],\n",
              " [1266, 4963, 7452, 586, 9291, 3718, 4282, 1266, 6513],\n",
              " [4086, 9318, 3178, 8792, 8877, 6438, 8196, 1349, 1834, 8360],\n",
              " [3195, 2752, 4528, 1393, 3679, 6716, 5056, 3873, 3195, 8254],\n",
              " [3401, 743, 4549, 7817, 83, 1595, 6202, 2308],\n",
              " [3820, 6897, 587, 3803, 4930, 2291, 1047, 8113],\n",
              " [1751, 8946, 4012, 2457],\n",
              " [4413, 3624, 1525, 8830, 4500],\n",
              " [3403, 2003, 1588, 4066, 1595, 6202, 2308],\n",
              " [6160, 9399, 8338, 3138, 6608, 1595, 1106, 1595, 6202, 2308],\n",
              " [6324, 1008, 8094, 8779, 8203, 7750, 8784, 8698, 1595, 6202, 2308],\n",
              " [2697, 1050, 1808, 5875, 6121, 1595, 6202, 2308],\n",
              " [2445, 930, 6878, 9577, 8779, 3386, 878, 3485],\n",
              " [1266, 8625, 7196, 7070, 6948, 5522, 1595, 6202, 2308],\n",
              " [3015, 340, 8158, 3001, 4930, 5207, 3107, 5376],\n",
              " [2129, 2793, 7573, 1266, 7379, 9292, 5659, 9438, 6841, 1595, 6202, 2308],\n",
              " [3167, 488, 6290, 8684, 3396, 883, 9593, 8499, 303],\n",
              " [5370, 7702, 5317, 3873],\n",
              " [7051, 7838, 2382, 3317, 2993, 7371, 5237, 300, 688],\n",
              " [4930, 5375, 875, 569, 1595, 6202, 2308],\n",
              " [407, 2314, 1971, 1108, 7829, 8573, 4615, 2008, 1595, 6202, 2308],\n",
              " [2052],\n",
              " [4930, 4854, 83, 1564, 7548, 6694, 2329, 1595, 6202, 2308],\n",
              " [321, 2006, 4500, 7268, 9683, 3195, 83, 7238, 4930, 5880, 2238, 1171],\n",
              " [7298, 6588, 830, 7027, 1595, 6202, 2308],\n",
              " [4320, 9099, 5781, 1751, 8865, 8168, 5996, 1595, 6202, 2308],\n",
              " [4033, 7578, 1004, 5602, 5317, 3651, 552, 9598, 5366, 2973],\n",
              " [2063, 9745, 1032, 5973, 8309, 6694, 3053, 3638, 1595, 6202, 2308],\n",
              " [4772,\n",
              "  6350,\n",
              "  6066,\n",
              "  9846,\n",
              "  5423,\n",
              "  9711,\n",
              "  4930,\n",
              "  2697,\n",
              "  7703,\n",
              "  553,\n",
              "  3354,\n",
              "  8261,\n",
              "  6777,\n",
              "  697,\n",
              "  5173,\n",
              "  5731],\n",
              " [5376, 3485, 4012, 4930, 9324, 5376],\n",
              " [2589, 6464, 9755, 6642, 9277, 8779, 3257, 6387],\n",
              " [2286, 5737, 1263, 2697, 3954, 5731, 5376],\n",
              " [8684, 962, 1823, 1171, 1520, 5284, 7562, 1595, 6202, 2308],\n",
              " [6626, 1266, 1970, 4296, 6609, 6812, 7769, 1595, 6202, 2308],\n",
              " [4520, 7215, 7343, 7245, 768, 67, 362],\n",
              " [4261, 9405, 3904, 2558, 1456, 9076, 1595, 6202, 2308],\n",
              " [3873, 3195, 4876, 5069, 3354, 5644, 2837, 9711, 4930, 1595, 6202, 2308],\n",
              " [4930, 4446, 6851, 4500, 9527, 9718, 1838, 2181],\n",
              " [6121, 4541, 8282, 2134, 336],\n",
              " [2421, 4317, 5200, 1294, 8024, 502, 1403],\n",
              " [7452, 586, 5415, 4212, 2496, 6920, 1395, 5415, 4212, 2496, 5376],\n",
              " [6512, 3032, 7834, 943, 604, 2924, 9600, 5474, 5376],\n",
              " [3751, 840, 3239, 6402, 4637, 5263, 6970, 7044, 6298, 8349, 5376],\n",
              " [8372, 4865, 8201, 6429, 9467, 8259, 994, 6318, 3032, 8072, 1595, 6202, 2308],\n",
              " [8733, 8188, 521, 9352, 5354, 4930, 2010, 5393, 4242, 6724],\n",
              " [5722, 4930, 4200, 8692, 5858, 7702, 3498, 502, 6088, 5240, 277, 4442, 7909],\n",
              " [2981, 2306, 4972, 6312, 6270, 4705, 6725, 653, 1595, 6202, 2308],\n",
              " [3195, 2752, 6544, 5567, 5657, 8722, 4112, 6694, 1171, 3873, 7165, 1253],\n",
              " [3368, 6706, 7044, 201, 1827, 4644, 996, 6694, 354, 5159, 6067, 5376],\n",
              " [1650, 1547, 4794, 8261, 8735, 7443, 1631, 9282, 1543, 1595, 6202, 2308],\n",
              " [2271, 4688, 7548, 2446, 6304, 6569, 1595, 6202, 2308],\n",
              " [3521, 2376, 1751, 7709, 8527, 8207, 1595, 6202, 2308],\n",
              " [4930, 2376, 4277, 8699, 5056, 5944, 4112, 587, 1595, 6202, 2308],\n",
              " [3224, 3670, 1834, 8254, 8293, 7600, 8779, 3873, 8254],\n",
              " [5018, 2921, 6464, 1595, 447, 1008, 6588, 5255, 1695, 8698, 7642],\n",
              " [4206, 5871, 156, 8070, 3755, 4206, 5707, 1595, 6202, 2308],\n",
              " [258, 2904, 3732, 6464, 9865, 2973, 2662],\n",
              " [903, 8330, 6326, 9718, 257, 3954, 8356, 6034, 3873, 9536],\n",
              " [8688, 8579, 6109, 7844, 263, 7828, 1595, 6202, 2308],\n",
              " [3390, 5656, 5544, 4165, 8445, 9575, 6428, 1595, 6202, 2308],\n",
              " [3368, 1178, 69, 2589, 6464, 3489, 9711, 4930, 5376],\n",
              " [7467, 5173, 8795, 4930, 8032, 3830, 2329, 5376],\n",
              " [9395, 617, 8501, 6849, 5848],\n",
              " [8483, 4930, 3485, 336, 658, 1595, 6202, 2308],\n",
              " [9711, 4930, 8732, 6812, 1229, 2591, 8261, 8195, 1595, 6202, 2308],\n",
              " [9988, 2697, 8195, 5474, 9657, 2106, 7518, 340, 2458, 5376],\n",
              " [3625, 5623, 8477, 9726],\n",
              " [4112, 2793, 7573, 8501, 1547, 3203, 1595, 6202, 2308],\n",
              " [8001, 6970, 9720, 5651, 9598, 8891, 7734, 3660, 8612],\n",
              " [1266, 6626, 4742, 4963, 2731, 2066, 2268, 4535, 1279, 7548],\n",
              " [4930, 8396, 3850, 5264, 6370, 3625, 4261, 5737, 322, 1950, 9710],\n",
              " [1393, 9318, 9607, 7565, 3873, 3195, 8254, 7702, 8653],\n",
              " [994, 4261, 6381, 3895, 1349, 8300, 5522, 5178, 9284],\n",
              " [4500, 3498, 835, 4867, 7671, 5123, 8891, 4930, 7415],\n",
              " [1751, 5594, 6732, 8838, 9824, 56],\n",
              " [7443, 3895, 2790, 9203, 4124, 1076, 8722, 3718],\n",
              " [9637, 2697, 93, 2928, 1444, 8372, 5631, 4865, 6186, 8823, 6118],\n",
              " [9352, 3317, 660, 2074, 5960, 8095, 9037, 9597, 6092, 69],\n",
              " [6770, 9381, 1834, 67, 6694, 7676, 5237, 6040, 7687, 1171, 8823],\n",
              " [4084, 362, 4854, 8924, 1595, 6202, 2308],\n",
              " [2880, 9017, 7452, 628, 4930, 8427, 1250, 1595, 6202, 2308],\n",
              " [9037, 15, 4036, 5159, 6253, 6812, 3249, 8699, 1595, 6202, 2308],\n",
              " [5022, 2968],\n",
              " [8283, 5019, 2589, 6464, 3077, 7463, 9923, 9821, 1595, 6202, 2308],\n",
              " [7970, 7273, 9286, 3001, 8181, 4491, 4930, 6460, 146, 5376],\n",
              " [3195, 8985],\n",
              " [6726, 5519, 1939, 7078, 5657, 9299, 2074, 1595, 6202, 2308],\n",
              " [5657, 4888, 8501, 521, 8319],\n",
              " [1595, 9949, 5559, 6338, 3052, 3752, 3572, 6221, 4780],\n",
              " [9464, 5777, 4742, 2507],\n",
              " [3317, 3389, 582, 4286, 2344, 8195, 4930],\n",
              " [5766,\n",
              "  5649,\n",
              "  9818,\n",
              "  6573,\n",
              "  2648,\n",
              "  3317,\n",
              "  6672,\n",
              "  4622,\n",
              "  1332,\n",
              "  5867,\n",
              "  1595,\n",
              "  6202,\n",
              "  2308],\n",
              " [7386, 8504, 1497, 9916, 3239, 2613, 4036, 1595, 6202, 2308],\n",
              " [1562, 3599, 3317, 9346, 1595, 6202, 2308],\n",
              " [6790, 5768, 4062, 6798, 8379, 3573, 2756, 5376],\n",
              " [2298, 1775, 3019, 7587, 3053, 2158, 4261, 2496, 8360, 8722],\n",
              " [2157, 9637, 3139, 124, 4780, 3239, 5376],\n",
              " [6478, 1950, 9615, 5055, 7293, 3605],\n",
              " [4930, 1229, 6113, 3938, 8739, 6503, 7448, 3396, 5846],\n",
              " [6770,\n",
              "  7391,\n",
              "  2621,\n",
              "  6732,\n",
              "  7369,\n",
              "  7391,\n",
              "  4964,\n",
              "  7237,\n",
              "  8698,\n",
              "  9640,\n",
              "  9271,\n",
              "  587,\n",
              "  7615,\n",
              "  2998,\n",
              "  9711,\n",
              "  4930,\n",
              "  5376],\n",
              " [943, 3368, 2881, 5173, 3381, 9711, 4930, 8245, 1595, 6202, 2308],\n",
              " [6290, 7621, 4930, 5737, 8269, 2003],\n",
              " [6930, 7726, 2990, 1042, 1984, 4701, 3873, 124, 4256, 9016],\n",
              " [9900, 7153, 3683, 6695, 1536, 3396, 9185, 1595, 6202, 2308],\n",
              " [2003, 8756, 8756, 3683, 1595, 6202, 2308],\n",
              " [3694, 587, 4688, 953, 2200, 7887, 6849, 3026, 1595, 6202, 2308],\n",
              " [5696,\n",
              "  2134,\n",
              "  6513,\n",
              "  3401,\n",
              "  5522,\n",
              "  3430,\n",
              "  4256,\n",
              "  1266,\n",
              "  8861,\n",
              "  4199,\n",
              "  1595,\n",
              "  6202,\n",
              "  2308],\n",
              " [4773, 4547, 9286, 2413, 2077, 1106, 4832],\n",
              " [9640, 2699, 809, 9640, 1595, 6202, 2308],\n",
              " [3824, 4598, 4256, 6464, 2329, 3954, 4930, 1595, 6202, 2308],\n",
              " [6626, 1266, 6874, 4473, 2917, 2507, 2973, 9286],\n",
              " [2238,\n",
              "  3413,\n",
              "  3354,\n",
              "  9822,\n",
              "  9328,\n",
              "  2425,\n",
              "  6180,\n",
              "  6595,\n",
              "  6464,\n",
              "  2496,\n",
              "  6695,\n",
              "  9328,\n",
              "  1150,\n",
              "  4174,\n",
              "  8716,\n",
              "  4839,\n",
              "  5729],\n",
              " [4934, 4473, 3354, 9037, 8491, 4332, 4701, 3498, 4212, 7834, 4332],\n",
              " [7512, 4930, 7904, 853, 1595, 6202, 2308],\n",
              " [1393, 4069, 6883, 8038, 8722, 8812, 3195],\n",
              " [7671, 3834, 3000, 2414, 1404, 1411, 3718],\n",
              " [7687, 4588, 586, 5175],\n",
              " [6930, 2471, 3572, 8547, 1409, 9818, 69, 3895, 6884],\n",
              " [9711, 4930, 9266, 8072, 5713, 8092, 3954, 6630, 1595, 6202, 2308],\n",
              " [3295, 9718, 1115, 8551, 2012, 9634, 2801, 6385, 8891, 1595, 6202, 2308],\n",
              " [854, 1130, 8706, 6126, 7954, 3757, 1393, 4773],\n",
              " [9711, 4930, 9532, 5731, 1595, 6202, 2308],\n",
              " [8457, 1595, 4608, 3873, 3850, 2752, 8469, 5415, 257, 3354, 3421, 2065, 6271],\n",
              " [6877,\n",
              "  1229,\n",
              "  2510,\n",
              "  4165,\n",
              "  1729,\n",
              "  1089,\n",
              "  4844,\n",
              "  3365,\n",
              "  587,\n",
              "  4615,\n",
              "  6881,\n",
              "  9868,\n",
              "  7215,\n",
              "  850,\n",
              "  2181],\n",
              " [4930, 8795, 4500, 7735, 9640, 2376, 806, 5376],\n",
              " [1656, 5255, 8259, 994],\n",
              " [7665, 2382, 6324, 3482, 3625, 5607, 1595, 6202, 2308],\n",
              " [7245, 6812, 4125, 4030, 3711, 1457, 1089],\n",
              " [4930, 3718, 6121, 6140, 3682, 6930, 1595, 6202, 2308],\n",
              " [3195, 456, 3833, 5321, 8254, 3873, 3498, 6625],\n",
              " [148, 753, 4484, 6034, 6784, 8698, 5376],\n",
              " [9711, 4930, 5616, 9598, 4137],\n",
              " [6508, 8477, 2538, 6768, 4391, 9113, 5509, 6512, 447],\n",
              " [4449, 6121, 9292, 9940, 4226, 6306, 3733, 3461, 1595, 6202, 2308],\n",
              " [6877, 5112, 587, 8372, 4865, 1916, 2476, 4701, 321, 3485],\n",
              " [5722, 831, 8779, 4552, 9121, 2176, 9094, 2066, 1171, 1595, 6202, 2308],\n",
              " [1158, 8195, 8477, 7042, 3343, 7887, 2122, 1699, 1595, 6202, 2308],\n",
              " [3345, 584, 1598, 8723, 3485, 4930],\n",
              " [2796,\n",
              "  4934,\n",
              "  1950,\n",
              "  447,\n",
              "  1008,\n",
              "  1593,\n",
              "  4854,\n",
              "  8756,\n",
              "  6463,\n",
              "  7436,\n",
              "  9328,\n",
              "  502,\n",
              "  4743,\n",
              "  8181],\n",
              " [7897, 1266, 4533, 8264, 3354, 1595, 6202, 2308],\n",
              " [7601, 977, 8330, 5734, 5596, 330, 3718, 1595, 6202, 2308],\n",
              " [4637, 2697, 7748, 1395, 7396, 8477, 4930],\n",
              " [9037, 1424, 1332, 5159, 7887, 8638, 1595, 6202, 2308],\n",
              " [8861, 7311, 3718, 1139, 2881, 587, 1018, 5207],\n",
              " [9074, 3001, 9643, 3338, 6416, 3968, 8647, 1595, 6202, 2308],\n",
              " [9037, 1332, 6682, 4036, 5159, 356, 8196, 2453, 1595, 6202, 2308],\n",
              " [9536,\n",
              "  2708,\n",
              "  6626,\n",
              "  4103,\n",
              "  1668,\n",
              "  7457,\n",
              "  1972,\n",
              "  9536,\n",
              "  3578,\n",
              "  4103,\n",
              "  1668,\n",
              "  505,\n",
              "  3400,\n",
              "  8993],\n",
              " [4930, 8074, 3485, 3803, 1595, 5135, 8842, 7238, 1595, 6202, 2308],\n",
              " [1266, 379, 7070, 6518, 4467, 9637, 1595, 6202, 2308],\n",
              " [1266, 438, 8356, 1088, 7886, 3718, 9345, 1595, 6202, 7587, 2924],\n",
              " [8269, 4625, 6732, 7001, 4403],\n",
              " [4500, 8372, 4865, 8249, 4810, 8072, 2546, 1229, 9718],\n",
              " [8075, 1050, 7887, 7592, 3738, 1595, 6202, 2308],\n",
              " [6159,\n",
              "  6092,\n",
              "  69,\n",
              "  8714,\n",
              "  3009,\n",
              "  2238,\n",
              "  3009,\n",
              "  569,\n",
              "  69,\n",
              "  4930,\n",
              "  8074,\n",
              "  1916,\n",
              "  7862,\n",
              "  1047,\n",
              "  4795],\n",
              " [8672, 6121, 9468, 310, 8504, 6079, 1399, 1595, 6202, 2308],\n",
              " [4928, 8672, 8678, 8193, 4309, 6503, 3485, 302, 5376],\n",
              " [1855, 172, 2803, 1595, 6118, 4930, 3638, 1595, 6202, 2308],\n",
              " [7977, 1008, 6918, 7382, 3019, 8723, 6324, 5376],\n",
              " [2251, 9115, 3001, 9113, 2718, 628, 1595, 6202, 2308],\n",
              " [447, 2124],\n",
              " [7789, 9548, 1266, 9215, 1981, 3851, 123, 1534, 4444, 1595, 6202, 2308],\n",
              " [4930, 4959, 5415, 119, 7774, 3577, 156, 1595, 6202, 2308],\n",
              " [4608, 4261, 7042, 5909, 8196, 2134, 6498, 9799, 354, 5376],\n",
              " [7452, 586, 6694, 3879, 7548, 4364, 3385, 6438, 8722, 8360, 7587],\n",
              " [7977, 4500, 8477, 1332, 5400, 2003, 3032, 4440, 8756, 5376],\n",
              " [9637, 5036, 3682, 9755, 9536, 5696, 9726, 7666],\n",
              " [252],\n",
              " [7470, 2774, 5184, 7238, 5684, 6878, 1919, 1595, 6202, 2308],\n",
              " [4930, 1748, 7048, 9397, 1834, 67, 1595, 6202, 2308],\n",
              " [4594, 2661, 3055, 7084, 3954],\n",
              " [7457,\n",
              "  3423,\n",
              "  1491,\n",
              "  4242,\n",
              "  2001,\n",
              "  6626,\n",
              "  2739,\n",
              "  6134,\n",
              "  6582,\n",
              "  4242,\n",
              "  2001,\n",
              "  6626,\n",
              "  2739],\n",
              " [6648, 6464, 9940, 2664, 9624, 1595, 6202, 2308],\n",
              " [4217, 8833, 4355, 9711, 4930, 1595, 2068, 2903, 1595, 6202, 2308],\n",
              " [6350, 6066, 815, 6694, 9711, 4930, 3407, 3506, 1595, 6202, 2308],\n",
              " [329, 4115, 2834, 9832, 2415, 5263, 1595, 6202, 2308],\n",
              " [5813, 4545, 1266, 6464, 5217, 8779, 2329],\n",
              " [5370, 9204, 1650, 1393, 4761, 3851],\n",
              " [5298, 5983, 2662, 9636, 2537, 6694, 453, 3572, 2308, 1595, 6202, 2308],\n",
              " [8107, 5627, 4220, 1285, 1595, 5152, 4444, 5376],\n",
              " [4930, 7769, 3827, 5879, 1173, 7834, 9414, 913, 7518, 1595, 6202, 2308],\n",
              " [298, 1115, 310, 7110, 4755, 5722, 6121, 3638, 8163, 7004, 4934, 6034, 5376],\n",
              " [7910, 2889, 1160, 3257, 9854, 5313, 1595, 6202, 2308],\n",
              " [1200, 981, 4701, 9726, 4669, 3039, 8784],\n",
              " [4473, 7548, 6511, 4261, 2183, 1595, 6202, 2308],\n",
              " [3297, 570, 6512, 2780, 8284, 8526, 5376],\n",
              " [8181, 2737, 9637],\n",
              " [2496, 8491, 8075, 2699, 5317, 6587, 9746, 2106, 5986],\n",
              " [3873, 2752, 8772, 7302, 4609, 2824, 5172, 1393, 1089, 8523, 3001],\n",
              " [8338, 1115, 4008, 8022, 660, 6902, 4930, 9536],\n",
              " [1088, 1628, 5916, 8292, 5862, 2183, 7355, 4930, 5737, 5376],\n",
              " [3738, 8230, 3351, 3034, 4930, 9328, 6387],\n",
              " [2697, 8200, 2352, 9916, 8577, 1136, 5376],\n",
              " [1391,\n",
              "  8698,\n",
              "  8464,\n",
              "  352,\n",
              "  5986,\n",
              "  6290,\n",
              "  9286,\n",
              "  1391,\n",
              "  8698,\n",
              "  4389,\n",
              "  9365,\n",
              "  5768,\n",
              "  5584,\n",
              "  146],\n",
              " [99, 5471, 6962, 3873],\n",
              " [6894, 6797, 909, 3732, 6142, 6293, 6270, 1595, 6202, 2308],\n",
              " [149, 8833, 5979, 4466, 1595, 6202, 2308],\n",
              " [3888, 3320, 9640, 2425, 2328, 3283, 1595, 6202, 2308],\n",
              " [8501, 7044, 2401, 2379, 2583, 7726, 6638, 2066, 8732, 9983],\n",
              " [6181, 1534, 4259, 9865, 9328, 9397, 1595, 6202, 2308],\n",
              " [958, 4930, 6099, 1079, 9637, 257, 2329, 806, 8861, 5376],\n",
              " [5866, 7309, 5729, 9328, 3359, 3834],\n",
              " [6701, 2041, 4500, 3506, 5737, 5906, 7371, 4930],\n",
              " [9983, 6219, 8295, 4930, 8319, 7396, 2228, 4780, 1595, 6202, 2308],\n",
              " [1130, 4545, 2837, 7135, 2310, 4635, 4830, 2113, 1595, 6202, 2308],\n",
              " [6917, 7510, 1393, 1595, 6202, 2308],\n",
              " [867, 4205, 2066, 6966, 277, 1595, 6202, 2308],\n",
              " [2308, 2329, 7310, 1595, 6202, 2308],\n",
              " [1266, 6626, 2352, 4112, 340, 6428, 3917, 4835, 8357, 1595, 6202, 2308],\n",
              " [2445, 5539, 4934, 4549, 8326, 447, 2003, 9597],\n",
              " [1671, 6954, 8230, 3133, 257, 1679, 7862, 3895],\n",
              " [237, 7268, 9709, 9464, 1976, 6327, 2998, 1595, 6202, 2308],\n",
              " [4930, 3328, 1688, 7562, 8753, 2352, 4370, 5878, 5376],\n",
              " [5734, 5223, 6351, 901, 3750, 9048],\n",
              " [6009, 4930, 156, 2329, 633, 9598, 4535, 1595, 6202, 2308],\n",
              " [6774, 7753, 6350, 474, 9057, 6478, 5774, 1699],\n",
              " [1974, 3915, 7718, 8195, 6218, 1595, 6202, 2308],\n",
              " [3820, 6897, 4739, 2697, 1810, 8571, 1595, 6202, 2308],\n",
              " [519, 7726, 8199, 4930, 8074, 6866, 9289],\n",
              " [8861, 3012, 6463, 4048, 1433, 5748, 8842, 1846, 1595, 6202, 2308],\n",
              " [4347, 5522, 4930, 1525, 697, 569, 1595, 6202, 2308],\n",
              " [9711, 4930, 5184, 9726, 5758, 6694],\n",
              " [6094, 4112, 8706, 6126, 2412, 8786, 6512, 8923, 1595, 6202, 2308],\n",
              " [9989, 7862, 2051, 8501, 4535, 8242, 6977],\n",
              " [2003, 1751, 5690, 1547, 9636, 1595, 6202, 2308],\n",
              " [4930, 1623, 7254, 3682, 6803, 1974, 1595, 6202, 2308],\n",
              " [1871, 1887, 4705, 6012, 3016, 4165, 7735, 4217],\n",
              " [1809, 257, 3954],\n",
              " [806, 8781, 8432, 4174, 9599, 6535, 8431, 1595, 6202, 2308],\n",
              " [2180, 1882, 4186, 5713, 1818, 7396, 1276, 5451, 8389, 6875, 6631, 5376],\n",
              " [9711, 4930, 15, 625, 83, 3233, 2264, 1984, 9716, 4742, 1595, 6202, 2308],\n",
              " [7523, 3012, 265, 913, 977, 1595, 6202, 2308],\n",
              " [1460, 8448, 3716, 586, 5522, 7738, 1595, 6202, 2308],\n",
              " [9711,\n",
              "  4930,\n",
              "  8795,\n",
              "  6626,\n",
              "  4520,\n",
              "  3873,\n",
              "  3195,\n",
              "  768,\n",
              "  3951,\n",
              "  4934,\n",
              "  850,\n",
              "  8477,\n",
              "  7601,\n",
              "  1595,\n",
              "  6202,\n",
              "  2308],\n",
              " [8827, 3821, 4930, 447, 5659, 6841, 1595, 6202, 2308],\n",
              " [6127, 1171, 7957, 6694, 3498, 5375],\n",
              " [4930, 2752, 7767],\n",
              " [2697, 5263, 9938, 2352, 9755, 4473, 5376],\n",
              " [5722,\n",
              "  3485,\n",
              "  1654,\n",
              "  4164,\n",
              "  6172,\n",
              "  4386,\n",
              "  7512,\n",
              "  4930,\n",
              "  8427,\n",
              "  7692,\n",
              "  6030,\n",
              "  8199,\n",
              "  8646],\n",
              " [9536, 9946, 4632, 6537, 6348, 4242, 325],\n",
              " [6181, 766, 1977, 4876, 3683, 8501],\n",
              " [241, 7663, 6381, 1352, 9121],\n",
              " [1052, 3390, 6239, 876, 9701, 8786, 8338, 3750, 9457, 8893, 1595, 6202, 2308],\n",
              " [9134, 3873, 3195, 553, 5376],\n",
              " [6633, 5262, 1751, 1476, 9038, 358, 8784, 4393, 7982],\n",
              " [7535, 9818, 8706, 6438, 5805, 9517, 2958, 6179],\n",
              " [5069, 4261, 3895, 809],\n",
              " [6391, 862, 5288, 7703, 6778, 4036, 7735, 9634],\n",
              " [7826, 4012, 7576, 5651],\n",
              " [595, 4500, 8779, 2752, 6852, 4256, 3397, 8738],\n",
              " [9460],\n",
              " [8930, 5867, 7044, 2308, 8579, 2327, 1595, 6202, 2308],\n",
              " [4930, 4819, 587, 6440, 9599, 3498],\n",
              " [8380, 8930, 3472, 6290, 2675, 1595, 6202, 2308],\n",
              " [5985, 3053, 7771, 1971, 6136, 8701, 4930, 2066],\n",
              " [2725, 981, 4701, 5036, 697, 4930, 9710],\n",
              " [1981, 2134, 8692, 5128, 4256, 4930, 6606, 5376],\n",
              " [9998, 4500, 882, 6788, 5154, 9366, 3813, 156, 1595, 6202, 2308],\n",
              " [6983, 2815, 5559],\n",
              " [5229, 9318, 1777, 5729, 6387, 1595, 6202, 2308],\n",
              " [6824, 540, 628, 4484, 6034, 6079, 9179, 9637, 5474, 5376],\n",
              " [6878, 9600, 6348, 4701, 776, 4527, 8226, 2889, 1595, 6202, 2308],\n",
              " [8779, 3873, 768, 8526, 2015, 110, 3895],\n",
              " [5765, 3879, 9893, 4695, 8469, 5696, 1370, 4830, 3246, 5490, 2003],\n",
              " [3873, 3983, 1393, 7702, 8254],\n",
              " [8408, 809, 4930, 8877, 1070, 8640, 6619, 1595, 6202, 2308],\n",
              " [6694, 6094, 6304, 1729, 3878, 1656, 1595, 6202, 2308],\n",
              " [4473, 4271, 1274, 6395, 7215, 6694],\n",
              " [9345, 9438, 6841, 1158, 7817, 6118, 3494, 1595, 6202, 2308],\n",
              " [5721, 8699, 1158, 5474, 8491, 2091, 2091],\n",
              " [3903, 5290, 8242, 991, 2382, 5729, 1595, 6202, 2308],\n",
              " [9530, 6808, 5194, 697, 9530, 1229, 5062, 5522],\n",
              " [5865, 7748, 4449, 8195, 2186, 8476, 3930, 7601, 2537, 1656],\n",
              " [1393, 6883, 9665, 438, 8993, 1554, 5376],\n",
              " [4989, 246, 6741, 4085, 7044, 201, 4444, 734, 1595, 6202, 2308],\n",
              " [6463, 7982, 3317, 4688, 7548, 7932],\n",
              " [5657, 2621, 3810, 7133, 3480, 5481, 8360, 6459, 1588, 7982, 5376],\n",
              " [9710, 4627, 3091, 8529, 4695, 9935, 7055, 3323],\n",
              " [9726, 1004, 3053, 9289, 7687],\n",
              " [4930, 3733, 3461, 9640, 9536, 6458, 8779, 913, 2326, 1595, 6202, 2308],\n",
              " [9933, 6172, 593, 4930, 2637, 9235, 9726, 7687, 5376],\n",
              " [376, 5423, 6694, 4930],\n",
              " [7311, 6023, 257, 8861, 2700, 1044, 8292],\n",
              " [4789, 4840, 6292, 4317, 5352, 7665, 8327, 850, 1974],\n",
              " [7489, 3053, 4635, 2329, 4930, 1543],\n",
              " [8779,\n",
              "  7196,\n",
              "  9711,\n",
              "  4930,\n",
              "  8070,\n",
              "  5085,\n",
              "  2951,\n",
              "  3191,\n",
              "  5162,\n",
              "  8261,\n",
              "  1595,\n",
              "  6202,\n",
              "  2308],\n",
              " [2003, 4919, 1588, 8753, 1421, 2161, 7567, 5857, 1274, 71, 1595, 6202, 2308],\n",
              " [7138, 7649, 9966, 553, 553, 553, 1595, 6202, 2308],\n",
              " [8330, 8735, 6012, 8576, 8753, 8672, 1971, 7157],\n",
              " [3873, 932, 8072, 5821, 3873, 977, 1570, 9414, 5093],\n",
              " [7306, 8242, 485, 8226, 2675, 1595, 6202, 2308],\n",
              " [6350, 6788, 2268, 9254, 1266, 6416, 3167, 8982, 1595, 6202, 2308],\n",
              " [4930, 6395, 5779, 251, 1266, 8248, 8722, 8698, 3782, 4735, 3835, 1395, 5376],\n",
              " [994, 1520, 8282, 8756, 743, 3343],\n",
              " [7726, 2990, 1042, 1984, 4701, 3873, 124, 4256],\n",
              " [7717, 8586, 8355, 7982, 5573, 1595, 6202, 2308],\n",
              " [7599, 4389, 6883, 9286, 2641, 8389, 4930, 5916, 5376],\n",
              " [1349, 285, 2134, 6902, 8113, 1759, 3116, 4930, 1595, 6202, 2308],\n",
              " [6825, 8341, 5729, 312, 8277, 1595, 6202, 2308],\n",
              " [6883, 7621, 3195, 8254, 6725, 5471, 5714, 4525, 1595, 6202, 2308],\n",
              " [7213, 9185, 1266, 2238, 2613, 352, 521, 8282, 3755, 5162, 4103, 7604],\n",
              " [3521, 2928, 7448, 5687, 5058, 3777, 7241, 1595, 6202, 2308],\n",
              " [3053, 7834, 6094, 7908, 5364, 9640],\n",
              " [1588, 8284, 8777, 3396, 6918, 5341],\n",
              " [2817,\n",
              "  5848,\n",
              "  1595,\n",
              "  6202,\n",
              "  2308,\n",
              "  9536,\n",
              "  4012,\n",
              "  3485,\n",
              "  8428,\n",
              "  2306,\n",
              "  6587,\n",
              "  4491,\n",
              "  5347,\n",
              "  1595,\n",
              "  6202,\n",
              "  2308],\n",
              " [3609, 4945, 3008, 5036, 3195, 6726, 9711, 4930, 2066, 5376],\n",
              " [3579, 901, 8779, 3120, 3381, 1593, 7676, 976, 6441, 3053, 5376],\n",
              " [867, 4932, 4241, 5985, 1595, 6202, 2308],\n",
              " [4564, 298, 2401, 1158, 6883, 3116, 4840],\n",
              " [7548,\n",
              "  3657,\n",
              "  5375,\n",
              "  7237,\n",
              "  3354,\n",
              "  576,\n",
              "  3599,\n",
              "  510,\n",
              "  4701,\n",
              "  2496,\n",
              "  8684,\n",
              "  5199,\n",
              "  1971,\n",
              "  3323],\n",
              " [3053, 6040, 6126, 6387, 4619, 1834, 6094, 587, 1595, 6202, 2308],\n",
              " [6877, 6852, 7369, 7792, 4930, 7044, 1171, 3738, 6732, 2382, 5376],\n",
              " [8886, 3718, 5522, 6694, 2329, 3637, 6381, 5376],\n",
              " [1130, 4554, 5938, 1476, 921, 4854, 9366, 8527],\n",
              " [4773, 4547, 9286, 2413, 2077, 1106, 4832],\n",
              " [8493, 9563, 9592, 3873, 977, 3317, 8195, 3317, 149],\n",
              " [5159, 2161, 4563, 340, 1595, 8201, 3718, 1595, 6202, 2308],\n",
              " [4012, 8072, 4608, 848, 2434, 8372, 4865, 4810, 6312],\n",
              " [913, 977, 5474, 2856, 9414, 148, 3851, 5376],\n",
              " [4556, 6883, 2841, 3012, 5713, 4370, 5305, 3851, 5376],\n",
              " [2846, 4744, 8293, 4346, 2589, 6464, 6324, 4742, 1455, 9718],\n",
              " [3195, 2752, 3191, 6350, 1654, 9235, 8142, 8355, 1592, 5567, 5803, 4276],\n",
              " [8779, 6626, 7373, 3257, 6290, 4930, 1595, 6202, 2308],\n",
              " [2418, 7862, 9720, 390, 7887, 7268, 258, 1595, 6202, 2308],\n",
              " [5125, 6290, 6118, 8527, 2134, 7063, 1115, 7004, 6833],\n",
              " [5773, 6832, 9478, 5655, 8196],\n",
              " [7493, 4930, 5406, 8255, 340, 9356, 148, 5376],\n",
              " [1592, 4033, 2308, 9640, 1595, 6202, 2308],\n",
              " [8723, 3485, 6808, 1229, 1588, 5321, 2008, 6851, 5172, 6300, 8181],\n",
              " [3682, 2629, 5173, 7048, 4383, 9438, 6841, 1595, 6202, 2308],\n",
              " [9704, 1129, 3651, 776, 2725, 1200, 5376],\n",
              " [6684, 6516, 7802, 4549, 4930, 9037, 5376],\n",
              " [4930, 8074, 4066, 4317],\n",
              " [2124, 9726, 7727, 6849, 5985, 1595, 6202, 2308],\n",
              " [8779, 331, 4256, 2521, 7940, 139, 587, 9651, 2615, 1595, 6202, 2308],\n",
              " [1595, 7382, 8699, 1456, 2946, 7153, 2412, 1047, 6134, 1595, 6202, 2308],\n",
              " [6632, 570, 3718, 2003, 4390, 4549, 7452, 8118, 5376],\n",
              " [5758, 5482, 6595, 4535, 1720, 8094],\n",
              " [1455, 4261, 1595, 6202, 2308],\n",
              " [6897, 2376, 8779, 1482, 8024, 502, 1403, 5316],\n",
              " [629, 2149, 1455, 1255, 6818, 7280, 9068, 4514, 5159, 5376],\n",
              " [1368, 7792, 7929, 1200, 1595, 6202, 2308],\n",
              " [5916, 6852, 142, 4930, 2161, 628, 2496, 5375, 1061, 875, 9818, 6725, 5376],\n",
              " [2264, 4152, 8513, 123, 4152, 1083, 6733, 4152],\n",
              " [2958, 5734, 1229, 943, 1834, 1294, 4945, 1595, 6202, 2308],\n",
              " [2421, 3832, 4137, 6813, 7727, 5223],\n",
              " [4269, 6626, 2306, 8230, 9215, 8692, 5656, 321, 6121],\n",
              " [2904, 4012, 7576, 5651],\n",
              " [4930, 2066, 3857, 9640, 616, 8823, 6118, 5376],\n",
              " [4930, 7128, 5779, 9121, 112, 4549, 7452, 4949, 1595, 6202, 2308],\n",
              " [3803, 6093, 2589, 6464, 6877, 6503, 3485, 5376],\n",
              " [6628, 1721, 4759, 9732, 8031, 7804, 1200],\n",
              " [8779, 3873, 3195, 3120, 7396, 3865, 4892, 7548],\n",
              " [1172, 2637],\n",
              " [1071, 9986, 5313, 9536, 7095, 4242, 5078],\n",
              " [2181, 139, 2329, 7677, 3935, 1332, 628, 1595, 6202, 2308],\n",
              " [6092, 6265, 4444, 2183, 743, 3550, 3343, 1595, 6202, 2308],\n",
              " [6287, 1333, 8192, 4930, 3638, 1578, 5120, 8023, 4001, 3228],\n",
              " [9406, 5602, 8722, 5909, 6694, 3071, 5625, 8722, 9672, 8284],\n",
              " [3984, 527, 5452, 2618, 4787, 5093, 9636, 1595, 6202, 2308],\n",
              " [9530, 5056, 5177, 9592, 5714, 7548, 8070, 5950, 6214, 487, 257, 9593],\n",
              " [1759],\n",
              " [943, 2496, 9352, 9592, 453, 6928, 3895, 7452, 1395, 5376],\n",
              " [3304,\n",
              "  516,\n",
              "  3019,\n",
              "  702,\n",
              "  5999,\n",
              "  6962,\n",
              "  5175,\n",
              "  257,\n",
              "  4036,\n",
              "  9071,\n",
              "  1433,\n",
              "  1595,\n",
              "  4097,\n",
              "  3968],\n",
              " [943, 2496, 2158, 434, 3846, 2261, 3669, 3895, 7106, 8192],\n",
              " [9634, 5317, 571, 340, 1000, 9156, 2284, 8807, 8784],\n",
              " [806, 7844, 4549, 2134, 6381, 4938],\n",
              " [1595, 648, 7518, 5415, 7044, 2707, 6514, 1721],\n",
              " [6682, 9832, 4244, 1497, 7034, 7973, 9286, 3771, 2209, 5376],\n",
              " [8172, 356, 69, 6615],\n",
              " [9671, 5782, 811, 205, 6483, 4932, 2769, 1595, 6202, 2308],\n",
              " [6080, 1520, 1896, 793, 7162, 4778, 7993, 1595, 6202, 2308],\n",
              " [8705, 7172, 3954, 8457, 7663, 3803],\n",
              " [1200, 1595, 6202, 2308],\n",
              " [6094, 9286, 9493, 8598, 1403, 9037],\n",
              " [6824, 540, 5354, 1530, 7294, 8114, 4588, 2783, 5159, 5937, 8379],\n",
              " [8976, 7671, 156, 3835, 1266, 1947, 7748],\n",
              " [8694, 7867, 9113, 5651, 3922, 1595, 6202, 2308],\n",
              " [3873, 3195, 1191, 994, 4442, 5858, 7702, 9164, 9665],\n",
              " [5069, 4681, 1666, 4048, 6535, 6099, 1595, 6202, 2308],\n",
              " [7260, 3354, 7274, 256, 1604],\n",
              " [2329, 5207, 2376, 257, 4391, 96, 8861],\n",
              " [4525, 1850, 4242, 5701, 2591, 2973, 9937, 658, 9292, 1595, 6202, 2308],\n",
              " [257, 379, 7070, 9713, 3895, 9560, 5625, 6911],\n",
              " [1800, 9927, 7322, 2361, 9731, 9038, 1200, 1595, 6202, 2308],\n",
              " [5764, 7337, 6610, 4547, 2376, 5696, 4261, 7337, 9235, 5376],\n",
              " [4217, 4376, 8880, 3213, 3498, 1079, 449, 9277, 2398, 2255],\n",
              " [2937, 2127, 4652, 8779, 4930, 768, 3138, 3274, 4542],\n",
              " [6292, 2769, 6298, 8309, 3354, 317, 9196, 4901, 1595, 6202, 2308],\n",
              " [7548, 4258, 4157, 5162, 2201, 9816, 4892, 1656],\n",
              " [9036, 4451, 2863, 8195, 1266, 7343, 5376],\n",
              " [5867, 1158, 4498, 1595, 6202, 2308],\n",
              " [2635, 7294, 2440, 7157, 793, 2970, 6790, 5376],\n",
              " [2817, 5813, 9654, 1595, 6202, 2308],\n",
              " [257, 5585, 3718, 5207, 5056, 1089, 8861, 8501, 3354, 2134, 5765, 6740],\n",
              " [1595, 3195, 8254, 981, 2057, 6300, 3213, 5858, 7702],\n",
              " [9988, 4468, 3718, 1004, 8322, 5255, 7044, 6395, 1595, 6202, 2308],\n",
              " [1547, 1656, 1595, 6202, 2308],\n",
              " [3422, 2707, 6683, 8535, 1595, 6202, 2308],\n",
              " [4216, 8779, 9749, 8795, 5093, 9235, 5376],\n",
              " [2827, 4701, 7104, 6625, 1765, 1595, 1152, 587, 1595, 6202, 2308],\n",
              " [8242, 6381, 9113, 1200, 1595, 6202, 2308],\n",
              " [7621, 6067, 2589, 2418, 7733, 1595, 6202, 2308],\n",
              " [6159, 6130, 4930, 2122, 9971, 9608, 1595, 6202, 2308],\n",
              " [6930,\n",
              "  4830,\n",
              "  4214,\n",
              "  5255,\n",
              "  9328,\n",
              "  4934,\n",
              "  6094,\n",
              "  9818,\n",
              "  648,\n",
              "  2819,\n",
              "  5799,\n",
              "  6513,\n",
              "  6546,\n",
              "  8401],\n",
              " [6694, 994, 7510, 8711, 7748, 7443, 1171, 5376],\n",
              " [854, 4683, 5656, 6513, 6518, 9074, 2370, 1595, 6202, 2308],\n",
              " [994, 1520, 986, 7390, 9203, 8706],\n",
              " [8355, 1592, 8461, 1654, 8254, 516, 8469, 408, 3713],\n",
              " [9711, 4930, 6668, 4609, 1276, 8422, 6694, 9605, 586, 1595, 6202, 2308],\n",
              " [2088, 7048, 949, 6910, 1424, 257, 6121, 6348, 3888, 7319],\n",
              " [6387, 8807, 919, 933, 5058, 5016, 3738],\n",
              " [6094, 8923, 6459, 661, 3605, 7084, 4491, 5317, 2815, 5729, 8787, 5376],\n",
              " [6397, 8372, 4865, 5255, 6289, 147, 9898, 3139],\n",
              " [3397, 8070, 5950, 1069, 6744, 9593, 4903, 586, 2661, 5022],\n",
              " [3873, 9471, 9711, 4930, 2329, 942, 9665],\n",
              " [866, 4930, 302, 3601, 4832, 438, 8504, 4973, 4930, 5376],\n",
              " [4437, 1623, 5989, 9038, 9629, 1631, 5610, 2063, 149, 1595, 6202, 2308],\n",
              " [4930, 1984, 8862, 2543, 6292, 6797, 2790, 6944, 4069, 1595, 6202, 2308],\n",
              " [9711, 4930, 3400, 3608, 686, 2717, 4242, 4103, 5802, 2005],\n",
              " [5504, 4963, 4852, 6714, 3385, 7751],\n",
              " [8861, 1266, 6808, 9716, 6592, 9137, 4609, 2018, 1008],\n",
              " [7452, 6812, 8409, 5522, 8237, 4066],\n",
              " [4643, 1158, 5646, 8192, 3012, 9983, 1595, 6202, 2308],\n",
              " [8756, 2376, 8203, 8753, 9133, 2161, 4332, 3956, 6464],\n",
              " [5764, 8327, 5237, 8779, 1882, 3895, 6911, 5522],\n",
              " [9318, 2967, 6942, 7391, 5305, 9786, 1595, 6202, 2308],\n",
              " [2063, 6428, 3835, 1044, 1996, 6513, 7044, 8477, 5425],\n",
              " [3205,\n",
              "  2222,\n",
              "  7809,\n",
              "  9414,\n",
              "  5199,\n",
              "  4592,\n",
              "  6983,\n",
              "  8982,\n",
              "  3873,\n",
              "  3195,\n",
              "  1604,\n",
              "  1377,\n",
              "  3954],\n",
              " [7396, 9215, 2376, 8833, 6694, 8195, 390, 1595, 6202, 2308],\n",
              " [8840, 2376, 8237, 9726, 3195, 8985],\n",
              " [4930, 1984, 5975, 3224, 5657, 8686, 4819, 1595, 6202, 2308],\n",
              " [2973, 3942],\n",
              " [4930, 369, 1369, 7268, 3419, 1588, 3716, 4945, 1409, 2161, 1780, 4784, 9710],\n",
              " [6512, 7605, 6094, 6387, 5490],\n",
              " [3738, 7487, 6810, 8457, 9710],\n",
              " [9113, 114, 3895, 7461, 2496, 3670, 8418],\n",
              " [6930,\n",
              "  3189,\n",
              "  3027,\n",
              "  7079,\n",
              "  7981,\n",
              "  3053,\n",
              "  8817,\n",
              "  3865,\n",
              "  7525,\n",
              "  3189,\n",
              "  3027,\n",
              "  7079,\n",
              "  7981,\n",
              "  3053,\n",
              "  8817,\n",
              "  3865,\n",
              "  7525,\n",
              "  1595,\n",
              "  6849,\n",
              "  3803],\n",
              " [7088, 3354, 5135, 4317, 3534],\n",
              " [6177, 8330, 743, 7171, 2070, 9718],\n",
              " [943, 806, 8833, 8168, 7971, 1280, 4370, 6851, 1656, 809, 5364, 3954],\n",
              " [6626, 4205, 9711, 4930, 5363, 8158, 1171, 6413, 1595, 6202, 2308],\n",
              " [6877, 4114, 2305, 729, 587, 6954, 6434, 7586, 3294, 6290, 362, 5376],\n",
              " [9978, 994, 9800, 2434, 5729],\n",
              " [5451,\n",
              "  4391,\n",
              "  8779,\n",
              "  8735,\n",
              "  1171,\n",
              "  8779,\n",
              "  2003,\n",
              "  2229,\n",
              "  8105,\n",
              "  8777,\n",
              "  472,\n",
              "  6842,\n",
              "  4888,\n",
              "  390,\n",
              "  9469,\n",
              "  9710],\n",
              " [9423, 9657, 8261, 3397],\n",
              " [7153, 6118, 3390, 3195, 9137, 586, 4701],\n",
              " [4930, 4473, 1808, 8023, 1595, 4097, 3968],\n",
              " [3577, 6078, 388, 156, 3195, 4930, 5085, 5598, 1595, 6202, 2308],\n",
              " [3521, 8181, 9726, 7677, 3863, 7169, 8576, 1595, 6202, 2308],\n",
              " [7044, 3580, 3740, 8813, 4092, 3053, 170, 6300, 8843, 6619],\n",
              " [2998, 8842, 2815, 8024, 502, 1403, 9037],\n",
              " [2221, 4164, 5022, 1404, 1370, 4332, 3407, 6292, 8024],\n",
              " [8163, 2445, 2238, 1197, 2155, 9037, 3770, 9286, 6395, 3178, 5376],\n",
              " [2991, 6535, 2826, 9937, 3584, 9637],\n",
              " [9631, 2252, 1366, 5602, 5774, 3498, 8684],\n",
              " [2725, 362, 6659, 5877, 6126, 1415, 3663, 9022],\n",
              " [3444, 4930, 5737, 2746, 7204, 1595, 6202, 2308],\n",
              " [9989,\n",
              "  4261,\n",
              "  2014,\n",
              "  5863,\n",
              "  8722,\n",
              "  5162,\n",
              "  5335,\n",
              "  2264,\n",
              "  9674,\n",
              "  3273,\n",
              "  8448,\n",
              "  4012,\n",
              "  8092],\n",
              " [4775, 4386, 7391, 4930, 9121, 7535, 8201, 6663],\n",
              " [5207, 5696, 4930, 4481, 8389, 3241, 5477, 1997, 9790],\n",
              " [6705, 2917, 5594, 9397, 7340, 6911, 5324, 6874, 6214, 1595, 6202, 2308],\n",
              " [7522, 4705, 6035, 6290, 2066, 5033, 7153, 6731, 7886, 1595, 6202, 2308],\n",
              " [994, 1520, 3927, 7436, 7523, 5657, 3697, 8024, 3577, 5347],\n",
              " [4500,\n",
              "  4391,\n",
              "  3608,\n",
              "  1050,\n",
              "  3498,\n",
              "  835,\n",
              "  4165,\n",
              "  6728,\n",
              "  1916,\n",
              "  9885,\n",
              "  4930,\n",
              "  4165,\n",
              "  7735,\n",
              "  5376],\n",
              " [9918, 7787, 1280, 8735, 8469, 5737],\n",
              " [5950, 1595, 6202, 6094, 4903, 9290, 8201, 3718, 1595, 6202, 2308],\n",
              " [4930, 8168, 2008, 8047, 7358, 8875, 1595, 9710, 6937, 6094, 1650],\n",
              " [4449, 507, 3, 5613, 5183, 3571, 2881, 6387, 1595, 6202, 2308],\n",
              " [6270, 4930, 8326, 5207, 587, 1656, 7044, 4670, 3393, 5376],\n",
              " [1018, 5207, 3182, 8327, 8293, 9786, 5687, 8501, 1893, 1018, 5207],\n",
              " [1981, 4838, 3803, 5936, 4903, 1536, 7204, 5376],\n",
              " [1656, 4731, 5774, 4165],\n",
              " [415,\n",
              "  8722,\n",
              "  4118,\n",
              "  1751,\n",
              "  2063,\n",
              "  8999,\n",
              "  9365,\n",
              "  3137,\n",
              "  3879,\n",
              "  7245,\n",
              "  2018,\n",
              "  4839,\n",
              "  2329,\n",
              "  587,\n",
              "  5376],\n",
              " [2628, 1563, 1654, 9710, 2837, 3850, 7744, 1595, 6202, 2308],\n",
              " [1174, 3241, 4627, 6017, 1274, 3651, 277, 2796, 8483],\n",
              " [1654, 2530, 8477, 1005, 8254],\n",
              " [8047, 2255, 1349, 8300, 8842, 5651],\n",
              " [6159, 6092, 69, 6159, 3846, 7848, 3873, 4413, 4930, 69, 9536],\n",
              " [8282, 927, 3133, 5458, 3935, 8201, 2030, 312, 6808, 9710],\n",
              " [3873, 3195, 2003, 3481, 2123, 8891, 3481, 2429, 8072, 1595, 6202, 2308],\n",
              " [257, 2796, 6874, 6416, 1004, 5159, 4901, 1803],\n",
              " [147, 8784, 8838, 6003, 1756, 7153, 7204, 3954, 1171, 5975],\n",
              " [9671, 9893, 4701, 9654, 5184, 8032, 5033, 7548, 9216, 6822, 5610, 5376],\n",
              " [3381, 1593, 2412, 329, 8786, 8168, 1595, 6202, 2308],\n",
              " [3317, 4930, 3053, 7162, 3323, 9449],\n",
              " [5474, 3195, 8257, 340, 1020, 3873, 7519],\n",
              " [8861,\n",
              "  4382,\n",
              "  172,\n",
              "  6028,\n",
              "  608,\n",
              "  5793,\n",
              "  4205,\n",
              "  2909,\n",
              "  6537,\n",
              "  2807,\n",
              "  3657,\n",
              "  6085,\n",
              "  1791,\n",
              "  5863,\n",
              "  9931],\n",
              " [1159, 277, 2469, 5867, 9749, 616, 7502, 1595, 6202, 2308],\n",
              " [6694, 4930, 4959, 8950, 6221, 3584, 8477, 8457, 5376],\n",
              " [5474, 3195, 6346, 2589, 9071, 901, 9726, 8356, 8637, 8779, 994],\n",
              " [3171, 4615, 6881, 1280, 1137, 8469, 6883, 4759, 1352],\n",
              " [2179, 4930, 2123, 1171],\n",
              " [415, 7340, 7293, 2509, 3917, 3430, 2134, 3401, 1595, 6202, 2308],\n",
              " [71, 9311, 1230, 5146, 5529, 1174, 555, 8692, 1595, 6202, 2308],\n",
              " [2881, 2352, 3001, 9803, 9746, 2142, 5376],\n",
              " [3430, 202, 5184, 7452, 1650, 8032, 8261, 1751, 1595, 6202, 2308],\n",
              " [5797, 4921, 4930, 8168, 2074, 8919, 8541, 1328, 8924],\n",
              " [4549, 8023, 4930, 6812, 7878, 7973, 2612, 9671, 9893, 1460],\n",
              " [4661, 8795, 860, 588],\n",
              " [4930, 4304, 5539, 6179, 6503, 3803, 3498, 5321, 5376],\n",
              " [4449, 507, 301, 6463, 3001, 1272, 5028, 3580, 1595, 6202, 2308],\n",
              " [2560, 4964, 5241, 4973, 6714, 6833, 1595, 6202, 2308],\n",
              " [4942, 4391, 8735, 6413, 8745, 4437, 1595, 6202, 2308],\n",
              " [1158, 8326, 7250, 7887, 4702, 7600, 5722, 1266, 5172, 1595, 6202, 2308],\n",
              " [3053, 7751, 3317, 860, 8706, 5734, 977, 7295, 1595, 6202, 2308],\n",
              " [5782, 4304, 1950, 4878, 8605, 8861, 5559, 1276, 1595, 6202, 2308],\n",
              " [8196, 2445, 8846, 1892, 1855, 4984, 7443, 9726, 5556],\n",
              " [9711, 4930, 8779, 8929, 7045, 6841, 1595, 6202, 2308],\n",
              " [],\n",
              " [5877, 7767, 9726, 7687, 2807, 3713],\n",
              " [9609, 1625, 5532, 2783, 2421, 202, 8461, 7011, 8237],\n",
              " [2998, 3951, 8477, 1595, 994],\n",
              " [6930, 6094, 7787, 8092, 2787, 3873, 8284, 4938, 1192],\n",
              " [2221, 4164, 2919, 6832, 1213, 9671, 9893, 3873, 3195],\n",
              " [4930, 8585, 6818, 4742, 586, 1595, 6202, 2308],\n",
              " [8733, 9702, 1520, 1765, 4930, 3954, 8477, 5284, 2496],\n",
              " [5458, 7128, 5657, 8692, 913, 1236, 2229, 1595, 6202, 2308],\n",
              " [5740, 2264, 6812, 553, 5451, 5376],\n",
              " [3498, 5375, 7063, 4165, 8195],\n",
              " [1952, 1950, 5415, 9572, 6917, 1952, 7048, 6221, 8828, 5363, 6253, 1229, 527],\n",
              " [9998, 4876, 5316, 1595, 6202, 2308],\n",
              " [553, 1044, 2405, 8529, 1595, 6202, 2308],\n",
              " [9536,\n",
              "  2603,\n",
              "  5609,\n",
              "  4242,\n",
              "  4296,\n",
              "  9199,\n",
              "  4336,\n",
              "  6134,\n",
              "  7606,\n",
              "  9573,\n",
              "  2907,\n",
              "  7245,\n",
              "  3483,\n",
              "  4242,\n",
              "  7661,\n",
              "  5691,\n",
              "  4103,\n",
              "  8383],\n",
              " [5916, 9536, 1557, 6627, 6118, 8753, 3676, 5173, 3824, 6007, 5376],\n",
              " [3753, 1675, 9381, 1834, 67, 8806, 8931, 5376],\n",
              " [156, 8861, 5705, 626, 445, 3409, 3751, 7456, 8242, 4830, 3246],\n",
              " [9299,\n",
              "  2702,\n",
              "  5551,\n",
              "  5176,\n",
              "  6059,\n",
              "  7274,\n",
              "  9216,\n",
              "  5713,\n",
              "  2748,\n",
              "  8259,\n",
              "  2222,\n",
              "  4444,\n",
              "  5376],\n",
              " [6200, 3562, 7157, 602, 9414, 9395, 5848, 8326, 2908],\n",
              " [4579, 4137, 172, 604, 8976, 8628, 1266, 6290, 4945, 9661, 7687, 5376],\n",
              " [6587, 2626, 8264, 8501, 4261, 7100],\n",
              " [840, 6400, 856, 7322, 3738, 7838, 253, 124, 5713, 5376],\n",
              " [2883, 5359, 7687, 7970, 586, 6983, 2420],\n",
              " [354, 99, 8501, 9328, 1595, 6202, 2308],\n",
              " [2661, 9711, 4930, 6866, 6031, 3587, 6841, 1595, 6202, 2308],\n",
              " [4242, 3873],\n",
              " [753, 850, 8168, 2238, 3455, 1595, 6202, 2308],\n",
              " [6930, 5702, 7510, 5554, 9011],\n",
              " [7088, 3195, 4332, 6619],\n",
              " [4449, 8279, 9654, 4473, 4701, 4930, 1595, 6202, 2308],\n",
              " [3733, 172, 994, 1520, 8846, 2382, 1595, 6202, 2308],\n",
              " [3873, 3195, 8196, 1916, 5363, 1595, 6202, 2308],\n",
              " [9720, 9743, 226, 4299, 2815, 7296, 7417],\n",
              " [4930, 6732, 4484, 1665, 8880],\n",
              " [3873, 5070, 7866, 8181, 7186, 9328, 4780, 7849, 5934],\n",
              " [4665, 1409, 2815, 3638, 626, 1595, 6202, 2308],\n",
              " [5422, 1047, 7528, 8377, 9880, 1595, 6202, 2308],\n",
              " [4930, 9718, 6630, 3, 2196, 8245, 1595, 6202, 2308],\n",
              " [3521, 7607, 3414, 3770, 3032, 6875, 6320, 6429, 1595, 6202, 2308],\n",
              " [3059, 6669, 6292, 6797, 8735, 7443, 6040, 3019, 7044, 1595, 6202, 2308],\n",
              " [539, 4930, 9249, 5177, 8504, 9064, 7862, 5376],\n",
              " [625, 1393, 3195, 8254, 3001, 6304, 2286, 6175, 7676, 4930, 1279],\n",
              " [9292, 901, 6030, 5173, 4220],\n",
              " [3682, 4429, 5417, 7518, 2445, 3012, 7518, 8491, 5698, 5376],\n",
              " [7766, 586, 7927, 9352, 8092, 3954, 304, 7671, 1635],\n",
              " [8975, 6874, 3716, 2917, 3895, 1564, 1868],\n",
              " [6786, 8261, 4701, 2420, 938, 9369, 3775, 1595, 6202, 2308],\n",
              " [5508, 7436, 5677, 1266, 7379, 3954],\n",
              " [4930, 2463, 7027, 5093, 6694, 994, 4442, 3012, 9726],\n",
              " [6066, 4930, 3718, 6324, 6030, 9328, 2382, 5376],\n",
              " [1823, 1171, 6694, 7343, 7687, 7106, 8192, 1656, 8195, 9711, 4930],\n",
              " [8982, 6918, 3954],\n",
              " [],\n",
              " [2998, 8842, 2815, 3317, 8024, 502, 1403, 9037],\n",
              " [9983, 8975, 9457, 8893, 1892, 1971, 1981, 9352],\n",
              " [4720, 4440, 5978, 3357, 182, 201, 8733, 7982, 2641],\n",
              " [5415, 8032, 3873, 3195, 5471],\n",
              " [9918, 9800, 850, 835, 2924, 4901],\n",
              " [3954, 7751, 3501, 1595, 5316],\n",
              " [3873, 9215, 4652, 8779, 7268],\n",
              " [7323,\n",
              "  6427,\n",
              "  5646,\n",
              "  7523,\n",
              "  5538,\n",
              "  4449,\n",
              "  8092,\n",
              "  3430,\n",
              "  6300,\n",
              "  8795,\n",
              "  2209,\n",
              "  1595,\n",
              "  6202,\n",
              "  2308],\n",
              " [6930,\n",
              "  1543,\n",
              "  9082,\n",
              "  9814,\n",
              "  9521,\n",
              "  6017,\n",
              "  1543,\n",
              "  9082,\n",
              "  9814,\n",
              "  9521,\n",
              "  6017,\n",
              "  6404,\n",
              "  3320,\n",
              "  4910],\n",
              " [9711, 4930, 5522, 860, 9164, 3587, 6841, 1595, 6202, 2308],\n",
              " [5081, 5857, 4652, 8779, 5335, 3873, 697, 5973, 1349],\n",
              " [4304,\n",
              "  3116,\n",
              "  340,\n",
              "  7311,\n",
              "  3694,\n",
              "  7169,\n",
              "  3137,\n",
              "  8555,\n",
              "  1900,\n",
              "  8605,\n",
              "  340,\n",
              "  913,\n",
              "  977,\n",
              "  206,\n",
              "  5376],\n",
              " [8786,\n",
              "  660,\n",
              "  9352,\n",
              "  7157,\n",
              "  182,\n",
              "  3810,\n",
              "  2538,\n",
              "  4426,\n",
              "  767,\n",
              "  2467,\n",
              "  9592,\n",
              "  1250,\n",
              "  7135,\n",
              "  5376],\n",
              " [5662, 5866, 4892, 3638, 7239],\n",
              " [2793, 1774, 4830, 1076, 2694, 5058, 1595, 6202, 2308],\n",
              " [8195, 6619, 691, 7562, 7084, 3954],\n",
              " [9980, 2634, 9726, 3694, 24, 1595, 953, 5162, 4528, 5975, 4226, 8255],\n",
              " [4930, 5207, 697, 5159],\n",
              " [1780, 6118, 5439, 4446, 7015, 901, 6542, 6546],\n",
              " [3167, 8813, 9593, 847, 3430, 7724, 5594, 1595, 6202, 2308],\n",
              " [9665, 4832, 3832, 4903, 7548, 4036, 4356, 9710],\n",
              " [8705, 586, 8705, 7272, 99, 5194],\n",
              " [4989, 4342, 4500, 8640, 3485, 8501, 3354, 1048, 1200, 1595, 6202, 2308],\n",
              " [6894, 3295, 6094, 6387, 2958, 3053, 6395, 3777, 8931, 1595, 6202, 2308],\n",
              " [7078, 2796, 7659, 1656, 8264, 2134, 5430, 8982],\n",
              " [8975, 5844, 6094, 6798, 2934, 3506, 7720, 4220, 1595, 6202, 2308],\n",
              " [5085, 4370, 3483, 4830, 3246],\n",
              " [8762, 859, 1520, 2068, 7214, 2077, 5364, 994, 5241, 1595, 6202, 2308],\n",
              " [8708, 4107, 7034, 5860, 2589, 206, 587, 4688, 7326],\n",
              " [3498, 5375, 7337, 8338, 6206, 5284, 4930],\n",
              " [8184, 3694, 9755, 9711, 4930, 8698, 7296, 8931],\n",
              " [5376, 3485, 4012, 8427, 7692, 5376],\n",
              " [4930, 3803, 1754, 4099],\n",
              " [943, 5020, 2157, 587, 1562, 2798, 6244, 3166, 9710, 5376],\n",
              " [4535, 4048, 8698, 1349, 8300, 388, 4930, 1595, 6202, 2308],\n",
              " [6833, 3297, 1892, 3323, 1607, 7687, 1339, 1409, 1595, 6202, 2308],\n",
              " [5103, 7880, 1200, 5972, 2475, 3409, 1595, 6202, 2308],\n",
              " [7292, 3824, 9121, 5415, 3803, 4473, 4930, 5376],\n",
              " [2924, 8022, 8356, 3751, 7177, 8813, 8022, 660, 8195],\n",
              " [6438, 7726, 7607, 6382, 2134, 6989],\n",
              " [2870, 1595, 5868, 1171],\n",
              " [4883, 2313, 587, 5275, 9113, 6954],\n",
              " [3521, 8347, 7011, 5128, 8833, 222, 3781, 4701, 4930, 1595, 6202, 2308],\n",
              " [850, 8504],\n",
              " [2134, 3386, 9680],\n",
              " [4930, 1158, 8316, 4535, 8555],\n",
              " [7982, 8812, 6770, 4112, 616, 962, 793, 6798, 1595, 6202, 2308],\n",
              " [5672, 7153, 4473, 1595, 6202, 6875, 1070, 1595, 6202, 2308],\n",
              " [3032, 8914, 5028, 7005, 8188, 1349, 5376],\n",
              " [8259, 3032, 2578, 9410, 2635, 4797, 1940, 8322, 1595, 6202, 2308],\n",
              " [6961, 24, 9536, 9292, 4261, 1455, 1595, 6202, 2308],\n",
              " [7523, 4317, 626, 1595, 6202, 2308],\n",
              " [9726, 7004, 6338, 3873, 1694, 6126, 8640, 4087],\n",
              " [5474, 7222, 8226, 4930, 586, 7601, 8326, 1595, 6009, 1595, 6202, 2308],\n",
              " [4205, 3461, 3733, 5533, 9711, 4930, 2730, 1595, 6202, 2308],\n",
              " [5018,\n",
              "  148,\n",
              "  4847,\n",
              "  4930,\n",
              "  2329,\n",
              "  1595,\n",
              "  8501,\n",
              "  7562,\n",
              "  4830,\n",
              "  1158,\n",
              "  6732,\n",
              "  4543,\n",
              "  7523,\n",
              "  8804],\n",
              " [961, 5451, 1171, 1694, 8284, 2228, 3498, 835, 4719, 9113, 5376],\n",
              " [9711, 4930, 488, 331, 2445, 8196, 4174, 6034, 7004, 8163, 2238],\n",
              " [],\n",
              " [5474, 8211, 3651, 3354, 8501, 7360, 3657, 1200, 1595, 6202, 2308],\n",
              " [5055, 4347, 5487, 5522, 7687, 7147, 6948, 6535, 1595, 6202, 2308],\n",
              " [5173, 6121, 5474, 4286, 7245, 4549, 806, 3490],\n",
              " [4545, 3794, 2574, 8261, 8092, 1200, 1595, 6202, 2308],\n",
              " [9774, 5175, 6028, 2264, 2091, 4033, 1266, 2268, 5376],\n",
              " [909, 3774, 1411, 1720, 2945, 8135, 2552, 2250],\n",
              " [5916, 6498, 870, 3682, 1623, 1974, 5880, 9771, 4701, 1623, 5376],\n",
              " [7443, 6514, 4388, 582, 1762],\n",
              " [3716, 362, 8655, 3638, 5973, 9599, 1595, 6202, 2308],\n",
              " [5484, 834, 3732, 7338, 525, 6694, 3195, 1595, 6202, 2308],\n",
              " [4930, 6694, 6812, 4549, 4930, 83, 6672, 2946, 8998],\n",
              " [5646, 5309, 2122, 7015, 4220, 9637],\n",
              " [4930, 9530, 2329, 7612, 4731, 977, 5376],\n",
              " [5722, 5675, 9716, 7017, 3971, 1658, 4261, 6587, 3605, 2398, 2134, 5400],\n",
              " [5207, 4819, 5415, 4259, 4930, 8074, 8757, 7268, 2088, 9665],\n",
              " [4755, 9458, 1809, 9254, 3533, 2014, 1595, 6202, 2308],\n",
              " [1393, 3195, 8254, 3001, 6304, 2286, 6175, 7676, 4930, 1279],\n",
              " [3873, 7818, 2787, 3796, 8856, 768],\n",
              " [4484, 1364, 3241, 9762, 587, 5538, 1595, 6202, 2308],\n",
              " [916, 1093, 9679, 4484, 5028, 9718, 5996, 315, 3954, 1008, 7908, 5364],\n",
              " [5474, 3195, 768, 340, 8377, 5121, 8501, 3873, 3954],\n",
              " [57, 7687, 8831, 3586, 7091, 2804, 8072, 1595, 6202, 2308],\n",
              " [4930, 9266, 5559, 8861, 97, 7452, 1595, 6202, 2308],\n",
              " [6894, 9637, 8284, 3895, 789, 6466, 7245, 2750, 4164, 1595, 6202, 2308],\n",
              " [4804, 5619, 4376, 2105, 9369, 8261],\n",
              " [3354, 9634, 4997, 3573, 8684, 4473, 553, 5022, 7470, 4901],\n",
              " [3810, 5737, 9358, 3452, 1623, 4549, 4930, 8326],\n",
              " [2924, 1926, 4549, 2106, 7518],\n",
              " [7605, 6094, 3326, 6544, 647, 6875, 8842, 8196, 7268, 4701, 6560, 5581, 5376],\n",
              " [3012, 2694, 7826, 3273, 3385, 4594, 3351],\n",
              " [7254, 6189, 7767, 8009, 4971, 8701, 7908, 5364],\n",
              " [6877,\n",
              "  3430,\n",
              "  4484,\n",
              "  6034,\n",
              "  9637,\n",
              "  3716,\n",
              "  2729,\n",
              "  5277,\n",
              "  4143,\n",
              "  7429,\n",
              "  4346,\n",
              "  6121,\n",
              "  553,\n",
              "  5376],\n",
              " [9324, 2618, 3208, 9113, 7371, 4652, 8779],\n",
              " [5523, 8477, 6610, 5821, 7982, 8135, 5365, 5347, 1595, 6202, 2308],\n",
              " [9710, 7665, 697, 4930, 8168, 2008, 9328, 8723, 3485, 7522, 5241],\n",
              " [5950, 768, 4535, 2453, 5602],\n",
              " [1547, 913, 2201, 1096],\n",
              " [6121, 9755, 5841, 1125, 172, 3461, 3342, 1595, 6202, 2308],\n",
              " [5308, 7255, 8854, 2934, 9284, 1008, 1595, 6202, 6035, 1595, 6202, 2308],\n",
              " [2352, 4346, 9250, 7982, 5219, 5019, 8861, 4525, 1595, 6202, 2308],\n",
              " [6512, 1056, 5657, 960, 6387, 7522, 7045, 1595, 6202, 2308],\n",
              " [913, 1236, 6812, 5159, 5315, 9637, 9979, 5376],\n",
              " [3012, 2003, 3910, 3738, 2697, 2081, 5758, 7405],\n",
              " [3133, 3354, 4500, 7826, 2533, 6513, 1708, 2507, 1377, 1460, 2815, 3917],\n",
              " [1130, 5681, 9328, 3873, 3195, 9328, 162, 1578, 7613],\n",
              " [6121, 8177, 3825, 7157, 8779, 6009, 8294, 4520, 3638, 1595, 6202, 2308],\n",
              " [9970, 7956, 9672, 2209, 1368, 4876, 6858, 4876, 1595, 6202, 2308],\n",
              " [633, 1803, 8779, 570, 3195, 1047, 41, 1595, 6202, 2308],\n",
              " [572, 3533, 8450, 4930, 9037, 8131, 1595, 6202, 2308],\n",
              " [7268, 1940, 1266, 571, 6748, 1639, 8698, 1882, 1079, 875],\n",
              " [4930, 1947, 5973, 7220, 901, 3303, 4036, 1595, 6202, 2308],\n",
              " [1366, 2500, 6094, 6513, 3716, 5722, 8292, 5199, 3430, 8684, 5613],\n",
              " [6930, 9919, 2693, 9485, 1777, 7789, 9919, 707, 4625, 2196, 6323],\n",
              " [878, 5875, 4930, 57, 7518, 8705, 6778, 4819, 1595, 6202, 2308],\n",
              " [1666, 7982, 9726, 7849, 4446, 830, 1789, 9818, 5376],\n",
              " [2707, 4386, 9821, 6459, 1595, 6202, 2308],\n",
              " [40, 7181, 8557, 6588, 9328, 6794, 3323, 3580, 1595, 6202, 2308],\n",
              " [3694, 587, 9423, 5085, 6387, 3805, 835],\n",
              " [1266, 9208, 5316, 2756, 9592, 8804, 6023, 7528, 1595, 6202, 2308],\n",
              " [390, 5415, 237, 977, 475, 1595, 6202, 2308],\n",
              " [8646, 5713, 7621, 7196, 1656, 8195, 9711, 4930],\n",
              " [2752, 2412, 1905, 8408, 8757, 3599, 2998, 1595, 6202, 2308],\n",
              " [835, 2479, 2008, 6518, 5069, 3317, 6818],\n",
              " [6236, 3895, 5496, 3685, 981, 3200, 5056, 1595, 6202, 2308],\n",
              " [9013, 9889, 4701, 1595, 6202, 2308],\n",
              " [2549, 8431, 460, 3841, 9885, 5867, 1561],\n",
              " [5538, 7055, 4244, 5592, 4216, 3441, 7522],\n",
              " [6672, 472, 3085, 7396, 5458, 9762, 7144, 5069, 8238, 5316, 1595, 6202, 2308],\n",
              " [2169, 4885, 4213, 460, 6983, 8698, 24, 5376],\n",
              " [5005, 9066, 2066, 962, 1296, 4118, 8861, 7887, 9559, 3245, 1595, 6202, 2308],\n",
              " [1393, 6627, 1595, 3001, 8254, 3195, 5081, 3498, 5406],\n",
              " [1411, 4925, 257, 445, 1250, 1978],\n",
              " [4500, 8372, 6842, 4930, 2928, 1292, 2264, 3139, 1958],\n",
              " [8282, 3694, 7844, 2484, 5417, 6387],\n",
              " [882, 544, 6463, 6039, 8469, 257, 415, 2973],\n",
              " [3230, 6977, 7270, 8732, 1595, 6202, 2308],\n",
              " [9711, 4930, 2149, 5172, 7365, 7548, 2018, 9266, 1595, 6202, 2308],\n",
              " [2996, 8032, 7834, 2934, 8163, 8732, 1595, 6202, 2308],\n",
              " [5173, 3769, 9066, 4383, 9438, 6841, 1595, 6202, 2308],\n",
              " [3521, 8930, 8299, 7852, 8692, 4347, 390, 1595, 6202, 2308],\n",
              " [9590, 7196, 3053, 4391, 2161, 391, 2795, 5433, 9286, 1595, 6202, 2308],\n",
              " [3954, 1495, 8293, 7379, 3954, 6290, 3879],\n",
              " [40, 6714, 8269, 1393, 4069, 6883, 8477, 6587, 1595, 3195, 8254, 3001],\n",
              " [9711, 4930, 4084, 2589, 6558, 1047],\n",
              " [2134, 8705, 4892, 4002, 3, 1656, 1595, 6202, 2308],\n",
              " [3753, 8916, 9299, 3053, 3718, 3389, 3895, 579, 1595, 6202, 2308],\n",
              " [608, 8284, 7209, 6798, 8139],\n",
              " [3875, 7510, 4261, 6587, 9328, 956, 4930, 5422, 516, 5376],\n",
              " [3129, 2787],\n",
              " [5284, 7094, 5069, 2398, 4065, 1564, 1266, 1222, 4165],\n",
              " [5321, 5584, 3873, 3195, 3716, 4640, 1200, 3954],\n",
              " [9530, 5175, 8408, 1294, 8595, 9760, 9071, 1433, 1595, 6202, 2308],\n",
              " [1456, 6788, 8293, 3133, 9599],\n",
              " [4205,\n",
              "  5682,\n",
              "  4242,\n",
              "  3137,\n",
              "  6932,\n",
              "  4242,\n",
              "  4205,\n",
              "  8981,\n",
              "  1192,\n",
              "  5014,\n",
              "  6614,\n",
              "  4242,\n",
              "  4205,\n",
              "  3445,\n",
              "  2790,\n",
              "  9536,\n",
              "  485,\n",
              "  6055,\n",
              "  3759],\n",
              " [6290, 4165, 5162, 8038, 8872, 8409, 4473],\n",
              " [3406, 7848, 9567, 4042, 8181, 9254],\n",
              " [4930, 3954, 5722, 2833, 1047, 7885],\n",
              " [5108, 1882, 5415, 9654, 5369, 1276, 1656, 7044, 611, 6812, 5376],\n",
              " [3397, 8469, 2329, 3954, 4930, 568, 7348, 7311, 3851, 8779],\n",
              " [5020, 7196, 4930, 3465, 7754, 6972, 6850, 1995, 3389, 586],\n",
              " [7448, 3419, 2154],\n",
              " [5983, 2008, 8722, 2752, 6812, 4559],\n",
              " [6948, 1004, 3917, 6513, 9640, 6672, 1595, 6202, 2308],\n",
              " [3401, 3224, 9121, 1021, 991, 8823, 7529, 875, 9645, 5376],\n",
              " [8450, 1353, 4318, 8241, 7535, 1424, 7177, 7467, 3396, 658],\n",
              " [4500, 629, 7982, 1070, 2091, 5721, 1699, 3580, 5376],\n",
              " [2376, 3060, 6202, 1415, 7238, 8199, 5305],\n",
              " [362, 9076],\n",
              " [2358, 66, 5627, 5062, 7369, 6614, 1595, 6202, 2308],\n",
              " [629, 8722, 9343, 691, 286, 7751, 8326, 5376],\n",
              " [2286, 8072, 3873, 6608, 6576, 7691, 6516],\n",
              " [3651, 7522, 4473, 2492, 3599, 4517, 1595, 6202, 2308],\n",
              " [6647, 3381, 7135, 7214, 9094, 1595, 6202, 2308],\n",
              " [3365, 2929, 8278, 1878, 2634, 1595, 6202, 2308],\n",
              " [1780, 578, 5183, 4548, 5975, 4048, 1595, 6202, 2308],\n",
              " [4930, 2208, 1984, 464, 4565, 3116, 4958, 677, 8699, 1595, 6202, 2308],\n",
              " [836,\n",
              "  2146,\n",
              "  5415,\n",
              "  1729,\n",
              "  6694,\n",
              "  9405,\n",
              "  8573,\n",
              "  6770,\n",
              "  8106,\n",
              "  8196,\n",
              "  9536,\n",
              "  3506,\n",
              "  9249,\n",
              "  1595,\n",
              "  6202,\n",
              "  2308],\n",
              " [2159, 3380, 9597, 2069, 9720, 1595, 6202, 2308],\n",
              " [6441, 1644, 5363, 146, 3718, 4930, 6478],\n",
              " [4500, 4930, 5973, 2946, 8998, 6812, 5774, 7639, 4484, 6034, 5376],\n",
              " [40, 9938, 2352, 8732, 691, 7460, 5284, 3732, 3498, 5376],\n",
              " [3879, 257, 5504, 3037, 1595, 3873, 8254, 5056, 1495, 7683, 1460, 1393],\n",
              " [7834, 6059, 1578, 3879, 2798, 7409, 1595, 6202, 2308],\n",
              " [9410, 2258, 7893, 6529],\n",
              " [2589, 9818, 6923, 3317, 7215, 9726],\n",
              " [9120, 5173, 3716, 9657, 5081, 1834, 8349, 5376],\n",
              " [3521, 9926, 3238, 3550, 3251, 4473, 1411, 1595, 6202, 2308],\n",
              " [3599, 9113, 2306, 8723, 5240, 8842, 9284, 1496, 395, 2306],\n",
              " [9843, 8358, 58, 1595, 6202, 2308],\n",
              " [3277, 591, 3873, 8777, 8706, 1578, 9726, 3137, 4386],\n",
              " [2561, 3682, 2235, 6850, 8237, 9299, 9833, 1916, 521, 5626, 5376],\n",
              " [962, 3680, 8779, 7743, 7048, 2700, 156, 1595, 6202, 2308],\n",
              " [7343, 1846, 1455, 4930, 4959],\n",
              " [5173, 3246, 8242, 4640],\n",
              " [1253, 1422, 5028, 2382, 6350, 8290, 9633, 6632, 1595, 6202, 2308],\n",
              " [571, 7523, 2476, 1229, 8230, 8108, 4261, 8195, 9711, 4930],\n",
              " [8975, 6513, 3835, 5081, 2917, 1525, 5022, 5159, 1595, 6202, 2308],\n",
              " [2169, 4220, 5207, 8684, 6428, 9710],\n",
              " [9821, 2226, 2640, 3580, 8526, 4500, 7562, 9885, 5069, 1595, 6202, 2308],\n",
              " [3873, 6851, 4662, 2314, 7702, 4550],\n",
              " [4206, 986, 678, 2549, 9282, 9438, 6841, 1595, 6202, 2308],\n",
              " [8638, 9256, 587, 3390, 5064, 4164, 3167, 8469, 7096],\n",
              " [4164, 3195, 2752, 6544, 6625, 1079, 1089, 5175, 9668, 3787],\n",
              " [571, 4473, 4930, 1694, 8448, 4965, 780, 1595, 6202, 2308],\n",
              " [5159, 2109, 3895, 1367, 6911, 9713],\n",
              " [15, 3873, 1759],\n",
              " [5722, 4519, 5883, 340, 3772, 3797, 3001, 3873, 7909],\n",
              " [9917, 4736, 9621, 6978, 503, 2063, 8722, 1595, 6202, 2308],\n",
              " [3354, 909, 3774, 9369, 9113, 3781, 1395, 6770, 7941, 3774, 2003, 8020, 1174],\n",
              " [2697, 5696, 3320, 5096, 6803, 1974, 4473, 1595, 6202, 2308],\n",
              " [6930,\n",
              "  1547,\n",
              "  4787,\n",
              "  7185,\n",
              "  4087,\n",
              "  1547,\n",
              "  4787,\n",
              "  7185,\n",
              "  4087,\n",
              "  5348,\n",
              "  3443,\n",
              "  3189,\n",
              "  1377],\n",
              " [6677, 6432, 3935, 6883, 1718, 7970, 5934, 1393, 2781, 8282, 4930, 5240],\n",
              " [7548, 3521, 2082, 7570, 6812, 406, 9438, 5375],\n",
              " [943, 6746, 340, 257, 1931, 7073, 7666, 149, 8795, 9940],\n",
              " [8259, 257, 2329, 4639, 3761, 4814, 5722, 3485, 9710],\n",
              " [3116, 7523, 8975, 7748, 7720, 4577, 3191, 5737, 9821, 1595, 6202, 2308],\n",
              " [9438, 6841, 3873, 3195, 9711, 4930, 1250, 991, 1595, 6202, 2308],\n",
              " [2135, 2471, 3833, 6858, 994, 149, 6631, 6798, 587, 5452, 9726],\n",
              " [9821, 2226, 2344, 8705, 1595, 7954, 1595, 6202, 2308],\n",
              " [5041, 7698, 3827, 5879, 8075, 2134, 4816, 1595, 6202, 2308],\n",
              " [3769, 1276, 303, 7044, 5079, 4317, 9457, 8893],\n",
              " [9711, 4930, 3599, 8523, 7150, 3320, 5985],\n",
              " [943, 30, 3210, 8823, 9713, 3354, 4963, 3354, 6619, 2865, 5376],\n",
              " [4588, 7726, 5559, 7070, 3716, 986],\n",
              " [8712, 9097, 5335, 6983, 9668],\n",
              " [7110, 4755, 8509, 8604, 2164],\n",
              " [7599, 4389, 5006, 8327, 3834, 2752, 5376],\n",
              " [2183, 5042, 4930, 4681, 6694, 5162, 9121, 9654, 7862, 1595, 6202, 2308],\n",
              " [6613, 5103, 4259, 6812, 4559, 6694, 4391, 2680, 5376],\n",
              " [9470, 1534, 2815, 4071],\n",
              " [1266, 7196, 5069, 626, 3397, 5033, 7849, 5759, 1595, 6202, 2308],\n",
              " [1052, 587, 1157, 8201, 1149, 1595, 6202, 2308],\n",
              " [2652, 6989, 586, 8196, 2134, 2306, 5616],\n",
              " [4012, 4400, 9938, 5856, 3614],\n",
              " [5782, 1971, 678, 6643, 8195, 4930, 1777, 9074, 5950, 8784, 9020, 5435],\n",
              " [2935, 6688, 1121, 5859, 2569, 4930, 5375, 9657, 1595, 6202, 2308],\n",
              " [4549, 4930, 7115, 6099, 1160, 8237, 6146, 3027, 7523, 4789],\n",
              " [8403, 3053, 8230, 7982, 7565, 5316, 1595, 6202, 2308],\n",
              " [2797, 8450, 6677, 1631, 7719, 7676, 1595, 6202, 2308],\n",
              " [1393, 8319, 3053, 5729, 3891, 257, 4237, 7005, 876],\n",
              " [8108, 3818, 9461, 3211, 3519, 7091],\n",
              " [9286, 3368, 4500, 5255, 7293, 793, 4934, 9365],\n",
              " [9179, 3498, 835, 7153, 1171, 5588, 7070],\n",
              " [5722, 24, 6387, 5530, 3895, 4449, 5841, 1595, 6202, 2308],\n",
              " [3498, 5375, 8284, 3895, 1265, 1471],\n",
              " [2329,\n",
              "  4930,\n",
              "  6136,\n",
              "  2418,\n",
              "  6857,\n",
              "  3781,\n",
              "  7044,\n",
              "  2589,\n",
              "  6464,\n",
              "  9837,\n",
              "  4205,\n",
              "  1171,\n",
              "  8600,\n",
              "  994,\n",
              "  5376],\n",
              " [3873, 3195, 6694, 340, 6218, 8195, 3287, 586],\n",
              " [980, 9361, 4617, 9425, 9800, 1343, 6706],\n",
              " [5556, 3323, 9581, 5305, 5672],\n",
              " [8283, 7306, 8242, 4033, 5305, 3239, 8242],\n",
              " [8130, 1978, 5532, 6694, 6812, 4559, 874, 2181],\n",
              " [4549, 4930, 9037, 5461, 7091, 2086, 3832],\n",
              " [860, 143, 1276, 2058, 6300, 9726, 1595, 6202, 2308],\n",
              " [8441, 4166, 8020, 1174, 3895, 4773, 604, 6290, 6961],\n",
              " [4930, 356, 6961, 9254, 7268, 1940, 5509, 5581, 1595, 6202, 2308],\n",
              " [5376, 3485, 4012, 3682, 2905, 5376],\n",
              " [3873, 8284],\n",
              " [6080, 6290, 3996, 6722, 3951, 8892, 2699, 6464],\n",
              " [9711, 4930, 5782, 5972, 243, 5659, 9438, 6841, 1595, 6202, 2308],\n",
              " [8779, 3171, 9037, 7404, 7970, 8179, 339],\n",
              " [4205, 8714, 994, 1274, 9817, 7881, 6034, 5376],\n",
              " [4242, 3301, 257, 1088, 7886, 4820, 1604],\n",
              " [9155, 2429, 4484, 4703, 6413, 6363, 8282, 2973, 5376],\n",
              " [5084, 8637, 2025, 6040, 4884, 1595, 6202, 2308],\n",
              " [2635, 2445, 8483, 766, 1892, 982, 9513, 4212, 8998, 9657, 5376],\n",
              " [2924, 9352, 3381, 2889, 9037, 8284, 4934, 850],\n",
              " [4930, 6395, 1115, 5372, 9593, 8230, 4070, 1595, 6202, 2308],\n",
              " [156, 6799, 8259, 4535, 5335],\n",
              " [8303, 3895, 4896, 1595, 6202, 2308],\n",
              " [6930, 3317, 5373, 5028, 1621],\n",
              " [625, 1393, 3195, 8254, 3001, 6304, 2286, 6175, 7676, 4930, 1279],\n",
              " [1266, 8807, 3971, 9713, 7169, 5081, 7223, 6381, 1595, 6202, 2308],\n",
              " [2628, 3638, 3012, 6021, 9283, 658, 9475, 4332, 8698],\n",
              " [4023, 6688, 8284, 9037, 8024, 502, 1403, 5860, 3396],\n",
              " [4930, 9762, 602, 9657, 1855, 3317, 9279, 7849, 1595, 6202, 2308],\n",
              " [9163, 7159, 3001, 6215, 8812],\n",
              " [8501, 7106, 2998, 860, 7834, 8261],\n",
              " [6324, 3368, 3678, 7245, 5756, 6630, 8201],\n",
              " [7589, 8871, 5081, 8501],\n",
              " [4930, 6944, 1595, 2172, 4261, 6732, 5376],\n",
              " [6877, 7452, 586, 6694, 1525, 8722, 5162, 5875, 2917, 7663],\n",
              " [9821, 9164, 2175, 1631, 1855, 6136, 1935, 9638, 5376],\n",
              " [4036, 459, 9284, 5035],\n",
              " [156,\n",
              "  1650,\n",
              "  1126,\n",
              "  9645,\n",
              "  8501,\n",
              "  7091,\n",
              "  7175,\n",
              "  3075,\n",
              "  8477,\n",
              "  5316,\n",
              "  8501,\n",
              "  9598,\n",
              "  8349,\n",
              "  1595,\n",
              "  6202,\n",
              "  2308],\n",
              " [3605, 2661, 4840, 7908, 5364, 9037, 4391, 8024, 502, 1403],\n",
              " [1780, 5732, 1656, 5756, 2063, 466, 2161, 6513, 9037, 5376],\n",
              " [7164, 3138, 4773, 9672, 7887, 9438, 2186],\n",
              " [6350, 6788, 7196, 4822, 5056, 7801, 6682, 2209, 5522, 1595, 6202, 2308],\n",
              " [2815, 4332, 1279, 3873, 3195, 5159, 9711, 4930, 1595, 6202, 2308],\n",
              " [6503, 3485, 1595, 6202, 2308, 6518, 5376, 4500, 9691, 5376],\n",
              " [3935, 1595, 2908, 5055, 8315, 3621, 1595, 6202, 2308],\n",
              " [6206, 6601, 340, 4269, 991, 1266, 5141, 4997, 9242],\n",
              " [7587, 4112, 1084, 1266, 4525, 7722, 7687, 6631, 1595, 6202, 2308],\n",
              " [4500, 5737, 1008, 4137, 4505],\n",
              " [4695, 6324, 4500, 5619, 6503, 3485, 5316, 3873, 3195],\n",
              " [3521, 4665, 958, 8032, 2130, 59, 8593, 7373, 1106, 1595, 6202, 2308],\n",
              " [2427, 1379, 3060, 532, 1474, 3843, 6613, 4815],\n",
              " [7687, 9283, 901, 5602, 8842, 3012, 1288, 8332, 8230, 1329, 5821, 1456, 3956],\n",
              " [3521, 6618, 4446, 9286, 2308, 7743, 7510, 2008, 9631, 1595, 6202, 2308],\n",
              " [8779, 2161, 3328, 5019, 1279, 2496, 7106],\n",
              " [7350, 3321, 2693, 2634],\n",
              " [3167, 587, 356, 2780, 5954, 8861, 8008, 1595, 6202, 2308],\n",
              " [5864, 7726, 9885, 8795],\n",
              " [4938, 2398, 9818, 6518, 7527, 5581, 3550, 9292],\n",
              " [5211, 1987, 1631, 5729, 71, 7130, 1595, 6202, 2308],\n",
              " [994, 1520, 8756, 2161, 8784, 8303, 260, 3718],\n",
              " [8457, 2445, 2286, 4449, 5737, 768, 2697, 9640, 4930, 5376],\n",
              " [1229, 8722, 3718, 5734, 285, 1349, 7927, 5567, 4491, 5159, 5376],\n",
              " [139, 9637, 1525, 3120, 6094, 7157, 2440, 7687, 1595, 6202, 2308],\n",
              " [6957, 8706, 2477, 3803, 1279, 3032, 8914],\n",
              " [1118, 8872, 3462, 616, 7153, 3983],\n",
              " [9003, 69, 9137, 9454, 9637],\n",
              " [40, 2352, 5916, 6498, 6677, 8183, 7599, 7013, 1751, 6652, 5376],\n",
              " [1266, 6626, 4552, 587, 1266, 8338, 4701, 2158, 586, 1595, 6202, 2308],\n",
              " [4930, 9726],\n",
              " [447, 8195, 8196, 8601, 8519, 9017, 7862, 7738, 1595, 6202, 2308],\n",
              " [4930, 300, 2398, 5608, 2878, 5737, 2015, 8261, 3317, 9710],\n",
              " [6441, 3053, 2376, 8779, 1207, 5556, 2308, 6778, 1595, 6202, 2308],\n",
              " [2134, 2756, 7360, 3020, 7197, 3738, 1079, 2538, 2161, 7604],\n",
              " [7282, 1376, 9256, 4840, 1868, 2917, 3718],\n",
              " [2662, 8414, 2222, 4444, 9439, 1047, 4703, 1584, 1595, 6202, 2308],\n",
              " [8395, 6841, 7826, 3273, 6647],\n",
              " [2209, 9710, 7801, 9917, 7848, 5370, 3873],\n",
              " [5041, 1595, 5909, 962, 3303, 5354, 7452, 1595, 6202, 2308],\n",
              " [3195, 5381, 6088, 5240, 3685],\n",
              " [3873, 8282, 5687, 7982, 4261, 1173, 4930, 5376],\n",
              " [4963, 3954, 2752, 8188, 8677, 570, 6512, 8303],\n",
              " [4672, 5237, 3297, 57, 3891, 5246, 5354, 1229],\n",
              " [2063, 9598, 6428, 4066, 447, 1950],\n",
              " [9616, 9317, 7904, 8540, 3895, 2974, 7452, 586, 5220, 5376],\n",
              " [3178, 7727, 6928, 2817, 6357, 1370, 1595, 6202, 2308],\n",
              " [8779, 3120, 3208, 9366, 5550, 6327, 577, 1595, 6202, 2308],\n",
              " [8923, 3284, 1132, 9363, 3895, 4588, 3444, 9818],\n",
              " [8372, 5631, 4865, 9180, 5434, 6930, 3873, 3580, 6716],\n",
              " [1229, 5294, 875, 2982, 2020, 7326, 1595, 6202, 2308],\n",
              " [3718, 9334, 6760, 6134, 9356, 4103, 57],\n",
              " [3354, 3078, 6019, 3195, 8316],\n",
              " [2337, 8504, 1675, 8861, 1069, 9365, 5646, 4036],\n",
              " [7452, 586, 8378, 4930, 7743, 9657, 1595, 6202, 2308],\n",
              " [6962, 1659, 6094, 8504, 2398, 3157, 9328, 3602, 2797, 9710],\n",
              " [6503, 3485, 4930, 5354, 1222, 1838],\n",
              " [8477, 9665],\n",
              " [3879, 5288, 4069, 5616, 9612, 9665, 4832, 5376],\n",
              " [8795, 5316, 4192, 1595, 6202, 2308],\n",
              " [149, 449, 303, 3954, 8226, 7281, 8356, 7204, 4088, 9140, 2286, 4041],\n",
              " [8537, 4066, 4965, 7282],\n",
              " [5934, 5321, 8254, 7848, 2496, 2074, 8779, 4959],\n",
              " [227, 4261, 9414, 8694, 4524, 350, 1921, 9113],\n",
              " [2088, 5084, 5474, 1357, 57, 3691, 3732, 3873],\n",
              " [2182, 643, 4840, 8126, 586, 6825, 1595, 6202, 2308],\n",
              " [3625, 340, 876, 8445, 4370, 876, 6166, 4261, 5376],\n",
              " [8812, 5504, 4963, 6714, 3385, 7751, 8181, 3397, 8311, 626],\n",
              " [4103, 8296, 2308, 1377, 3833, 4930, 5595, 6079, 5376],\n",
              " [7217, 9421, 716, 340, 3386, 3386, 1595, 6202, 2308],\n",
              " [3873, 3195, 6608, 9711, 4930, 1595, 8786, 801, 2286, 8072, 1595, 6202, 2308],\n",
              " [4614, 3769, 5370, 9204, 9711, 4930, 9345, 9438, 6841, 1595, 6202, 2308],\n",
              " [943, 4579, 4137, 4446, 9286, 257, 6290, 5376],\n",
              " [1607, 1626, 1834, 1409, 258, 1200, 1595, 6202, 2308],\n",
              " [1680, 4261, 7971, 4473, 2956, 8483, 1595, 6202, 2308],\n",
              " [3016, 5004, 2188],\n",
              " [1460, 9711, 4930, 3651, 7908, 3878, 5663, 1650, 3717, 1595, 6202, 2308],\n",
              " [1265, 4491, 4085, 4226, 7548, 7106, 1595, 6202, 2308],\n",
              " [7702, 4084, 2589, 6464, 6832, 7889, 2937, 2790, 6268, 5376],\n",
              " [4930, 3833, 2379, 4885, 3879, 2790, 6977, 8477, 5758, 991],\n",
              " [256, 6894, 5922, 9592, 9966, 7311, 5019, 1595, 6202, 2308],\n",
              " [5474, 5948, 4945, 3208, 5530, 5659, 4171, 2837, 3323, 3580, 5376],\n",
              " [4205, 2440, 5430, 6875, 4084, 4934, 5581, 5376],\n",
              " [7250,\n",
              "  7887,\n",
              "  1595,\n",
              "  5646,\n",
              "  6318,\n",
              "  7711,\n",
              "  8753,\n",
              "  8687,\n",
              "  4347,\n",
              "  6682,\n",
              "  8092,\n",
              "  1595,\n",
              "  6202,\n",
              "  2308],\n",
              " [9711, 4930, 3873, 3195, 9133, 2190, 9438, 6841, 1595, 6202, 2308],\n",
              " [3137, 3895, 5069, 9113, 5734, 7548, 1274, 8501, 3354, 1048],\n",
              " [6094, 6387, 7982, 1941, 3873, 1780],\n",
              " [4995, 5869, 712, 8764],\n",
              " [6833, 5731, 4617, 139, 3891, 6798, 8142, 4938, 9284, 1496, 1168],\n",
              " [8975, 8316, 5159, 1266, 3397, 5313, 6694, 3019, 1595, 6202, 2308],\n",
              " [2628, 1276, 8598, 4930, 4214, 3853, 6694, 7523, 6007, 2958, 8330, 5376],\n",
              " [5081, 438, 4547, 553, 1088, 7886, 300, 6894, 4317],\n",
              " [4930, 8795, 6812, 4559, 4174, 8891, 7817, 1694, 1595, 6202, 2308],\n",
              " [6930, 3873, 3195, 1834, 67, 8094, 7848, 9665, 8254, 668],\n",
              " [4216, 8779, 5033, 8188, 3954, 3873, 6513, 1595, 1393, 8254, 3001],\n",
              " [9711, 4930, 4439, 4739, 3733, 3461, 5731, 2509, 8264, 1595, 6202, 2308],\n",
              " [9983, 9352, 6513, 8131, 5428, 3785, 6737, 352, 1756, 9140],\n",
              " [5142, 6387, 4630, 3646, 1130, 6925, 5354, 9060],\n",
              " [4930, 7548, 2018, 4819, 340, 8282, 4552, 1171, 5847, 9513, 1595, 6202, 2308],\n",
              " [4217, 4376, 9474, 2697, 1377, 9592, 4259, 5423, 9710],\n",
              " [700, 4261, 3283, 1999, 7240, 390, 1069, 2992, 1595, 6202, 2308],\n",
              " ...]"
            ]
          },
          "metadata": {},
          "execution_count": 119
        }
      ]
    },
    {
      "cell_type": "code",
      "source": [
        "pad_seq_rep = pad_sequences(one_hot_rep,maxlen=20,padding=\"pre\")\n",
        "pad_seq_rep[0]"
      ],
      "metadata": {
        "colab": {
          "base_uri": "https://localhost:8080/"
        },
        "id": "X8nVPKPWEOi6",
        "outputId": "b0328146-6f3c-436b-afa6-3d9c2cd5a960"
      },
      "execution_count": 120,
      "outputs": [
        {
          "output_type": "execute_result",
          "data": {
            "text/plain": [
              "array([   0,    0,    0,    0,    0,    0,    0,    0,    0,    0, 6464,\n",
              "       5916, 6395, 9438, 7523, 6883, 7621, 4456, 5278,  146], dtype=int32)"
            ]
          },
          "metadata": {},
          "execution_count": 120
        }
      ]
    },
    {
      "cell_type": "code",
      "source": [
        "model = Sequential()\n",
        "model.add(Embedding(1000,40,input_length=20))\n",
        "model.add(LSTM(100))\n",
        "model.add(Dense(1,activation=\"sigmoid\"))\n",
        "model.compile(optimizer=\"adam\",loss=\"binary_crossentropy\",metrics=[\"accuracy\"])\n",
        "model.summary()"
      ],
      "metadata": {
        "colab": {
          "base_uri": "https://localhost:8080/"
        },
        "id": "ThBrSyfTE_Mp",
        "outputId": "aef7d696-8b4d-4eb9-b817-aa4a341cea8d"
      },
      "execution_count": 121,
      "outputs": [
        {
          "output_type": "stream",
          "name": "stdout",
          "text": [
            "Model: \"sequential_4\"\n",
            "_________________________________________________________________\n",
            " Layer (type)                Output Shape              Param #   \n",
            "=================================================================\n",
            " embedding_3 (Embedding)     (None, 20, 40)            40000     \n",
            "                                                                 \n",
            " lstm_5 (LSTM)               (None, 100)               56400     \n",
            "                                                                 \n",
            " dense_3 (Dense)             (None, 1)                 101       \n",
            "                                                                 \n",
            "=================================================================\n",
            "Total params: 96,501\n",
            "Trainable params: 96,501\n",
            "Non-trainable params: 0\n",
            "_________________________________________________________________\n"
          ]
        }
      ]
    },
    {
      "cell_type": "code",
      "source": [
        "model_1 = Sequential()\n",
        "model_1.add(Embedding(1000,40,input_length=20))\n",
        "model_1.add(Bidirectional(LSTM(100)))\n",
        "model_1.add(Dropout(0.2))\n",
        "model_1.add(Dense(1,activation=\"sigmoid\"))\n",
        "model_1.compile(optimizer=\"adam\",loss=\"binary_crossentropy\",metrics=[\"accuracy\"])\n",
        "model_1.summary()"
      ],
      "metadata": {
        "colab": {
          "base_uri": "https://localhost:8080/"
        },
        "id": "88rter-oKdOs",
        "outputId": "e67a263c-a46a-44bb-e06c-b9cc99273fa4"
      },
      "execution_count": 122,
      "outputs": [
        {
          "output_type": "stream",
          "name": "stdout",
          "text": [
            "Model: \"sequential_5\"\n",
            "_________________________________________________________________\n",
            " Layer (type)                Output Shape              Param #   \n",
            "=================================================================\n",
            " embedding_4 (Embedding)     (None, 20, 40)            40000     \n",
            "                                                                 \n",
            " bidirectional (Bidirectiona  (None, 200)              112800    \n",
            " l)                                                              \n",
            "                                                                 \n",
            " dropout (Dropout)           (None, 200)               0         \n",
            "                                                                 \n",
            " dense_4 (Dense)             (None, 1)                 201       \n",
            "                                                                 \n",
            "=================================================================\n",
            "Total params: 153,001\n",
            "Trainable params: 153,001\n",
            "Non-trainable params: 0\n",
            "_________________________________________________________________\n"
          ]
        }
      ]
    },
    {
      "cell_type": "code",
      "source": [
        "X = np.array(pad_seq_rep)\n",
        "y = np.array(df[\"label\"].values)"
      ],
      "metadata": {
        "id": "dYsU1wfMLCpg"
      },
      "execution_count": 123,
      "outputs": []
    },
    {
      "cell_type": "code",
      "source": [
        "X.shape"
      ],
      "metadata": {
        "colab": {
          "base_uri": "https://localhost:8080/"
        },
        "id": "3qeGWM54LR15",
        "outputId": "8f7070df-9bcb-4963-e901-b3c239428713"
      },
      "execution_count": 124,
      "outputs": [
        {
          "output_type": "execute_result",
          "data": {
            "text/plain": [
              "(18285, 20)"
            ]
          },
          "metadata": {},
          "execution_count": 124
        }
      ]
    },
    {
      "cell_type": "code",
      "source": [
        "y.shape"
      ],
      "metadata": {
        "colab": {
          "base_uri": "https://localhost:8080/"
        },
        "id": "m5VUy2AiLTDr",
        "outputId": "bba52d0e-87d6-4571-a927-12aa1cf1e69d"
      },
      "execution_count": 125,
      "outputs": [
        {
          "output_type": "execute_result",
          "data": {
            "text/plain": [
              "(18285,)"
            ]
          },
          "metadata": {},
          "execution_count": 125
        }
      ]
    },
    {
      "cell_type": "code",
      "source": [
        "from sklearn.model_selection import train_test_split\n",
        "X_train, X_test, y_train, y_test = train_test_split(X,y,test_size=0.3,random_state=42)"
      ],
      "metadata": {
        "id": "T0dxbuSZLTnT"
      },
      "execution_count": 126,
      "outputs": []
    },
    {
      "cell_type": "code",
      "source": [
        "X_train.shape"
      ],
      "metadata": {
        "colab": {
          "base_uri": "https://localhost:8080/"
        },
        "id": "m5zMyb2lOiyr",
        "outputId": "55d5a22b-d9c9-4ef4-d6e8-069364d86882"
      },
      "execution_count": 127,
      "outputs": [
        {
          "output_type": "execute_result",
          "data": {
            "text/plain": [
              "(12799, 20)"
            ]
          },
          "metadata": {},
          "execution_count": 127
        }
      ]
    },
    {
      "cell_type": "code",
      "source": [
        "X_test.shape"
      ],
      "metadata": {
        "colab": {
          "base_uri": "https://localhost:8080/"
        },
        "id": "RHognKZJOmmF",
        "outputId": "235a76a2-faac-4f55-e658-bef28624f981"
      },
      "execution_count": 128,
      "outputs": [
        {
          "output_type": "execute_result",
          "data": {
            "text/plain": [
              "(5486, 20)"
            ]
          },
          "metadata": {},
          "execution_count": 128
        }
      ]
    },
    {
      "cell_type": "code",
      "source": [
        "### Finally Training\n",
        "model.fit(X_train,y_train,validation_data=(X_test,y_test),epochs=20,batch_size=64)"
      ],
      "metadata": {
        "colab": {
          "base_uri": "https://localhost:8080/"
        },
        "id": "B9viBxtqLv-w",
        "outputId": "258cbcd0-35b8-46c8-d88a-3042a0a72de8"
      },
      "execution_count": 129,
      "outputs": [
        {
          "output_type": "stream",
          "name": "stdout",
          "text": [
            "Epoch 1/20\n",
            "200/200 [==============================] - 5s 15ms/step - loss: 0.6074 - accuracy: 0.6815 - val_loss: 0.5777 - val_accuracy: 0.7071\n",
            "Epoch 2/20\n",
            "200/200 [==============================] - 2s 12ms/step - loss: 0.5658 - accuracy: 0.7076 - val_loss: 0.5618 - val_accuracy: 0.7080\n",
            "Epoch 3/20\n",
            "200/200 [==============================] - 3s 14ms/step - loss: 0.5476 - accuracy: 0.7215 - val_loss: 0.5660 - val_accuracy: 0.7104\n",
            "Epoch 4/20\n",
            "200/200 [==============================] - 3s 14ms/step - loss: 0.5422 - accuracy: 0.7272 - val_loss: 0.5609 - val_accuracy: 0.7100\n",
            "Epoch 5/20\n",
            "200/200 [==============================] - 2s 12ms/step - loss: 0.5314 - accuracy: 0.7312 - val_loss: 0.5644 - val_accuracy: 0.7071\n",
            "Epoch 6/20\n",
            "200/200 [==============================] - 3s 14ms/step - loss: 0.5248 - accuracy: 0.7359 - val_loss: 0.5677 - val_accuracy: 0.7087\n",
            "Epoch 7/20\n",
            "200/200 [==============================] - 3s 14ms/step - loss: 0.5212 - accuracy: 0.7401 - val_loss: 0.5792 - val_accuracy: 0.7102\n",
            "Epoch 8/20\n",
            "200/200 [==============================] - 3s 14ms/step - loss: 0.5125 - accuracy: 0.7441 - val_loss: 0.5819 - val_accuracy: 0.7147\n",
            "Epoch 9/20\n",
            "200/200 [==============================] - 2s 12ms/step - loss: 0.5093 - accuracy: 0.7472 - val_loss: 0.5636 - val_accuracy: 0.7147\n",
            "Epoch 10/20\n",
            "200/200 [==============================] - 3s 14ms/step - loss: 0.5060 - accuracy: 0.7492 - val_loss: 0.5643 - val_accuracy: 0.7169\n",
            "Epoch 11/20\n",
            "200/200 [==============================] - 3s 14ms/step - loss: 0.5017 - accuracy: 0.7533 - val_loss: 0.5683 - val_accuracy: 0.7175\n",
            "Epoch 12/20\n",
            "200/200 [==============================] - 3s 14ms/step - loss: 0.4992 - accuracy: 0.7536 - val_loss: 0.5634 - val_accuracy: 0.7164\n",
            "Epoch 13/20\n",
            "200/200 [==============================] - 3s 14ms/step - loss: 0.4976 - accuracy: 0.7533 - val_loss: 0.5705 - val_accuracy: 0.7155\n",
            "Epoch 14/20\n",
            "200/200 [==============================] - 2s 12ms/step - loss: 0.4935 - accuracy: 0.7586 - val_loss: 0.5685 - val_accuracy: 0.7200\n",
            "Epoch 15/20\n",
            "200/200 [==============================] - 2s 12ms/step - loss: 0.4900 - accuracy: 0.7584 - val_loss: 0.5861 - val_accuracy: 0.7167\n",
            "Epoch 16/20\n",
            "200/200 [==============================] - 3s 14ms/step - loss: 0.4859 - accuracy: 0.7587 - val_loss: 0.5903 - val_accuracy: 0.7218\n",
            "Epoch 17/20\n",
            "200/200 [==============================] - 2s 12ms/step - loss: 0.4850 - accuracy: 0.7612 - val_loss: 0.5774 - val_accuracy: 0.7198\n",
            "Epoch 18/20\n",
            "200/200 [==============================] - 2s 12ms/step - loss: 0.4798 - accuracy: 0.7650 - val_loss: 0.5894 - val_accuracy: 0.7211\n",
            "Epoch 19/20\n",
            "200/200 [==============================] - 2s 12ms/step - loss: 0.4782 - accuracy: 0.7626 - val_loss: 0.6129 - val_accuracy: 0.7202\n",
            "Epoch 20/20\n",
            "200/200 [==============================] - 2s 12ms/step - loss: 0.4740 - accuracy: 0.7658 - val_loss: 0.6030 - val_accuracy: 0.7233\n"
          ]
        },
        {
          "output_type": "execute_result",
          "data": {
            "text/plain": [
              "<keras.callbacks.History at 0x7f2556874210>"
            ]
          },
          "metadata": {},
          "execution_count": 129
        }
      ]
    },
    {
      "cell_type": "code",
      "source": [
        "### Finally Training\n",
        "model_1.fit(X_train,y_train,validation_data=(X_test,y_test),epochs=20,batch_size=64)"
      ],
      "metadata": {
        "colab": {
          "base_uri": "https://localhost:8080/"
        },
        "id": "d5Kc95TZL9ln",
        "outputId": "ef78a11e-3249-487b-d62c-414cecb0ae53"
      },
      "execution_count": 130,
      "outputs": [
        {
          "output_type": "stream",
          "name": "stdout",
          "text": [
            "Epoch 1/20\n",
            "200/200 [==============================] - 9s 25ms/step - loss: 0.6028 - accuracy: 0.6789 - val_loss: 0.5689 - val_accuracy: 0.7144\n",
            "Epoch 2/20\n",
            "200/200 [==============================] - 4s 20ms/step - loss: 0.5505 - accuracy: 0.7238 - val_loss: 0.5632 - val_accuracy: 0.7071\n",
            "Epoch 3/20\n",
            "200/200 [==============================] - 4s 19ms/step - loss: 0.5387 - accuracy: 0.7314 - val_loss: 0.5611 - val_accuracy: 0.7118\n",
            "Epoch 4/20\n",
            "200/200 [==============================] - 4s 20ms/step - loss: 0.5262 - accuracy: 0.7414 - val_loss: 0.5574 - val_accuracy: 0.7193\n",
            "Epoch 5/20\n",
            "200/200 [==============================] - 4s 19ms/step - loss: 0.5196 - accuracy: 0.7452 - val_loss: 0.5622 - val_accuracy: 0.7186\n",
            "Epoch 6/20\n",
            "200/200 [==============================] - 4s 19ms/step - loss: 0.5119 - accuracy: 0.7485 - val_loss: 0.5661 - val_accuracy: 0.7156\n",
            "Epoch 7/20\n",
            "200/200 [==============================] - 4s 19ms/step - loss: 0.5066 - accuracy: 0.7501 - val_loss: 0.5526 - val_accuracy: 0.7178\n",
            "Epoch 8/20\n",
            "200/200 [==============================] - 4s 19ms/step - loss: 0.5048 - accuracy: 0.7530 - val_loss: 0.5631 - val_accuracy: 0.7178\n",
            "Epoch 9/20\n",
            "200/200 [==============================] - 4s 19ms/step - loss: 0.5024 - accuracy: 0.7520 - val_loss: 0.5702 - val_accuracy: 0.7149\n",
            "Epoch 10/20\n",
            "200/200 [==============================] - 4s 20ms/step - loss: 0.4996 - accuracy: 0.7540 - val_loss: 0.5628 - val_accuracy: 0.7171\n",
            "Epoch 11/20\n",
            "200/200 [==============================] - 4s 19ms/step - loss: 0.4966 - accuracy: 0.7538 - val_loss: 0.5677 - val_accuracy: 0.7182\n",
            "Epoch 12/20\n",
            "200/200 [==============================] - 4s 19ms/step - loss: 0.4961 - accuracy: 0.7534 - val_loss: 0.5681 - val_accuracy: 0.7180\n",
            "Epoch 13/20\n",
            "200/200 [==============================] - 4s 19ms/step - loss: 0.4961 - accuracy: 0.7548 - val_loss: 0.5693 - val_accuracy: 0.7175\n",
            "Epoch 14/20\n",
            "200/200 [==============================] - 4s 19ms/step - loss: 0.4935 - accuracy: 0.7539 - val_loss: 0.5803 - val_accuracy: 0.7171\n",
            "Epoch 15/20\n",
            "200/200 [==============================] - 4s 20ms/step - loss: 0.4918 - accuracy: 0.7569 - val_loss: 0.5687 - val_accuracy: 0.7175\n",
            "Epoch 16/20\n",
            "200/200 [==============================] - 4s 20ms/step - loss: 0.4905 - accuracy: 0.7563 - val_loss: 0.5737 - val_accuracy: 0.7167\n",
            "Epoch 17/20\n",
            "200/200 [==============================] - 4s 19ms/step - loss: 0.4880 - accuracy: 0.7575 - val_loss: 0.5931 - val_accuracy: 0.7160\n",
            "Epoch 18/20\n",
            "200/200 [==============================] - 4s 20ms/step - loss: 0.4880 - accuracy: 0.7603 - val_loss: 0.5847 - val_accuracy: 0.7147\n",
            "Epoch 19/20\n",
            "200/200 [==============================] - 4s 20ms/step - loss: 0.4824 - accuracy: 0.7598 - val_loss: 0.5889 - val_accuracy: 0.7187\n",
            "Epoch 20/20\n",
            "200/200 [==============================] - 4s 19ms/step - loss: 0.4812 - accuracy: 0.7626 - val_loss: 0.5832 - val_accuracy: 0.7197\n"
          ]
        },
        {
          "output_type": "execute_result",
          "data": {
            "text/plain": [
              "<keras.callbacks.History at 0x7f2555338910>"
            ]
          },
          "metadata": {},
          "execution_count": 130
        }
      ]
    },
    {
      "cell_type": "code",
      "source": [
        "# print(model_history.history.keys())\n",
        "# # summarize history for accuracy\n",
        "# plt.plot(model_history.history['acc'])\n",
        "# plt.plot(model_history.history['val_acc'])\n",
        "# plt.title('model accuracy')\n",
        "# plt.ylabel('accuracy')\n",
        "# plt.xlabel('epoch')\n",
        "# plt.legend(['train', 'test'], loc='upper left')\n",
        "# plt.show()\n",
        "\n",
        "# # summarize history for loss\n",
        "# plt.plot(model_history.history['loss'])\n",
        "# plt.plot(model_history.history['val_loss'])\n",
        "# plt.title('model loss')\n",
        "# plt.ylabel('loss')\n",
        "# plt.xlabel('epoch')\n",
        "# plt.legend(['train', 'test'], loc='upper left')\n",
        "# plt.show()\n",
        "\n",
        "\n",
        "\n",
        "\n",
        "\n",
        "# **for plotting we can use the above codee**"
      ],
      "metadata": {
        "id": "BlYfRKGwPCaT"
      },
      "execution_count": 131,
      "outputs": []
    },
    {
      "cell_type": "code",
      "source": [
        "y_pred = model.predict(X_test)\n",
        "y_pred = np.argmax(y_pred,axis=-1)\n",
        "y_pred[:10]"
      ],
      "metadata": {
        "colab": {
          "base_uri": "https://localhost:8080/"
        },
        "id": "-Jj6A2N-Qd_a",
        "outputId": "dc47ca7e-e8a1-4236-e28b-36e08fe3716c"
      },
      "execution_count": 132,
      "outputs": [
        {
          "output_type": "execute_result",
          "data": {
            "text/plain": [
              "array([0, 0, 0, 0, 0, 0, 0, 0, 0, 0])"
            ]
          },
          "metadata": {},
          "execution_count": 132
        }
      ]
    },
    {
      "cell_type": "code",
      "source": [
        "y_test[:10]"
      ],
      "metadata": {
        "colab": {
          "base_uri": "https://localhost:8080/"
        },
        "id": "5A4HryLOQeDN",
        "outputId": "6a5a4942-2c28-4fa3-aa1d-6b10cf71660d"
      },
      "execution_count": 133,
      "outputs": [
        {
          "output_type": "execute_result",
          "data": {
            "text/plain": [
              "array([1, 0, 0, 0, 1, 1, 0, 1, 1, 1])"
            ]
          },
          "metadata": {},
          "execution_count": 133
        }
      ]
    },
    {
      "cell_type": "code",
      "source": [
        "from sklearn.metrics import accuracy_score\n",
        "accuracy_score(y_test,y_pred)"
      ],
      "metadata": {
        "colab": {
          "base_uri": "https://localhost:8080/"
        },
        "id": "fxumQF_8SX2k",
        "outputId": "32fcb8b2-1ce7-46e2-8262-d3c97dea7794"
      },
      "execution_count": 134,
      "outputs": [
        {
          "output_type": "execute_result",
          "data": {
            "text/plain": [
              "0.566350710900474"
            ]
          },
          "metadata": {},
          "execution_count": 134
        }
      ]
    },
    {
      "cell_type": "code",
      "source": [
        "y_pred_model_1 = model_1.predict(X_test)\n",
        "# y_pred_model_1 = np.argmax(y_pred_model_1,axis=1)\n",
        "y_pred_model_1[:10]"
      ],
      "metadata": {
        "colab": {
          "base_uri": "https://localhost:8080/"
        },
        "id": "UzAJM5hCSb3Y",
        "outputId": "6f6a1e51-c418-423a-f08d-e386532e047b"
      },
      "execution_count": 135,
      "outputs": [
        {
          "output_type": "execute_result",
          "data": {
            "text/plain": [
              "array([[0.7764816 ],\n",
              "       [0.21489157],\n",
              "       [0.29211646],\n",
              "       [0.55206966],\n",
              "       [0.97464865],\n",
              "       [0.85499716],\n",
              "       [0.56736994],\n",
              "       [0.6968153 ],\n",
              "       [0.03117529],\n",
              "       [0.35826057]], dtype=float32)"
            ]
          },
          "metadata": {},
          "execution_count": 135
        }
      ]
    },
    {
      "cell_type": "code",
      "source": [
        "y_test[:10]"
      ],
      "metadata": {
        "colab": {
          "base_uri": "https://localhost:8080/"
        },
        "id": "klGeaF10UBKY",
        "outputId": "9a536a2d-6f52-4659-be03-d2406e1fa2b1"
      },
      "execution_count": 136,
      "outputs": [
        {
          "output_type": "execute_result",
          "data": {
            "text/plain": [
              "array([1, 0, 0, 0, 1, 1, 0, 1, 1, 1])"
            ]
          },
          "metadata": {},
          "execution_count": 136
        }
      ]
    },
    {
      "cell_type": "code",
      "source": [
        "from sklearn.metrics import accuracy_score\n",
        "accuracy_score(y_test,np.argmax(y_pred_model_1,axis=-1))"
      ],
      "metadata": {
        "colab": {
          "base_uri": "https://localhost:8080/"
        },
        "id": "qkYsltdNUEcL",
        "outputId": "26353d5c-66cf-47d4-c97f-0bb12dc2389d"
      },
      "execution_count": 137,
      "outputs": [
        {
          "output_type": "execute_result",
          "data": {
            "text/plain": [
              "0.566350710900474"
            ]
          },
          "metadata": {},
          "execution_count": 137
        }
      ]
    },
    {
      "cell_type": "code",
      "source": [
        "from sklearn.metrics import roc_auc_score\n",
        "roc_auc_score(y_test,y_pred_model_1)"
      ],
      "metadata": {
        "colab": {
          "base_uri": "https://localhost:8080/"
        },
        "id": "99q3IxUGURmr",
        "outputId": "3731a193-646d-4111-c810-b6e58f52a549"
      },
      "execution_count": 138,
      "outputs": [
        {
          "output_type": "execute_result",
          "data": {
            "text/plain": [
              "0.7719718034897403"
            ]
          },
          "metadata": {},
          "execution_count": 138
        }
      ]
    },
    {
      "cell_type": "code",
      "source": [
        "df[\"label\"].value_counts()"
      ],
      "metadata": {
        "colab": {
          "base_uri": "https://localhost:8080/"
        },
        "id": "lPipX1yMUw0s",
        "outputId": "5f1c3cba-c78b-4731-94ba-5a4803532f15"
      },
      "execution_count": 139,
      "outputs": [
        {
          "output_type": "execute_result",
          "data": {
            "text/plain": [
              "0    10361\n",
              "1     7924\n",
              "Name: label, dtype: int64"
            ]
          },
          "metadata": {},
          "execution_count": 139
        }
      ]
    },
    {
      "cell_type": "code",
      "source": [
        ""
      ],
      "metadata": {
        "id": "h7sYzSOcU0RL"
      },
      "execution_count": 139,
      "outputs": []
    },
    {
      "cell_type": "code",
      "source": [
        ""
      ],
      "metadata": {
        "id": "M-4SLoiFYBsl"
      },
      "execution_count": 139,
      "outputs": []
    },
    {
      "cell_type": "code",
      "source": [
        ""
      ],
      "metadata": {
        "id": "2O9XIluCl1RM"
      },
      "execution_count": null,
      "outputs": []
    },
    {
      "cell_type": "code",
      "source": [
        ""
      ],
      "metadata": {
        "id": "8eeif9_jl1Vg"
      },
      "execution_count": null,
      "outputs": []
    }
  ],
  "metadata": {
    "accelerator": "GPU",
    "colab": {
      "name": "NLP_TOTAL_2.ipynb",
      "provenance": [],
      "authorship_tag": "ABX9TyM7Zh9F8Z+rP0no4kOAUCr3"
    },
    "kernelspec": {
      "display_name": "Python 3",
      "name": "python3"
    },
    "language_info": {
      "name": "python"
    }
  },
  "nbformat": 4,
  "nbformat_minor": 0
}
